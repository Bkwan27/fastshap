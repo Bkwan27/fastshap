{
 "cells": [
  {
   "cell_type": "code",
   "execution_count": 1,
   "metadata": {},
   "outputs": [],
   "source": [
    "import torch\n",
    "import time\n",
    "import numpy as np\n",
    "import matplotlib.pyplot as plt\n",
    "from torch.distributions.categorical import Categorical\n",
    "import pandas as pd\n",
    "import plotly.express as px"
   ]
  },
  {
   "cell_type": "code",
   "execution_count": 2,
   "metadata": {},
   "outputs": [],
   "source": [
    "class ShapleySamplerOriginal:\n",
    "    \"\"\"\n",
    "    For sampling player subsets from the Shapley distribution.\n",
    "\n",
    "    Args:\n",
    "      num_players: number of players.\n",
    "    \"\"\"\n",
    "\n",
    "    def __init__(self, num_players):\n",
    "        arange = torch.arange(1, num_players)\n",
    "        w = 1 / (arange * (num_players - arange))\n",
    "        w = w / torch.sum(w)\n",
    "        self.categorical = Categorical(probs=w)\n",
    "        self.num_players = num_players\n",
    "        self.tril = torch.tril(\n",
    "            torch.ones(num_players - 1, num_players, dtype=torch.float32), diagonal=0\n",
    "        )\n",
    "\n",
    "    def sample(self, batch_size, paired_sampling):\n",
    "        \"\"\"\n",
    "        Generate sample.\n",
    "\n",
    "        Args:\n",
    "          batch_size: number of samples.\n",
    "          paired_sampling: whether to use paired sampling.\n",
    "        \"\"\"\n",
    "        num_included = 1 + self.categorical.sample([batch_size])\n",
    "        S = self.tril[num_included - 1]\n",
    "        # TODO ideally avoid for loops\n",
    "        for i in range(batch_size):\n",
    "            if paired_sampling and i % 2 == 1:\n",
    "                S[i] = 1 - S[i - 1]\n",
    "            else:\n",
    "                S[i] = S[i, torch.randperm(self.num_players)]\n",
    "        return S\n",
    "\n",
    "\n",
    "class ShapleySamplerArgSortCPU:\n",
    "    \"\"\"\n",
    "    For sampling player subsets from the Shapley distribution.\n",
    "\n",
    "    Args:\n",
    "      num_players: number of players.\n",
    "    \"\"\"\n",
    "\n",
    "    def __init__(self, num_players):\n",
    "        arange = torch.arange(1, num_players)\n",
    "        w = 1 / (arange * (num_players - arange))\n",
    "        w = w / torch.sum(w)\n",
    "        self.categorical = Categorical(probs=w)\n",
    "        self.num_players = num_players\n",
    "        self.tril = torch.tril(\n",
    "            torch.ones(num_players - 1, num_players, dtype=torch.float32), diagonal=0\n",
    "        )\n",
    "\n",
    "    def sample(self, batch_size, paired_sampling):\n",
    "        \"\"\"\n",
    "        Generate sample.\n",
    "\n",
    "        Args:\n",
    "          batch_size: number of samples.\n",
    "          paired_sampling: whether to use paired sampling.\n",
    "        \"\"\"\n",
    "        num_included = 1 + self.categorical.sample([batch_size])\n",
    "        S = self.tril[num_included - 1]\n",
    "        # Generate a random ordering of indices for each row\n",
    "        indices = torch.argsort(torch.rand_like(S), dim=-1)\n",
    "        # Execute the permutation\n",
    "        S = torch.gather(S, dim=-1, index=indices)\n",
    "        if paired_sampling:\n",
    "            S[1::2] = 1 - S[0 : batch_size - 1 : 2]\n",
    "        return S\n",
    "\n",
    "\n",
    "class ShapleySamplerArgSortGPU:\n",
    "    \"\"\"\n",
    "    For sampling player subsets from the Shapley distribution.\n",
    "\n",
    "    Args:\n",
    "      num_players: number of players.\n",
    "    \"\"\"\n",
    "\n",
    "    def __init__(self, num_players):\n",
    "        arange = torch.arange(1, num_players)\n",
    "        w = 1 / (arange * (num_players - arange))\n",
    "        w = w / torch.sum(w)\n",
    "        self.categorical = Categorical(probs=w)\n",
    "        self.num_players = num_players\n",
    "        self.tril = torch.tril(\n",
    "            torch.ones(num_players - 1, num_players, dtype=torch.float32), diagonal=0\n",
    "        ).to(\"cuda\")\n",
    "\n",
    "    def sample(self, batch_size, paired_sampling):\n",
    "        \"\"\"\n",
    "        Generate sample.\n",
    "\n",
    "        Args:\n",
    "          batch_size: number of samples.\n",
    "          paired_sampling: whether to use paired sampling.\n",
    "        \"\"\"\n",
    "        num_included = (1 + self.categorical.sample([batch_size])).to(\"cuda\")\n",
    "        S = self.tril[num_included - 1]\n",
    "        # Generate a random ordering of indices for each row\n",
    "        indices = torch.argsort(torch.rand_like(S), dim=-1)\n",
    "        # Execute the permutation\n",
    "        S = torch.gather(S, dim=-1, index=indices)\n",
    "        if paired_sampling:\n",
    "            S[1::2] = 1 - S[0 : batch_size - 1 : 2]\n",
    "        return S\n",
    "\n",
    "\n",
    "class ShapleySamplerMultinomialCPU:\n",
    "    \"\"\"\n",
    "    For sampling player subsets from the Shapley distribution.\n",
    "\n",
    "    Args:\n",
    "      num_players: number of players.\n",
    "    \"\"\"\n",
    "\n",
    "    def __init__(self, num_players):\n",
    "        arange = torch.arange(1, num_players)\n",
    "        w = 1 / (arange * (num_players - arange))\n",
    "        w = w / torch.sum(w)\n",
    "        self.categorical = Categorical(probs=w)\n",
    "        self.num_players = num_players\n",
    "        self.tril = torch.tril(\n",
    "            torch.ones(num_players - 1, num_players, dtype=torch.float32), diagonal=0\n",
    "        )\n",
    "\n",
    "    def sample(self, batch_size, paired_sampling):\n",
    "        \"\"\"\n",
    "        Generate sample.\n",
    "\n",
    "        Args:\n",
    "          batch_size: number of samples.\n",
    "          paired_sampling: whether to use paired sampling.\n",
    "        \"\"\"\n",
    "        num_included = 1 + self.categorical.sample([batch_size])\n",
    "        S = self.tril[num_included - 1]\n",
    "        # Generate a random ordering of indices for each row\n",
    "        ix_weights = torch.ones(batch_size, self.num_players)\n",
    "        indices = torch.multinomial(ix_weights, self.num_players, replacement=False)\n",
    "        # Execute the permutation\n",
    "        S = torch.gather(S, dim=-1, index=indices)\n",
    "        if paired_sampling:\n",
    "            S[1::2] = 1 - S[0 : batch_size - 1 : 2]\n",
    "        return S\n",
    "\n",
    "\n",
    "class ShapleySamplerMultinomialGPU:\n",
    "    \"\"\"\n",
    "    For sampling player subsets from the Shapley distribution.\n",
    "\n",
    "    Args:\n",
    "      num_players: number of players.\n",
    "    \"\"\"\n",
    "\n",
    "    def __init__(self, num_players):\n",
    "        arange = torch.arange(1, num_players)\n",
    "        w = 1 / (arange * (num_players - arange))\n",
    "        w = w / torch.sum(w)\n",
    "        self.categorical = Categorical(probs=w)\n",
    "        self.num_players = num_players\n",
    "        self.tril = torch.tril(\n",
    "            torch.ones(num_players - 1, num_players, dtype=torch.float32), diagonal=0\n",
    "        ).to(\"cuda\")\n",
    "\n",
    "    def sample(self, batch_size, paired_sampling):\n",
    "        \"\"\"\n",
    "        Generate sample.\n",
    "\n",
    "        Args:\n",
    "          batch_size: number of samples.\n",
    "          paired_sampling: whether to use paired sampling.\n",
    "        \"\"\"\n",
    "        num_included = (1 + self.categorical.sample([batch_size])).to(\"cuda\")\n",
    "        S = self.tril[num_included - 1]\n",
    "        # Generate a random ordering of indices for each row\n",
    "        ix_weights = torch.ones(batch_size, self.num_players).to(\"cuda\")\n",
    "        indices = torch.multinomial(ix_weights, self.num_players, replacement=False)\n",
    "        # Execute the permutation\n",
    "        S = torch.gather(S, dim=-1, index=indices)\n",
    "        if paired_sampling:\n",
    "            S[1::2] = 1 - S[0 : batch_size - 1 : 2]\n",
    "        return S\n",
    "\n",
    "\n",
    "class ShapleySamplerThreshCPU:\n",
    "    \"\"\"\n",
    "    For sampling player subsets from the Shapley distribution.\n",
    "\n",
    "    Args:\n",
    "      num_players: number of players.\n",
    "    \"\"\"\n",
    "\n",
    "    def __init__(self, num_players):\n",
    "        arange = torch.arange(1, num_players)\n",
    "        w = 1 / (arange * (num_players - arange))\n",
    "        w = w / torch.sum(w)\n",
    "        self.categorical = Categorical(probs=w)\n",
    "        self.num_players = num_players\n",
    "\n",
    "    def sample(self, batch_size, paired_sampling):\n",
    "        \"\"\"\n",
    "        Generate sample.\n",
    "\n",
    "        Args:\n",
    "          batch_size: number of samples.\n",
    "          paired_sampling: whether to use paired sampling.\n",
    "        \"\"\"\n",
    "        # 'num_included' ranges from 0...num_players-2, corresponds to selecting 1...num_players-1\n",
    "        num_included = self.categorical.sample([batch_size])\n",
    "        # We will be generating (batch_size x self.num_players-2) samples, \n",
    "        # and we want the expected value of the sum of each row\n",
    "        # to be the 'num_included' value for that row\n",
    "        thresh = (num_included / (self.num_players - 2)).reshape(-1, 1) \n",
    "        # random test values\n",
    "        test = torch.rand(batch_size, self.num_players - 2)\n",
    "        S_partial = (thresh > test).float()\n",
    "        S = torch.zeros(batch_size, self.num_players)\n",
    "        S[:, 1] = 1  # First column is a zero, second column is a 1\n",
    "        S[:, 2:] = S_partial  # remaining columns are 0-1\n",
    "        # we will now rotate each row by a random distance using gather\n",
    "        # generate a [[0,...num_players-1], [0,...,num_players-1],...] matrix\n",
    "        shifter = torch.arange(self.num_players).reshape(1, -1).tile(batch_size, 1)\n",
    "        # rotate the indices by a random amount\n",
    "        shifter = (\n",
    "            shifter + torch.randint(0, self.num_players, (batch_size, 1))\n",
    "        ) % self.num_players\n",
    "        S = torch.gather(S, dim=-1, index=shifter)\n",
    "\n",
    "        if paired_sampling:\n",
    "            S[1::2] = 1 - S[0 : batch_size - 1 : 2]\n",
    "        return S\n",
    "\n",
    "\n",
    "class ShapleySamplerThreshGPU:\n",
    "    \"\"\"\n",
    "    For sampling player subsets from the Shapley distribution.\n",
    "\n",
    "    Args:\n",
    "      num_players: number of players.\n",
    "    \"\"\"\n",
    "\n",
    "    def __init__(self, num_players):\n",
    "        arange = torch.arange(1, num_players)\n",
    "        w = 1 / (arange * (num_players - arange))\n",
    "        w = w / torch.sum(w)\n",
    "        self.categorical = Categorical(probs=w)\n",
    "        self.num_players = num_players\n",
    "\n",
    "    def sample(self, batch_size, paired_sampling):\n",
    "        \"\"\"\n",
    "        Generate sample.  \n",
    "\n",
    "        Args:\n",
    "          batch_size: number of samples.\n",
    "          paired_sampling: whether to use paired sampling.\n",
    "        \"\"\"\n",
    "        # 'num_included' ranges from 0...num_players-2, corresponds to selecting 1...num_players-1\n",
    "        num_included = (self.categorical.sample([batch_size])).to(\"cuda\")\n",
    "        # We will be generating (batch_size x self.num_players-2) samples, \n",
    "        # and we want the expected value of the sum of each row\n",
    "        # to be the 'num_included' value for that row\n",
    "        thresh = (num_included / (self.num_players - 2)).reshape(-1, 1)\n",
    "        # random test values\n",
    "        test = torch.rand(batch_size, self.num_players - 2).to(\"cuda\")\n",
    "        S_partial = (thresh > test).float()\n",
    "        S = torch.zeros(batch_size, self.num_players).to(\"cuda\")\n",
    "        S[:, 1] = 1  # First column is a zero, second column is a 1\n",
    "        S[:, 2:] = S_partial  # remaining columns are 0-1\n",
    "        # we will now rotate each row by a random distance using gather\n",
    "        # generate a [[0,...num_players-1], [0,...,num_players-1],...] matrix\n",
    "        shifter = (\n",
    "            torch.arange(self.num_players).to(\"cuda\").reshape(1, -1).tile(batch_size, 1)\n",
    "        )\n",
    "        # rotate the indices by a random amount\n",
    "        shifter = (\n",
    "            shifter + torch.randint(0, self.num_players, (batch_size, 1)).to(\"cuda\")\n",
    "        ) % self.num_players\n",
    "        # perform the row-level of rotation\n",
    "        S = torch.gather(S, dim=-1, index=shifter)\n",
    "\n",
    "        if paired_sampling:\n",
    "            S[1::2] = 1 - S[0 : batch_size - 1 : 2]\n",
    "        return S\n",
    "\n",
    "class ShapleySamplerNumpyPermuteCPU:\n",
    "    \"\"\"\n",
    "    For sampling player subsets from the Shapley distribution.\n",
    "\n",
    "    Args:\n",
    "      num_players: number of players.\n",
    "    \"\"\"\n",
    "\n",
    "    def __init__(self, num_players):\n",
    "        arange = torch.arange(1, num_players)\n",
    "        w = 1 / (arange * (num_players - arange))\n",
    "        w = w / torch.sum(w)\n",
    "        self.categorical = Categorical(probs=w)\n",
    "        self.num_players = num_players\n",
    "        self.tril = np.tril(\n",
    "            np.ones((num_players - 1, num_players), dtype=np.float32), k=0\n",
    "        )\n",
    "        self.rng = np.random.default_rng()\n",
    "\n",
    "    def sample(self, batch_size, paired_sampling):\n",
    "        \"\"\"\n",
    "        Generate sample.\n",
    "\n",
    "        Args:\n",
    "          batch_size: number of samples.\n",
    "          paired_sampling: whether to use paired sampling.\n",
    "        \"\"\"\n",
    "        num_included = 1 + self.categorical.sample([batch_size])\n",
    "        S = self.tril[num_included - 1]\n",
    "        # Generate a random ordering of indices for each row\n",
    "        S = self.rng.permuted(S,axis=-1)\n",
    "        S = torch.from_numpy(S)\n",
    "        if paired_sampling:\n",
    "            S[1::2] = 1 - S[0 : batch_size - 1 : 2]\n",
    "        return S\n"
   ]
  },
  {
   "cell_type": "code",
   "execution_count": 3,
   "metadata": {},
   "outputs": [],
   "source": [
    "samplers = [\n",
    "    ShapleySamplerOriginal,\n",
    "    ShapleySamplerArgSortCPU,\n",
    "    ShapleySamplerMultinomialCPU,\n",
    "    ShapleySamplerThreshCPU,\n",
    "    ShapleySamplerNumpyPermuteCPU,\n",
    "    ShapleySamplerArgSortGPU,\n",
    "    ShapleySamplerMultinomialGPU,\n",
    "    ShapleySamplerThreshGPU,\n",
    "]"
   ]
  },
  {
   "cell_type": "code",
   "execution_count": 4,
   "metadata": {},
   "outputs": [
    {
     "data": {
      "image/png": "[encoded data removed]",
      "text/plain": [
       "<Figure size 640x480 with 1 Axes>"
      ]
     },
     "metadata": {},
     "output_type": "display_data"
    }
   ],
   "source": [
    "n = 12\n",
    "samplers_distro_test = [Sampler(n) for Sampler in samplers if 'GPU' not in Sampler.__name__]\n",
    "counts = [\n",
    "    s.sample(100000, paired_sampling=False).sum(dim=1).cpu()\n",
    "    for s in samplers_distro_test\n",
    "]\n",
    "plt.hist(\n",
    "    counts,\n",
    "    bins=n - 1,\n",
    "    label=[Sampler.__class__.__name__ for Sampler in samplers_distro_test],\n",
    ")\n",
    "plt.legend()\n",
    "plt.title(\"Distribution of Subset Sizes Generated [num_players = 12]\")\n",
    "plt.xlabel(\"Subset Size\")\n",
    "plt.show()"
   ]
  },
  {
   "cell_type": "code",
   "execution_count": 5,
   "metadata": {},
   "outputs": [
    {
     "data": {
      "image/png": "[encoded data removed]",
      "text/plain": [
       "<Figure size 640x480 with 1 Axes>"
      ]
     },
     "metadata": {},
     "output_type": "display_data"
    }
   ],
   "source": [
    "n = 32\n",
    "samplers_distro_test = [Sampler(n) for Sampler in samplers if 'GPU' not in Sampler.__name__]\n",
    "counts = [\n",
    "    s.sample(100000, paired_sampling=False).sum(dim=1).cpu()\n",
    "    for s in samplers_distro_test\n",
    "]\n",
    "plt.hist(\n",
    "    counts,\n",
    "    bins=n - 1,\n",
    "    label=[Sampler.__class__.__name__ for Sampler in samplers_distro_test],\n",
    ")\n",
    "plt.legend()\n",
    "plt.title(\"Distribution of Subset Sizes Generated [num_players=32]\")\n",
    "plt.xlabel(\"Subset Size\")\n",
    "plt.show()"
   ]
  },
  {
   "cell_type": "code",
   "execution_count": 6,
   "metadata": {},
   "outputs": [],
   "source": [
    "def testSS(Sampler, n, num_players, batch_size):\n",
    "    u = Sampler(num_players)\n",
    "    s = time.time()\n",
    "    for i in range(n):\n",
    "        u.sample(batch_size, paired_sampling=True)\n",
    "    s_per_it = (time.time() - s) / n\n",
    "    return s_per_it"
   ]
  },
  {
   "cell_type": "code",
   "execution_count": 7,
   "metadata": {},
   "outputs": [],
   "source": [
    "num_players = [16, 32, 64, 128, 256, 512]\n",
    "batch_sizes = [16, 32, 64, 128, 256]\n",
    "results = []\n",
    "for i, ShapSamp in enumerate(samplers):\n",
    "    for p in num_players:\n",
    "        for b in batch_sizes:\n",
    "            results.append(\n",
    "                (i, p, b, testSS(ShapSamp, n=100, num_players=p, batch_size=b))\n",
    "            )\n",
    "results = pd.DataFrame(\n",
    "    np.array(results), columns=[\"Sampler\", \"Number of Players\", \"Batch Size\", \"runtime\"]\n",
    ")"
   ]
  },
  {
   "cell_type": "code",
   "execution_count": 8,
   "metadata": {},
   "outputs": [],
   "source": [
    "results[\"Number of Players\"] = results[\"Number of Players\"].astype(int)\n",
    "results[\"Batch Size (log2 scale)\"] = np.log2(results[\"Batch Size\"])\n",
    "results[\"Number of Players (log2 scale)\"] = np.log2(results[\"Number of Players\"])\n",
    "results[\"Runtime (ms/invocation)\"] = results[\"runtime\"] * 1e3\n",
    "results[\"Sampler Algo\"] = (\n",
    "    results[\"Sampler\"]\n",
    "    .astype(int)\n",
    "    .map(\n",
    "        {\n",
    "            i: S.__name__.split(\"ShapleySampler\")[1] for i,S in enumerate(samplers)\n",
    "        }\n",
    "    )\n",
    ")"
   ]
  },
  {
   "cell_type": "code",
   "execution_count": 9,
   "metadata": {},
   "outputs": [
    {
     "data": {
      "application/vnd.plotly.v1+json": {
       "config": {
        "plotlyServerURL": "https://plot.ly"
       },
       "data": [
        {
         "alignmentgroup": "True",
         "hovertemplate": "Sampler Algo=Original<br>Number of Players=16<br>Batch Size (log2 scale)=%{x}<br>Runtime (ms/invocation)=%{y}<extra></extra>",
         "legendgroup": "Original",
         "marker": {
          "color": "#636efa",
          "pattern": {
           "shape": ""
          }
         },
         "name": "Original",
         "offsetgroup": "Original",
         "orientation": "v",
         "showlegend": true,
         "textposition": "auto",
         "type": "bar",
         "x": [
          4,
          5,
          6,
          7,
          8
         ],
         "xaxis": "x4",
         "y": [
          0.46050071716308594,
          0.8314156532287598,
          1.5138697624206543,
          2.8810715675354004,
          5.840883255004883
         ],
         "yaxis": "y4"
        },
        {
         "alignmentgroup": "True",
         "hovertemplate": "Sampler Algo=Original<br>Number of Players=32<br>Batch Size (log2 scale)=%{x}<br>Runtime (ms/invocation)=%{y}<extra></extra>",
         "legendgroup": "Original",
         "marker": {
          "color": "#636efa",
          "pattern": {
           "shape": ""
          }
         },
         "name": "Original",
         "offsetgroup": "Original",
         "orientation": "v",
         "showlegend": false,
         "textposition": "auto",
         "type": "bar",
         "x": [
          4,
          5,
          6,
          7,
          8
         ],
         "xaxis": "x5",
         "y": [
          0.42223453521728516,
          0.8055472373962402,
          1.5375614166259766,
          2.976839542388916,
          5.933780670166016
         ],
         "yaxis": "y5"
        },
        {
         "alignmentgroup": "True",
         "hovertemplate": "Sampler Algo=Original<br>Number of Players=64<br>Batch Size (log2 scale)=%{x}<br>Runtime (ms/invocation)=%{y}<extra></extra>",
         "legendgroup": "Original",
         "marker": {
          "color": "#636efa",
          "pattern": {
           "shape": ""
          }
         },
         "name": "Original",
         "offsetgroup": "Original",
         "orientation": "v",
         "showlegend": false,
         "textposition": "auto",
         "type": "bar",
         "x": [
          4,
          5,
          6,
          7,
          8
         ],
         "xaxis": "x6",
         "y": [
          0.41834115982055664,
          0.8148837089538574,
          1.4992213249206543,
          2.945373058319092,
          5.810706615447998
         ],
         "yaxis": "y6"
        },
        {
         "alignmentgroup": "True",
         "hovertemplate": "Sampler Algo=Original<br>Number of Players=128<br>Batch Size (log2 scale)=%{x}<br>Runtime (ms/invocation)=%{y}<extra></extra>",
         "legendgroup": "Original",
         "marker": {
          "color": "#636efa",
          "pattern": {
           "shape": ""
          }
         },
         "name": "Original",
         "offsetgroup": "Original",
         "orientation": "v",
         "showlegend": false,
         "textposition": "auto",
         "type": "bar",
         "x": [
          4,
          5,
          6,
          7,
          8
         ],
         "xaxis": "x",
         "y": [
          0.4517555236816406,
          0.795140266418457,
          1.5987467765808105,
          2.915663719177246,
          6.112105846405029
         ],
         "yaxis": "y"
        },
        {
         "alignmentgroup": "True",
         "hovertemplate": "Sampler Algo=Original<br>Number of Players=256<br>Batch Size (log2 scale)=%{x}<br>Runtime (ms/invocation)=%{y}<extra></extra>",
         "legendgroup": "Original",
         "marker": {
          "color": "#636efa",
          "pattern": {
           "shape": ""
          }
         },
         "name": "Original",
         "offsetgroup": "Original",
         "orientation": "v",
         "showlegend": false,
         "textposition": "auto",
         "type": "bar",
         "x": [
          4,
          5,
          6,
          7,
          8
         ],
         "xaxis": "x2",
         "y": [
          0.46135425567626953,
          0.85174560546875,
          1.699671745300293,
          3.2077383995056152,
          6.799132823944092
         ],
         "yaxis": "y2"
        },
        {
         "alignmentgroup": "True",
         "hovertemplate": "Sampler Algo=Original<br>Number of Players=512<br>Batch Size (log2 scale)=%{x}<br>Runtime (ms/invocation)=%{y}<extra></extra>",
         "legendgroup": "Original",
         "marker": {
          "color": "#636efa",
          "pattern": {
           "shape": ""
          }
         },
         "name": "Original",
         "offsetgroup": "Original",
         "orientation": "v",
         "showlegend": false,
         "textposition": "auto",
         "type": "bar",
         "x": [
          4,
          5,
          6,
          7,
          8
         ],
         "xaxis": "x3",
         "y": [
          0.5213594436645508,
          0.9121870994567871,
          1.823575496673584,
          3.4270119667053223,
          6.909689903259277
         ],
         "yaxis": "y3"
        },
        {
         "alignmentgroup": "True",
         "hovertemplate": "Sampler Algo=ArgSortCPU<br>Number of Players=16<br>Batch Size (log2 scale)=%{x}<br>Runtime (ms/invocation)=%{y}<extra></extra>",
         "legendgroup": "ArgSortCPU",
         "marker": {
          "color": "#EF553B",
          "pattern": {
           "shape": ""
          }
         },
         "name": "ArgSortCPU",
         "offsetgroup": "ArgSortCPU",
         "orientation": "v",
         "showlegend": true,
         "textposition": "auto",
         "type": "bar",
         "x": [
          4,
          5,
          6,
          7,
          8
         ],
         "xaxis": "x4",
         "y": [
          0.11012077331542969,
          0.12029409408569336,
          0.14310121536254883,
          0.2151632308959961,
          0.2926778793334961
         ],
         "yaxis": "y4"
        },
        {
         "alignmentgroup": "True",
         "hovertemplate": "Sampler Algo=ArgSortCPU<br>Number of Players=32<br>Batch Size (log2 scale)=%{x}<br>Runtime (ms/invocation)=%{y}<extra></extra>",
         "legendgroup": "ArgSortCPU",
         "marker": {
          "color": "#EF553B",
          "pattern": {
           "shape": ""
          }
         },
         "name": "ArgSortCPU",
         "offsetgroup": "ArgSortCPU",
         "orientation": "v",
         "showlegend": false,
         "textposition": "auto",
         "type": "bar",
         "x": [
          4,
          5,
          6,
          7,
          8
         ],
         "xaxis": "x5",
         "y": [
          0.1504230499267578,
          0.1672959327697754,
          0.23570775985717773,
          0.37369251251220703,
          0.5520462989807129
         ],
         "yaxis": "y5"
        },
        {
         "alignmentgroup": "True",
         "hovertemplate": "Sampler Algo=ArgSortCPU<br>Number of Players=64<br>Batch Size (log2 scale)=%{x}<br>Runtime (ms/invocation)=%{y}<extra></extra>",
         "legendgroup": "ArgSortCPU",
         "marker": {
          "color": "#EF553B",
          "pattern": {
           "shape": ""
          }
         },
         "name": "ArgSortCPU",
         "offsetgroup": "ArgSortCPU",
         "orientation": "v",
         "showlegend": false,
         "textposition": "auto",
         "type": "bar",
         "x": [
          4,
          5,
          6,
          7,
          8
         ],
         "xaxis": "x6",
         "y": [
          0.19558191299438477,
          0.23545026779174805,
          0.36682605743408203,
          0.6132245063781738,
          1.1515402793884277
         ],
         "yaxis": "y6"
        },
        {
         "alignmentgroup": "True",
         "hovertemplate": "Sampler Algo=ArgSortCPU<br>Number of Players=128<br>Batch Size (log2 scale)=%{x}<br>Runtime (ms/invocation)=%{y}<extra></extra>",
         "legendgroup": "ArgSortCPU",
         "marker": {
          "color": "#EF553B",
          "pattern": {
           "shape": ""
          }
         },
         "name": "ArgSortCPU",
         "offsetgroup": "ArgSortCPU",
         "orientation": "v",
         "showlegend": false,
         "textposition": "auto",
         "type": "bar",
         "x": [
          4,
          5,
          6,
          7,
          8
         ],
         "xaxis": "x",
         "y": [
          0.290374755859375,
          0.4614853858947754,
          0.7869386672973633,
          1.3801884651184082,
          2.6486992835998535
         ],
         "yaxis": "y"
        },
        {
         "alignmentgroup": "True",
         "hovertemplate": "Sampler Algo=ArgSortCPU<br>Number of Players=256<br>Batch Size (log2 scale)=%{x}<br>Runtime (ms/invocation)=%{y}<extra></extra>",
         "legendgroup": "ArgSortCPU",
         "marker": {
          "color": "#EF553B",
          "pattern": {
           "shape": ""
          }
         },
         "name": "ArgSortCPU",
         "offsetgroup": "ArgSortCPU",
         "orientation": "v",
         "showlegend": false,
         "textposition": "auto",
         "type": "bar",
         "x": [
          4,
          5,
          6,
          7,
          8
         ],
         "xaxis": "x2",
         "y": [
          0.5119752883911133,
          0.8653712272644043,
          1.6041111946105957,
          3.0681657791137695,
          3.393547534942627
         ],
         "yaxis": "y2"
        },
        {
         "alignmentgroup": "True",
         "hovertemplate": "Sampler Algo=ArgSortCPU<br>Number of Players=512<br>Batch Size (log2 scale)=%{x}<br>Runtime (ms/invocation)=%{y}<extra></extra>",
         "legendgroup": "ArgSortCPU",
         "marker": {
          "color": "#EF553B",
          "pattern": {
           "shape": ""
          }
         },
         "name": "ArgSortCPU",
         "offsetgroup": "ArgSortCPU",
         "orientation": "v",
         "showlegend": false,
         "textposition": "auto",
         "type": "bar",
         "x": [
          4,
          5,
          6,
          7,
          8
         ],
         "xaxis": "x3",
         "y": [
          0.9615039825439453,
          1.8600940704345703,
          3.56001615524292,
          3.836796283721924,
          4.653191566467285
         ],
         "yaxis": "y3"
        },
        {
         "alignmentgroup": "True",
         "hovertemplate": "Sampler Algo=MultinomialCPU<br>Number of Players=16<br>Batch Size (log2 scale)=%{x}<br>Runtime (ms/invocation)=%{y}<extra></extra>",
         "legendgroup": "MultinomialCPU",
         "marker": {
          "color": "#00cc96",
          "pattern": {
           "shape": ""
          }
         },
         "name": "MultinomialCPU",
         "offsetgroup": "MultinomialCPU",
         "orientation": "v",
         "showlegend": true,
         "textposition": "auto",
         "type": "bar",
         "x": [
          4,
          5,
          6,
          7,
          8
         ],
         "xaxis": "x4",
         "y": [
          0.14012813568115234,
          0.16530752182006836,
          0.17522573471069336,
          0.21032094955444336,
          0.2941250801086426
         ],
         "yaxis": "y4"
        },
        {
         "alignmentgroup": "True",
         "hovertemplate": "Sampler Algo=MultinomialCPU<br>Number of Players=32<br>Batch Size (log2 scale)=%{x}<br>Runtime (ms/invocation)=%{y}<extra></extra>",
         "legendgroup": "MultinomialCPU",
         "marker": {
          "color": "#00cc96",
          "pattern": {
           "shape": ""
          }
         },
         "name": "MultinomialCPU",
         "offsetgroup": "MultinomialCPU",
         "orientation": "v",
         "showlegend": false,
         "textposition": "auto",
         "type": "bar",
         "x": [
          4,
          5,
          6,
          7,
          8
         ],
         "xaxis": "x5",
         "y": [
          0.17194271087646484,
          0.18526315689086914,
          0.2264857292175293,
          0.3089427947998047,
          0.4520249366760254
         ],
         "yaxis": "y5"
        },
        {
         "alignmentgroup": "True",
         "hovertemplate": "Sampler Algo=MultinomialCPU<br>Number of Players=64<br>Batch Size (log2 scale)=%{x}<br>Runtime (ms/invocation)=%{y}<extra></extra>",
         "legendgroup": "MultinomialCPU",
         "marker": {
          "color": "#00cc96",
          "pattern": {
           "shape": ""
          }
         },
         "name": "MultinomialCPU",
         "offsetgroup": "MultinomialCPU",
         "orientation": "v",
         "showlegend": false,
         "textposition": "auto",
         "type": "bar",
         "x": [
          4,
          5,
          6,
          7,
          8
         ],
         "xaxis": "x6",
         "y": [
          0.22595643997192383,
          0.2432417869567871,
          0.3524017333984375,
          0.5421876907348633,
          0.961606502532959
         ],
         "yaxis": "y6"
        },
        {
         "alignmentgroup": "True",
         "hovertemplate": "Sampler Algo=MultinomialCPU<br>Number of Players=128<br>Batch Size (log2 scale)=%{x}<br>Runtime (ms/invocation)=%{y}<extra></extra>",
         "legendgroup": "MultinomialCPU",
         "marker": {
          "color": "#00cc96",
          "pattern": {
           "shape": ""
          }
         },
         "name": "MultinomialCPU",
         "offsetgroup": "MultinomialCPU",
         "orientation": "v",
         "showlegend": false,
         "textposition": "auto",
         "type": "bar",
         "x": [
          4,
          5,
          6,
          7,
          8
         ],
         "xaxis": "x",
         "y": [
          0.26530981063842773,
          0.39797306060791016,
          0.617063045501709,
          1.1313700675964355,
          2.051117420196533
         ],
         "yaxis": "y"
        },
        {
         "alignmentgroup": "True",
         "hovertemplate": "Sampler Algo=MultinomialCPU<br>Number of Players=256<br>Batch Size (log2 scale)=%{x}<br>Runtime (ms/invocation)=%{y}<extra></extra>",
         "legendgroup": "MultinomialCPU",
         "marker": {
          "color": "#00cc96",
          "pattern": {
           "shape": ""
          }
         },
         "name": "MultinomialCPU",
         "offsetgroup": "MultinomialCPU",
         "orientation": "v",
         "showlegend": false,
         "textposition": "auto",
         "type": "bar",
         "x": [
          4,
          5,
          6,
          7,
          8
         ],
         "xaxis": "x2",
         "y": [
          0.43032407760620117,
          0.7374167442321777,
          1.2162184715270996,
          2.2380661964416504,
          2.4846696853637695
         ],
         "yaxis": "y2"
        },
        {
         "alignmentgroup": "True",
         "hovertemplate": "Sampler Algo=MultinomialCPU<br>Number of Players=512<br>Batch Size (log2 scale)=%{x}<br>Runtime (ms/invocation)=%{y}<extra></extra>",
         "legendgroup": "MultinomialCPU",
         "marker": {
          "color": "#00cc96",
          "pattern": {
           "shape": ""
          }
         },
         "name": "MultinomialCPU",
         "offsetgroup": "MultinomialCPU",
         "orientation": "v",
         "showlegend": false,
         "textposition": "auto",
         "type": "bar",
         "x": [
          4,
          5,
          6,
          7,
          8
         ],
         "xaxis": "x3",
         "y": [
          0.7638740539550781,
          1.3721323013305664,
          2.479836940765381,
          2.743847370147705,
          3.037445545196533
         ],
         "yaxis": "y3"
        },
        {
         "alignmentgroup": "True",
         "hovertemplate": "Sampler Algo=ThreshCPU<br>Number of Players=16<br>Batch Size (log2 scale)=%{x}<br>Runtime (ms/invocation)=%{y}<extra></extra>",
         "legendgroup": "ThreshCPU",
         "marker": {
          "color": "#ab63fa",
          "pattern": {
           "shape": ""
          }
         },
         "name": "ThreshCPU",
         "offsetgroup": "ThreshCPU",
         "orientation": "v",
         "showlegend": true,
         "textposition": "auto",
         "type": "bar",
         "x": [
          4,
          5,
          6,
          7,
          8
         ],
         "xaxis": "x4",
         "y": [
          0.19015073776245117,
          0.17011642456054688,
          0.20011186599731445,
          0.2065110206604004,
          0.2709078788757324
         ],
         "yaxis": "y4"
        },
        {
         "alignmentgroup": "True",
         "hovertemplate": "Sampler Algo=ThreshCPU<br>Number of Players=32<br>Batch Size (log2 scale)=%{x}<br>Runtime (ms/invocation)=%{y}<extra></extra>",
         "legendgroup": "ThreshCPU",
         "marker": {
          "color": "#ab63fa",
          "pattern": {
           "shape": ""
          }
         },
         "name": "ThreshCPU",
         "offsetgroup": "ThreshCPU",
         "orientation": "v",
         "showlegend": false,
         "textposition": "auto",
         "type": "bar",
         "x": [
          4,
          5,
          6,
          7,
          8
         ],
         "xaxis": "x5",
         "y": [
          0.17500638961791992,
          0.18782854080200195,
          0.19014596939086914,
          0.26799678802490234,
          0.30364990234375
         ],
         "yaxis": "y5"
        },
        {
         "alignmentgroup": "True",
         "hovertemplate": "Sampler Algo=ThreshCPU<br>Number of Players=64<br>Batch Size (log2 scale)=%{x}<br>Runtime (ms/invocation)=%{y}<extra></extra>",
         "legendgroup": "ThreshCPU",
         "marker": {
          "color": "#ab63fa",
          "pattern": {
           "shape": ""
          }
         },
         "name": "ThreshCPU",
         "offsetgroup": "ThreshCPU",
         "orientation": "v",
         "showlegend": false,
         "textposition": "auto",
         "type": "bar",
         "x": [
          4,
          5,
          6,
          7,
          8
         ],
         "xaxis": "x6",
         "y": [
          0.1665663719177246,
          0.1961660385131836,
          0.2164316177368164,
          0.27875423431396484,
          0.41464805603027344
         ],
         "yaxis": "y6"
        },
        {
         "alignmentgroup": "True",
         "hovertemplate": "Sampler Algo=ThreshCPU<br>Number of Players=128<br>Batch Size (log2 scale)=%{x}<br>Runtime (ms/invocation)=%{y}<extra></extra>",
         "legendgroup": "ThreshCPU",
         "marker": {
          "color": "#ab63fa",
          "pattern": {
           "shape": ""
          }
         },
         "name": "ThreshCPU",
         "offsetgroup": "ThreshCPU",
         "orientation": "v",
         "showlegend": false,
         "textposition": "auto",
         "type": "bar",
         "x": [
          4,
          5,
          6,
          7,
          8
         ],
         "xaxis": "x",
         "y": [
          0.19719362258911133,
          0.21784543991088867,
          0.29036998748779297,
          0.4024219512939453,
          0.6656098365783691
         ],
         "yaxis": "y"
        },
        {
         "alignmentgroup": "True",
         "hovertemplate": "Sampler Algo=ThreshCPU<br>Number of Players=256<br>Batch Size (log2 scale)=%{x}<br>Runtime (ms/invocation)=%{y}<extra></extra>",
         "legendgroup": "ThreshCPU",
         "marker": {
          "color": "#ab63fa",
          "pattern": {
           "shape": ""
          }
         },
         "name": "ThreshCPU",
         "offsetgroup": "ThreshCPU",
         "orientation": "v",
         "showlegend": false,
         "textposition": "auto",
         "type": "bar",
         "x": [
          4,
          5,
          6,
          7,
          8
         ],
         "xaxis": "x2",
         "y": [
          0.2142024040222168,
          0.2878904342651367,
          0.40087461471557617,
          0.6457114219665527,
          0.9027576446533203
         ],
         "yaxis": "y2"
        },
        {
         "alignmentgroup": "True",
         "hovertemplate": "Sampler Algo=ThreshCPU<br>Number of Players=512<br>Batch Size (log2 scale)=%{x}<br>Runtime (ms/invocation)=%{y}<extra></extra>",
         "legendgroup": "ThreshCPU",
         "marker": {
          "color": "#ab63fa",
          "pattern": {
           "shape": ""
          }
         },
         "name": "ThreshCPU",
         "offsetgroup": "ThreshCPU",
         "orientation": "v",
         "showlegend": false,
         "textposition": "auto",
         "type": "bar",
         "x": [
          4,
          5,
          6,
          7,
          8
         ],
         "xaxis": "x3",
         "y": [
          0.3115701675415039,
          0.41147470474243164,
          0.655510425567627,
          0.9566593170166016,
          1.7602348327636719
         ],
         "yaxis": "y3"
        },
        {
         "alignmentgroup": "True",
         "hovertemplate": "Sampler Algo=NumpyPermuteCPU<br>Number of Players=16<br>Batch Size (log2 scale)=%{x}<br>Runtime (ms/invocation)=%{y}<extra></extra>",
         "legendgroup": "NumpyPermuteCPU",
         "marker": {
          "color": "#FFA15A",
          "pattern": {
           "shape": ""
          }
         },
         "name": "NumpyPermuteCPU",
         "offsetgroup": "NumpyPermuteCPU",
         "orientation": "v",
         "showlegend": true,
         "textposition": "auto",
         "type": "bar",
         "x": [
          4,
          5,
          6,
          7,
          8
         ],
         "xaxis": "x4",
         "y": [
          0.1300978660583496,
          0.14622211456298828,
          0.14511585235595703,
          0.18024682998657227,
          0.1851367950439453
         ],
         "yaxis": "y4"
        },
        {
         "alignmentgroup": "True",
         "hovertemplate": "Sampler Algo=NumpyPermuteCPU<br>Number of Players=32<br>Batch Size (log2 scale)=%{x}<br>Runtime (ms/invocation)=%{y}<extra></extra>",
         "legendgroup": "NumpyPermuteCPU",
         "marker": {
          "color": "#FFA15A",
          "pattern": {
           "shape": ""
          }
         },
         "name": "NumpyPermuteCPU",
         "offsetgroup": "NumpyPermuteCPU",
         "orientation": "v",
         "showlegend": false,
         "textposition": "auto",
         "type": "bar",
         "x": [
          4,
          5,
          6,
          7,
          8
         ],
         "xaxis": "x5",
         "y": [
          0.1405620574951172,
          0.13065099716186523,
          0.16561031341552734,
          0.1659560203552246,
          0.23018598556518555
         ],
         "yaxis": "y5"
        },
        {
         "alignmentgroup": "True",
         "hovertemplate": "Sampler Algo=NumpyPermuteCPU<br>Number of Players=64<br>Batch Size (log2 scale)=%{x}<br>Runtime (ms/invocation)=%{y}<extra></extra>",
         "legendgroup": "NumpyPermuteCPU",
         "marker": {
          "color": "#FFA15A",
          "pattern": {
           "shape": ""
          }
         },
         "name": "NumpyPermuteCPU",
         "offsetgroup": "NumpyPermuteCPU",
         "orientation": "v",
         "showlegend": false,
         "textposition": "auto",
         "type": "bar",
         "x": [
          4,
          5,
          6,
          7,
          8
         ],
         "xaxis": "x6",
         "y": [
          0.13510704040527344,
          0.15078306198120117,
          0.17688751220703125,
          0.23682594299316406,
          0.34714221954345703
         ],
         "yaxis": "y6"
        },
        {
         "alignmentgroup": "True",
         "hovertemplate": "Sampler Algo=NumpyPermuteCPU<br>Number of Players=128<br>Batch Size (log2 scale)=%{x}<br>Runtime (ms/invocation)=%{y}<extra></extra>",
         "legendgroup": "NumpyPermuteCPU",
         "marker": {
          "color": "#FFA15A",
          "pattern": {
           "shape": ""
          }
         },
         "name": "NumpyPermuteCPU",
         "offsetgroup": "NumpyPermuteCPU",
         "orientation": "v",
         "showlegend": false,
         "textposition": "auto",
         "type": "bar",
         "x": [
          4,
          5,
          6,
          7,
          8
         ],
         "xaxis": "x",
         "y": [
          0.14542102813720703,
          0.17559051513671875,
          0.23753643035888672,
          0.3447389602661133,
          0.5778217315673828
         ],
         "yaxis": "y"
        },
        {
         "alignmentgroup": "True",
         "hovertemplate": "Sampler Algo=NumpyPermuteCPU<br>Number of Players=256<br>Batch Size (log2 scale)=%{x}<br>Runtime (ms/invocation)=%{y}<extra></extra>",
         "legendgroup": "NumpyPermuteCPU",
         "marker": {
          "color": "#FFA15A",
          "pattern": {
           "shape": ""
          }
         },
         "name": "NumpyPermuteCPU",
         "offsetgroup": "NumpyPermuteCPU",
         "orientation": "v",
         "showlegend": false,
         "textposition": "auto",
         "type": "bar",
         "x": [
          4,
          5,
          6,
          7,
          8
         ],
         "xaxis": "x2",
         "y": [
          0.1775813102722168,
          0.23854732513427734,
          0.3401517868041992,
          0.5709505081176758,
          0.9932470321655272
         ],
         "yaxis": "y2"
        },
        {
         "alignmentgroup": "True",
         "hovertemplate": "Sampler Algo=NumpyPermuteCPU<br>Number of Players=512<br>Batch Size (log2 scale)=%{x}<br>Runtime (ms/invocation)=%{y}<extra></extra>",
         "legendgroup": "NumpyPermuteCPU",
         "marker": {
          "color": "#FFA15A",
          "pattern": {
           "shape": ""
          }
         },
         "name": "NumpyPermuteCPU",
         "offsetgroup": "NumpyPermuteCPU",
         "orientation": "v",
         "showlegend": false,
         "textposition": "auto",
         "type": "bar",
         "x": [
          4,
          5,
          6,
          7,
          8
         ],
         "xaxis": "x3",
         "y": [
          0.24004697799682617,
          0.3401374816894531,
          0.5962657928466797,
          1.0159587860107422,
          1.9789934158325195
         ],
         "yaxis": "y3"
        },
        {
         "alignmentgroup": "True",
         "hovertemplate": "Sampler Algo=ArgSortGPU<br>Number of Players=16<br>Batch Size (log2 scale)=%{x}<br>Runtime (ms/invocation)=%{y}<extra></extra>",
         "legendgroup": "ArgSortGPU",
         "marker": {
          "color": "#19d3f3",
          "pattern": {
           "shape": ""
          }
         },
         "name": "ArgSortGPU",
         "offsetgroup": "ArgSortGPU",
         "orientation": "v",
         "showlegend": true,
         "textposition": "auto",
         "type": "bar",
         "x": [
          4,
          5,
          6,
          7,
          8
         ],
         "xaxis": "x4",
         "y": [
          1.6783833503723145,
          0.3607630729675293,
          0.3457975387573242,
          0.3408384323120117,
          0.35117387771606445
         ],
         "yaxis": "y4"
        },
        {
         "alignmentgroup": "True",
         "hovertemplate": "Sampler Algo=ArgSortGPU<br>Number of Players=32<br>Batch Size (log2 scale)=%{x}<br>Runtime (ms/invocation)=%{y}<extra></extra>",
         "legendgroup": "ArgSortGPU",
         "marker": {
          "color": "#19d3f3",
          "pattern": {
           "shape": ""
          }
         },
         "name": "ArgSortGPU",
         "offsetgroup": "ArgSortGPU",
         "orientation": "v",
         "showlegend": false,
         "textposition": "auto",
         "type": "bar",
         "x": [
          4,
          5,
          6,
          7,
          8
         ],
         "xaxis": "x5",
         "y": [
          0.33043384552001953,
          0.5608844757080078,
          0.4379606246948242,
          0.36414623260498047,
          0.35584211349487305
         ],
         "yaxis": "y5"
        },
        {
         "alignmentgroup": "True",
         "hovertemplate": "Sampler Algo=ArgSortGPU<br>Number of Players=64<br>Batch Size (log2 scale)=%{x}<br>Runtime (ms/invocation)=%{y}<extra></extra>",
         "legendgroup": "ArgSortGPU",
         "marker": {
          "color": "#19d3f3",
          "pattern": {
           "shape": ""
          }
         },
         "name": "ArgSortGPU",
         "offsetgroup": "ArgSortGPU",
         "orientation": "v",
         "showlegend": false,
         "textposition": "auto",
         "type": "bar",
         "x": [
          4,
          5,
          6,
          7,
          8
         ],
         "xaxis": "x6",
         "y": [
          0.35553455352783203,
          0.3461170196533203,
          0.3449702262878418,
          0.3556084632873535,
          0.3814578056335449
         ],
         "yaxis": "y6"
        },
        {
         "alignmentgroup": "True",
         "hovertemplate": "Sampler Algo=ArgSortGPU<br>Number of Players=128<br>Batch Size (log2 scale)=%{x}<br>Runtime (ms/invocation)=%{y}<extra></extra>",
         "legendgroup": "ArgSortGPU",
         "marker": {
          "color": "#19d3f3",
          "pattern": {
           "shape": ""
          }
         },
         "name": "ArgSortGPU",
         "offsetgroup": "ArgSortGPU",
         "orientation": "v",
         "showlegend": false,
         "textposition": "auto",
         "type": "bar",
         "x": [
          4,
          5,
          6,
          7,
          8
         ],
         "xaxis": "x",
         "y": [
          0.35407304763793945,
          0.37148475646972656,
          0.35277605056762695,
          0.3267669677734375,
          0.34644126892089844
         ],
         "yaxis": "y"
        },
        {
         "alignmentgroup": "True",
         "hovertemplate": "Sampler Algo=ArgSortGPU<br>Number of Players=256<br>Batch Size (log2 scale)=%{x}<br>Runtime (ms/invocation)=%{y}<extra></extra>",
         "legendgroup": "ArgSortGPU",
         "marker": {
          "color": "#19d3f3",
          "pattern": {
           "shape": ""
          }
         },
         "name": "ArgSortGPU",
         "offsetgroup": "ArgSortGPU",
         "orientation": "v",
         "showlegend": false,
         "textposition": "auto",
         "type": "bar",
         "x": [
          4,
          5,
          6,
          7,
          8
         ],
         "xaxis": "x2",
         "y": [
          0.34215688705444336,
          0.3809332847595215,
          0.3306388854980469,
          0.41129112243652344,
          0.3661012649536133
         ],
         "yaxis": "y2"
        },
        {
         "alignmentgroup": "True",
         "hovertemplate": "Sampler Algo=ArgSortGPU<br>Number of Players=512<br>Batch Size (log2 scale)=%{x}<br>Runtime (ms/invocation)=%{y}<extra></extra>",
         "legendgroup": "ArgSortGPU",
         "marker": {
          "color": "#19d3f3",
          "pattern": {
           "shape": ""
          }
         },
         "name": "ArgSortGPU",
         "offsetgroup": "ArgSortGPU",
         "orientation": "v",
         "showlegend": false,
         "textposition": "auto",
         "type": "bar",
         "x": [
          4,
          5,
          6,
          7,
          8
         ],
         "xaxis": "x3",
         "y": [
          0.36707162857055664,
          0.3506278991699219,
          0.5610108375549316,
          0.36040306091308594,
          0.34060001373291016
         ],
         "yaxis": "y3"
        },
        {
         "alignmentgroup": "True",
         "hovertemplate": "Sampler Algo=MultinomialGPU<br>Number of Players=16<br>Batch Size (log2 scale)=%{x}<br>Runtime (ms/invocation)=%{y}<extra></extra>",
         "legendgroup": "MultinomialGPU",
         "marker": {
          "color": "#FF6692",
          "pattern": {
           "shape": ""
          }
         },
         "name": "MultinomialGPU",
         "offsetgroup": "MultinomialGPU",
         "orientation": "v",
         "showlegend": true,
         "textposition": "auto",
         "type": "bar",
         "x": [
          4,
          5,
          6,
          7,
          8
         ],
         "xaxis": "x4",
         "y": [
          1.4444828033447266,
          0.5610442161560059,
          0.9159541130065918,
          0.5508899688720703,
          0.5784416198730469
         ],
         "yaxis": "y4"
        },
        {
         "alignmentgroup": "True",
         "hovertemplate": "Sampler Algo=MultinomialGPU<br>Number of Players=32<br>Batch Size (log2 scale)=%{x}<br>Runtime (ms/invocation)=%{y}<extra></extra>",
         "legendgroup": "MultinomialGPU",
         "marker": {
          "color": "#FF6692",
          "pattern": {
           "shape": ""
          }
         },
         "name": "MultinomialGPU",
         "offsetgroup": "MultinomialGPU",
         "orientation": "v",
         "showlegend": false,
         "textposition": "auto",
         "type": "bar",
         "x": [
          4,
          5,
          6,
          7,
          8
         ],
         "xaxis": "x5",
         "y": [
          0.6209683418273926,
          0.6085085868835449,
          0.6014132499694824,
          0.7378149032592773,
          0.792994499206543
         ],
         "yaxis": "y5"
        },
        {
         "alignmentgroup": "True",
         "hovertemplate": "Sampler Algo=MultinomialGPU<br>Number of Players=64<br>Batch Size (log2 scale)=%{x}<br>Runtime (ms/invocation)=%{y}<extra></extra>",
         "legendgroup": "MultinomialGPU",
         "marker": {
          "color": "#FF6692",
          "pattern": {
           "shape": ""
          }
         },
         "name": "MultinomialGPU",
         "offsetgroup": "MultinomialGPU",
         "orientation": "v",
         "showlegend": false,
         "textposition": "auto",
         "type": "bar",
         "x": [
          4,
          5,
          6,
          7,
          8
         ],
         "xaxis": "x6",
         "y": [
          0.7510828971862793,
          0.7655620574951172,
          0.6761479377746582,
          0.5971026420593262,
          0.6341910362243652
         ],
         "yaxis": "y6"
        },
        {
         "alignmentgroup": "True",
         "hovertemplate": "Sampler Algo=MultinomialGPU<br>Number of Players=128<br>Batch Size (log2 scale)=%{x}<br>Runtime (ms/invocation)=%{y}<extra></extra>",
         "legendgroup": "MultinomialGPU",
         "marker": {
          "color": "#FF6692",
          "pattern": {
           "shape": ""
          }
         },
         "name": "MultinomialGPU",
         "offsetgroup": "MultinomialGPU",
         "orientation": "v",
         "showlegend": false,
         "textposition": "auto",
         "type": "bar",
         "x": [
          4,
          5,
          6,
          7,
          8
         ],
         "xaxis": "x",
         "y": [
          0.5944466590881348,
          0.6035614013671875,
          0.5475497245788574,
          0.5800867080688477,
          0.6140255928039551
         ],
         "yaxis": "y"
        },
        {
         "alignmentgroup": "True",
         "hovertemplate": "Sampler Algo=MultinomialGPU<br>Number of Players=256<br>Batch Size (log2 scale)=%{x}<br>Runtime (ms/invocation)=%{y}<extra></extra>",
         "legendgroup": "MultinomialGPU",
         "marker": {
          "color": "#FF6692",
          "pattern": {
           "shape": ""
          }
         },
         "name": "MultinomialGPU",
         "offsetgroup": "MultinomialGPU",
         "orientation": "v",
         "showlegend": false,
         "textposition": "auto",
         "type": "bar",
         "x": [
          4,
          5,
          6,
          7,
          8
         ],
         "xaxis": "x2",
         "y": [
          0.5856943130493164,
          0.5522894859313965,
          0.5889987945556641,
          0.5775165557861328,
          0.6616926193237305
         ],
         "yaxis": "y2"
        },
        {
         "alignmentgroup": "True",
         "hovertemplate": "Sampler Algo=MultinomialGPU<br>Number of Players=512<br>Batch Size (log2 scale)=%{x}<br>Runtime (ms/invocation)=%{y}<extra></extra>",
         "legendgroup": "MultinomialGPU",
         "marker": {
          "color": "#FF6692",
          "pattern": {
           "shape": ""
          }
         },
         "name": "MultinomialGPU",
         "offsetgroup": "MultinomialGPU",
         "orientation": "v",
         "showlegend": false,
         "textposition": "auto",
         "type": "bar",
         "x": [
          4,
          5,
          6,
          7,
          8
         ],
         "xaxis": "x3",
         "y": [
          0.5809402465820312,
          0.5633068084716797,
          0.6180429458618164,
          0.6513667106628418,
          0.7514524459838867
         ],
         "yaxis": "y3"
        },
        {
         "alignmentgroup": "True",
         "hovertemplate": "Sampler Algo=ThreshGPU<br>Number of Players=16<br>Batch Size (log2 scale)=%{x}<br>Runtime (ms/invocation)=%{y}<extra></extra>",
         "legendgroup": "ThreshGPU",
         "marker": {
          "color": "#B6E880",
          "pattern": {
           "shape": ""
          }
         },
         "name": "ThreshGPU",
         "offsetgroup": "ThreshGPU",
         "orientation": "v",
         "showlegend": true,
         "textposition": "auto",
         "type": "bar",
         "x": [
          4,
          5,
          6,
          7,
          8
         ],
         "xaxis": "x4",
         "y": [
          0.7503175735473633,
          0.5970311164855957,
          0.571448802947998,
          0.5708050727844238,
          0.5797767639160156
         ],
         "yaxis": "y4"
        },
        {
         "alignmentgroup": "True",
         "hovertemplate": "Sampler Algo=ThreshGPU<br>Number of Players=32<br>Batch Size (log2 scale)=%{x}<br>Runtime (ms/invocation)=%{y}<extra></extra>",
         "legendgroup": "ThreshGPU",
         "marker": {
          "color": "#B6E880",
          "pattern": {
           "shape": ""
          }
         },
         "name": "ThreshGPU",
         "offsetgroup": "ThreshGPU",
         "orientation": "v",
         "showlegend": false,
         "textposition": "auto",
         "type": "bar",
         "x": [
          4,
          5,
          6,
          7,
          8
         ],
         "xaxis": "x5",
         "y": [
          0.5370950698852539,
          0.5489611625671387,
          0.5439901351928711,
          0.5665993690490723,
          0.5864620208740234
         ],
         "yaxis": "y5"
        },
        {
         "alignmentgroup": "True",
         "hovertemplate": "Sampler Algo=ThreshGPU<br>Number of Players=64<br>Batch Size (log2 scale)=%{x}<br>Runtime (ms/invocation)=%{y}<extra></extra>",
         "legendgroup": "ThreshGPU",
         "marker": {
          "color": "#B6E880",
          "pattern": {
           "shape": ""
          }
         },
         "name": "ThreshGPU",
         "offsetgroup": "ThreshGPU",
         "orientation": "v",
         "showlegend": false,
         "textposition": "auto",
         "type": "bar",
         "x": [
          4,
          5,
          6,
          7,
          8
         ],
         "xaxis": "x6",
         "y": [
          0.5330944061279297,
          0.5440688133239746,
          0.5678677558898926,
          0.6129002571105957,
          0.6584954261779785
         ],
         "yaxis": "y6"
        },
        {
         "alignmentgroup": "True",
         "hovertemplate": "Sampler Algo=ThreshGPU<br>Number of Players=128<br>Batch Size (log2 scale)=%{x}<br>Runtime (ms/invocation)=%{y}<extra></extra>",
         "legendgroup": "ThreshGPU",
         "marker": {
          "color": "#B6E880",
          "pattern": {
           "shape": ""
          }
         },
         "name": "ThreshGPU",
         "offsetgroup": "ThreshGPU",
         "orientation": "v",
         "showlegend": false,
         "textposition": "auto",
         "type": "bar",
         "x": [
          4,
          5,
          6,
          7,
          8
         ],
         "xaxis": "x",
         "y": [
          0.5636787414550781,
          0.5862808227539062,
          0.6065201759338379,
          0.6554222106933594,
          0.7620739936828613
         ],
         "yaxis": "y"
        },
        {
         "alignmentgroup": "True",
         "hovertemplate": "Sampler Algo=ThreshGPU<br>Number of Players=256<br>Batch Size (log2 scale)=%{x}<br>Runtime (ms/invocation)=%{y}<extra></extra>",
         "legendgroup": "ThreshGPU",
         "marker": {
          "color": "#B6E880",
          "pattern": {
           "shape": ""
          }
         },
         "name": "ThreshGPU",
         "offsetgroup": "ThreshGPU",
         "orientation": "v",
         "showlegend": false,
         "textposition": "auto",
         "type": "bar",
         "x": [
          4,
          5,
          6,
          7,
          8
         ],
         "xaxis": "x2",
         "y": [
          0.5862212181091309,
          0.6095075607299805,
          0.6464338302612305,
          0.7566046714782715,
          1.045379638671875
         ],
         "yaxis": "y2"
        },
        {
         "alignmentgroup": "True",
         "hovertemplate": "Sampler Algo=ThreshGPU<br>Number of Players=512<br>Batch Size (log2 scale)=%{x}<br>Runtime (ms/invocation)=%{y}<extra></extra>",
         "legendgroup": "ThreshGPU",
         "marker": {
          "color": "#B6E880",
          "pattern": {
           "shape": ""
          }
         },
         "name": "ThreshGPU",
         "offsetgroup": "ThreshGPU",
         "orientation": "v",
         "showlegend": false,
         "textposition": "auto",
         "type": "bar",
         "x": [
          4,
          5,
          6,
          7,
          8
         ],
         "xaxis": "x3",
         "y": [
          0.6563448905944824,
          0.6754326820373535,
          0.7907891273498535,
          0.981748104095459,
          1.4391350746154785
         ],
         "yaxis": "y3"
        }
       ],
       "layout": {
        "annotations": [
         {
          "font": {},
          "showarrow": false,
          "text": "Number of Players=128",
          "x": 0.15999999999999998,
          "xanchor": "center",
          "xref": "paper",
          "y": 0.46499999999999997,
          "yanchor": "bottom",
          "yref": "paper"
         },
         {
          "font": {},
          "showarrow": false,
          "text": "Number of Players=256",
          "x": 0.49999999999999994,
          "xanchor": "center",
          "xref": "paper",
          "y": 0.46499999999999997,
          "yanchor": "bottom",
          "yref": "paper"
         },
         {
          "font": {},
          "showarrow": false,
          "text": "Number of Players=512",
          "x": 0.8399999999999999,
          "xanchor": "center",
          "xref": "paper",
          "y": 0.46499999999999997,
          "yanchor": "bottom",
          "yref": "paper"
         },
         {
          "font": {},
          "showarrow": false,
          "text": "Number of Players=16",
          "x": 0.15999999999999998,
          "xanchor": "center",
          "xref": "paper",
          "y": 0.9999999999999999,
          "yanchor": "bottom",
          "yref": "paper"
         },
         {
          "font": {},
          "showarrow": false,
          "text": "Number of Players=32",
          "x": 0.49999999999999994,
          "xanchor": "center",
          "xref": "paper",
          "y": 0.9999999999999999,
          "yanchor": "bottom",
          "yref": "paper"
         },
         {
          "font": {},
          "showarrow": false,
          "text": "Number of Players=64",
          "x": 0.8399999999999999,
          "xanchor": "center",
          "xref": "paper",
          "y": 0.9999999999999999,
          "yanchor": "bottom",
          "yref": "paper"
         }
        ],
        "barmode": "group",
        "height": 800,
        "legend": {
         "title": {
          "text": "Sampler Algo"
         },
         "tracegroupgap": 0
        },
        "margin": {
         "t": 60
        },
        "template": {
         "data": {
          "bar": [
           {
            "error_x": {
             "color": "#2a3f5f"
            },
            "error_y": {
             "color": "#2a3f5f"
            },
            "marker": {
             "line": {
              "color": "#E5ECF6",
              "width": 0.5
             },
             "pattern": {
              "fillmode": "overlay",
              "size": 10,
              "solidity": 0.2
             }
            },
            "type": "bar"
           }
          ],
          "barpolar": [
           {
            "marker": {
             "line": {
              "color": "#E5ECF6",
              "width": 0.5
             },
             "pattern": {
              "fillmode": "overlay",
              "size": 10,
              "solidity": 0.2
             }
            },
            "type": "barpolar"
           }
          ],
          "carpet": [
           {
            "aaxis": {
             "endlinecolor": "#2a3f5f",
             "gridcolor": "white",
             "linecolor": "white",
             "minorgridcolor": "white",
             "startlinecolor": "#2a3f5f"
            },
            "baxis": {
             "endlinecolor": "#2a3f5f",
             "gridcolor": "white",
             "linecolor": "white",
             "minorgridcolor": "white",
             "startlinecolor": "#2a3f5f"
            },
            "type": "carpet"
           }
          ],
          "choropleth": [
           {
            "colorbar": {
             "outlinewidth": 0,
             "ticks": ""
            },
            "type": "choropleth"
           }
          ],
          "contour": [
           {
            "colorbar": {
             "outlinewidth": 0,
             "ticks": ""
            },
            "colorscale": [
             [
              0,
              "#0d0887"
             ],
             [
              0.1111111111111111,
              "#46039f"
             ],
             [
              0.2222222222222222,
              "#7201a8"
             ],
             [
              0.3333333333333333,
              "#9c179e"
             ],
             [
              0.4444444444444444,
              "#bd3786"
             ],
             [
              0.5555555555555556,
              "#d8576b"
             ],
             [
              0.6666666666666666,
              "#ed7953"
             ],
             [
              0.7777777777777778,
              "#fb9f3a"
             ],
             [
              0.8888888888888888,
              "#fdca26"
             ],
             [
              1,
              "#f0f921"
             ]
            ],
            "type": "contour"
           }
          ],
          "contourcarpet": [
           {
            "colorbar": {
             "outlinewidth": 0,
             "ticks": ""
            },
            "type": "contourcarpet"
           }
          ],
          "heatmap": [
           {
            "colorbar": {
             "outlinewidth": 0,
             "ticks": ""
            },
            "colorscale": [
             [
              0,
              "#0d0887"
             ],
             [
              0.1111111111111111,
              "#46039f"
             ],
             [
              0.2222222222222222,
              "#7201a8"
             ],
             [
              0.3333333333333333,
              "#9c179e"
             ],
             [
              0.4444444444444444,
              "#bd3786"
             ],
             [
              0.5555555555555556,
              "#d8576b"
             ],
             [
              0.6666666666666666,
              "#ed7953"
             ],
             [
              0.7777777777777778,
              "#fb9f3a"
             ],
             [
              0.8888888888888888,
              "#fdca26"
             ],
             [
              1,
              "#f0f921"
             ]
            ],
            "type": "heatmap"
           }
          ],
          "heatmapgl": [
           {
            "colorbar": {
             "outlinewidth": 0,
             "ticks": ""
            },
            "colorscale": [
             [
              0,
              "#0d0887"
             ],
             [
              0.1111111111111111,
              "#46039f"
             ],
             [
              0.2222222222222222,
              "#7201a8"
             ],
             [
              0.3333333333333333,
              "#9c179e"
             ],
             [
              0.4444444444444444,
              "#bd3786"
             ],
             [
              0.5555555555555556,
              "#d8576b"
             ],
             [
              0.6666666666666666,
              "#ed7953"
             ],
             [
              0.7777777777777778,
              "#fb9f3a"
             ],
             [
              0.8888888888888888,
              "#fdca26"
             ],
             [
              1,
              "#f0f921"
             ]
            ],
            "type": "heatmapgl"
           }
          ],
          "histogram": [
           {
            "marker": {
             "pattern": {
              "fillmode": "overlay",
              "size": 10,
              "solidity": 0.2
             }
            },
            "type": "histogram"
           }
          ],
          "histogram2d": [
           {
            "colorbar": {
             "outlinewidth": 0,
             "ticks": ""
            },
            "colorscale": [
             [
              0,
              "#0d0887"
             ],
             [
              0.1111111111111111,
              "#46039f"
             ],
             [
              0.2222222222222222,
              "#7201a8"
             ],
             [
              0.3333333333333333,
              "#9c179e"
             ],
             [
              0.4444444444444444,
              "#bd3786"
             ],
             [
              0.5555555555555556,
              "#d8576b"
             ],
             [
              0.6666666666666666,
              "#ed7953"
             ],
             [
              0.7777777777777778,
              "#fb9f3a"
             ],
             [
              0.8888888888888888,
              "#fdca26"
             ],
             [
              1,
              "#f0f921"
             ]
            ],
            "type": "histogram2d"
           }
          ],
          "histogram2dcontour": [
           {
            "colorbar": {
             "outlinewidth": 0,
             "ticks": ""
            },
            "colorscale": [
             [
              0,
              "#0d0887"
             ],
             [
              0.1111111111111111,
              "#46039f"
             ],
             [
              0.2222222222222222,
              "#7201a8"
             ],
             [
              0.3333333333333333,
              "#9c179e"
             ],
             [
              0.4444444444444444,
              "#bd3786"
             ],
             [
              0.5555555555555556,
              "#d8576b"
             ],
             [
              0.6666666666666666,
              "#ed7953"
             ],
             [
              0.7777777777777778,
              "#fb9f3a"
             ],
             [
              0.8888888888888888,
              "#fdca26"
             ],
             [
              1,
              "#f0f921"
             ]
            ],
            "type": "histogram2dcontour"
           }
          ],
          "mesh3d": [
           {
            "colorbar": {
             "outlinewidth": 0,
             "ticks": ""
            },
            "type": "mesh3d"
           }
          ],
          "parcoords": [
           {
            "line": {
             "colorbar": {
              "outlinewidth": 0,
              "ticks": ""
             }
            },
            "type": "parcoords"
           }
          ],
          "pie": [
           {
            "automargin": true,
            "type": "pie"
           }
          ],
          "scatter": [
           {
            "fillpattern": {
             "fillmode": "overlay",
             "size": 10,
             "solidity": 0.2
            },
            "type": "scatter"
           }
          ],
          "scatter3d": [
           {
            "line": {
             "colorbar": {
              "outlinewidth": 0,
              "ticks": ""
             }
            },
            "marker": {
             "colorbar": {
              "outlinewidth": 0,
              "ticks": ""
             }
            },
            "type": "scatter3d"
           }
          ],
          "scattercarpet": [
           {
            "marker": {
             "colorbar": {
              "outlinewidth": 0,
              "ticks": ""
             }
            },
            "type": "scattercarpet"
           }
          ],
          "scattergeo": [
           {
            "marker": {
             "colorbar": {
              "outlinewidth": 0,
              "ticks": ""
             }
            },
            "type": "scattergeo"
           }
          ],
          "scattergl": [
           {
            "marker": {
             "colorbar": {
              "outlinewidth": 0,
              "ticks": ""
             }
            },
            "type": "scattergl"
           }
          ],
          "scattermapbox": [
           {
            "marker": {
             "colorbar": {
              "outlinewidth": 0,
              "ticks": ""
             }
            },
            "type": "scattermapbox"
           }
          ],
          "scatterpolar": [
           {
            "marker": {
             "colorbar": {
              "outlinewidth": 0,
              "ticks": ""
             }
            },
            "type": "scatterpolar"
           }
          ],
          "scatterpolargl": [
           {
            "marker": {
             "colorbar": {
              "outlinewidth": 0,
              "ticks": ""
             }
            },
            "type": "scatterpolargl"
           }
          ],
          "scatterternary": [
           {
            "marker": {
             "colorbar": {
              "outlinewidth": 0,
              "ticks": ""
             }
            },
            "type": "scatterternary"
           }
          ],
          "surface": [
           {
            "colorbar": {
             "outlinewidth": 0,
             "ticks": ""
            },
            "colorscale": [
             [
              0,
              "#0d0887"
             ],
             [
              0.1111111111111111,
              "#46039f"
             ],
             [
              0.2222222222222222,
              "#7201a8"
             ],
             [
              0.3333333333333333,
              "#9c179e"
             ],
             [
              0.4444444444444444,
              "#bd3786"
             ],
             [
              0.5555555555555556,
              "#d8576b"
             ],
             [
              0.6666666666666666,
              "#ed7953"
             ],
             [
              0.7777777777777778,
              "#fb9f3a"
             ],
             [
              0.8888888888888888,
              "#fdca26"
             ],
             [
              1,
              "#f0f921"
             ]
            ],
            "type": "surface"
           }
          ],
          "table": [
           {
            "cells": {
             "fill": {
              "color": "#EBF0F8"
             },
             "line": {
              "color": "white"
             }
            },
            "header": {
             "fill": {
              "color": "#C8D4E3"
             },
             "line": {
              "color": "white"
             }
            },
            "type": "table"
           }
          ]
         },
         "layout": {
          "annotationdefaults": {
           "arrowcolor": "#2a3f5f",
           "arrowhead": 0,
           "arrowwidth": 1
          },
          "autotypenumbers": "strict",
          "coloraxis": {
           "colorbar": {
            "outlinewidth": 0,
            "ticks": ""
           }
          },
          "colorscale": {
           "diverging": [
            [
             0,
             "#8e0152"
            ],
            [
             0.1,
             "#c51b7d"
            ],
            [
             0.2,
             "#de77ae"
            ],
            [
             0.3,
             "#f1b6da"
            ],
            [
             0.4,
             "#fde0ef"
            ],
            [
             0.5,
             "#f7f7f7"
            ],
            [
             0.6,
             "#e6f5d0"
            ],
            [
             0.7,
             "#b8e186"
            ],
            [
             0.8,
             "#7fbc41"
            ],
            [
             0.9,
             "#4d9221"
            ],
            [
             1,
             "#276419"
            ]
           ],
           "sequential": [
            [
             0,
             "#0d0887"
            ],
            [
             0.1111111111111111,
             "#46039f"
            ],
            [
             0.2222222222222222,
             "#7201a8"
            ],
            [
             0.3333333333333333,
             "#9c179e"
            ],
            [
             0.4444444444444444,
             "#bd3786"
            ],
            [
             0.5555555555555556,
             "#d8576b"
            ],
            [
             0.6666666666666666,
             "#ed7953"
            ],
            [
             0.7777777777777778,
             "#fb9f3a"
            ],
            [
             0.8888888888888888,
             "#fdca26"
            ],
            [
             1,
             "#f0f921"
            ]
           ],
           "sequentialminus": [
            [
             0,
             "#0d0887"
            ],
            [
             0.1111111111111111,
             "#46039f"
            ],
            [
             0.2222222222222222,
             "#7201a8"
            ],
            [
             0.3333333333333333,
             "#9c179e"
            ],
            [
             0.4444444444444444,
             "#bd3786"
            ],
            [
             0.5555555555555556,
             "#d8576b"
            ],
            [
             0.6666666666666666,
             "#ed7953"
            ],
            [
             0.7777777777777778,
             "#fb9f3a"
            ],
            [
             0.8888888888888888,
             "#fdca26"
            ],
            [
             1,
             "#f0f921"
            ]
           ]
          },
          "colorway": [
           "#636efa",
           "#EF553B",
           "#00cc96",
           "#ab63fa",
           "#FFA15A",
           "#19d3f3",
           "#FF6692",
           "#B6E880",
           "#FF97FF",
           "#FECB52"
          ],
          "font": {
           "color": "#2a3f5f"
          },
          "geo": {
           "bgcolor": "white",
           "lakecolor": "white",
           "landcolor": "#E5ECF6",
           "showlakes": true,
           "showland": true,
           "subunitcolor": "white"
          },
          "hoverlabel": {
           "align": "left"
          },
          "hovermode": "closest",
          "mapbox": {
           "style": "light"
          },
          "paper_bgcolor": "white",
          "plot_bgcolor": "#E5ECF6",
          "polar": {
           "angularaxis": {
            "gridcolor": "white",
            "linecolor": "white",
            "ticks": ""
           },
           "bgcolor": "#E5ECF6",
           "radialaxis": {
            "gridcolor": "white",
            "linecolor": "white",
            "ticks": ""
           }
          },
          "scene": {
           "xaxis": {
            "backgroundcolor": "#E5ECF6",
            "gridcolor": "white",
            "gridwidth": 2,
            "linecolor": "white",
            "showbackground": true,
            "ticks": "",
            "zerolinecolor": "white"
           },
           "yaxis": {
            "backgroundcolor": "#E5ECF6",
            "gridcolor": "white",
            "gridwidth": 2,
            "linecolor": "white",
            "showbackground": true,
            "ticks": "",
            "zerolinecolor": "white"
           },
           "zaxis": {
            "backgroundcolor": "#E5ECF6",
            "gridcolor": "white",
            "gridwidth": 2,
            "linecolor": "white",
            "showbackground": true,
            "ticks": "",
            "zerolinecolor": "white"
           }
          },
          "shapedefaults": {
           "line": {
            "color": "#2a3f5f"
           }
          },
          "ternary": {
           "aaxis": {
            "gridcolor": "white",
            "linecolor": "white",
            "ticks": ""
           },
           "baxis": {
            "gridcolor": "white",
            "linecolor": "white",
            "ticks": ""
           },
           "bgcolor": "#E5ECF6",
           "caxis": {
            "gridcolor": "white",
            "linecolor": "white",
            "ticks": ""
           }
          },
          "title": {
           "x": 0.05
          },
          "xaxis": {
           "automargin": true,
           "gridcolor": "white",
           "linecolor": "white",
           "ticks": "",
           "title": {
            "standoff": 15
           },
           "zerolinecolor": "white",
           "zerolinewidth": 2
          },
          "yaxis": {
           "automargin": true,
           "gridcolor": "white",
           "linecolor": "white",
           "ticks": "",
           "title": {
            "standoff": 15
           },
           "zerolinecolor": "white",
           "zerolinewidth": 2
          }
         }
        },
        "xaxis": {
         "anchor": "y",
         "domain": [
          0,
          0.31999999999999995
         ],
         "title": {
          "text": "Batch Size (log2 scale)"
         }
        },
        "xaxis2": {
         "anchor": "y2",
         "domain": [
          0.33999999999999997,
          0.6599999999999999
         ],
         "matches": "x",
         "title": {
          "text": "Batch Size (log2 scale)"
         }
        },
        "xaxis3": {
         "anchor": "y3",
         "domain": [
          0.6799999999999999,
          0.9999999999999999
         ],
         "matches": "x",
         "title": {
          "text": "Batch Size (log2 scale)"
         }
        },
        "xaxis4": {
         "anchor": "y4",
         "domain": [
          0,
          0.31999999999999995
         ],
         "matches": "x",
         "showticklabels": false
        },
        "xaxis5": {
         "anchor": "y5",
         "domain": [
          0.33999999999999997,
          0.6599999999999999
         ],
         "matches": "x",
         "showticklabels": false
        },
        "xaxis6": {
         "anchor": "y6",
         "domain": [
          0.6799999999999999,
          0.9999999999999999
         ],
         "matches": "x",
         "showticklabels": false
        },
        "yaxis": {
         "anchor": "x",
         "domain": [
          0,
          0.46499999999999997
         ],
         "title": {
          "text": "Runtime (ms/invocation)"
         }
        },
        "yaxis2": {
         "anchor": "x2",
         "domain": [
          0,
          0.46499999999999997
         ],
         "matches": "y",
         "showticklabels": false
        },
        "yaxis3": {
         "anchor": "x3",
         "domain": [
          0,
          0.46499999999999997
         ],
         "matches": "y",
         "showticklabels": false
        },
        "yaxis4": {
         "anchor": "x4",
         "domain": [
          0.5349999999999999,
          0.9999999999999999
         ],
         "matches": "y",
         "title": {
          "text": "Runtime (ms/invocation)"
         }
        },
        "yaxis5": {
         "anchor": "x5",
         "domain": [
          0.5349999999999999,
          0.9999999999999999
         ],
         "matches": "y",
         "showticklabels": false
        },
        "yaxis6": {
         "anchor": "x6",
         "domain": [
          0.5349999999999999,
          0.9999999999999999
         ],
         "matches": "y",
         "showticklabels": false
        }
       }
      }
     },
     "metadata": {},
     "output_type": "display_data"
    }
   ],
   "source": [
    "px.bar(\n",
    "    results,\n",
    "    x=\"Batch Size (log2 scale)\",\n",
    "    y=\"Runtime (ms/invocation)\",\n",
    "    color=\"Sampler Algo\",\n",
    "    facet_col=\"Number of Players\",\n",
    "    facet_col_wrap=3,\n",
    "    barmode=\"group\",\n",
    "    height=800,\n",
    ")"
   ]
  },
  {
   "cell_type": "code",
   "execution_count": 10,
   "metadata": {},
   "outputs": [
    {
     "data": {
      "application/vnd.plotly.v1+json": {
       "config": {
        "plotlyServerURL": "https://plot.ly"
       },
       "data": [
        {
         "alignmentgroup": "True",
         "hovertemplate": "Sampler Algo=Original<br>Batch Size=16.0<br>Number of Players (log2 scale)=%{x}<br>Runtime (ms/invocation)=%{y}<extra></extra>",
         "legendgroup": "Original",
         "marker": {
          "color": "#636efa",
          "pattern": {
           "shape": ""
          }
         },
         "name": "Original",
         "offsetgroup": "Original",
         "orientation": "v",
         "showlegend": true,
         "textposition": "auto",
         "type": "bar",
         "x": [
          4,
          5,
          6,
          7,
          8,
          9
         ],
         "xaxis": "x4",
         "y": [
          0.46050071716308594,
          0.42223453521728516,
          0.41834115982055664,
          0.4517555236816406,
          0.46135425567626953,
          0.5213594436645508
         ],
         "yaxis": "y4"
        },
        {
         "alignmentgroup": "True",
         "hovertemplate": "Sampler Algo=Original<br>Batch Size=32.0<br>Number of Players (log2 scale)=%{x}<br>Runtime (ms/invocation)=%{y}<extra></extra>",
         "legendgroup": "Original",
         "marker": {
          "color": "#636efa",
          "pattern": {
           "shape": ""
          }
         },
         "name": "Original",
         "offsetgroup": "Original",
         "orientation": "v",
         "showlegend": false,
         "textposition": "auto",
         "type": "bar",
         "x": [
          4,
          5,
          6,
          7,
          8,
          9
         ],
         "xaxis": "x5",
         "y": [
          0.8314156532287598,
          0.8055472373962402,
          0.8148837089538574,
          0.795140266418457,
          0.85174560546875,
          0.9121870994567871
         ],
         "yaxis": "y5"
        },
        {
         "alignmentgroup": "True",
         "hovertemplate": "Sampler Algo=Original<br>Batch Size=64.0<br>Number of Players (log2 scale)=%{x}<br>Runtime (ms/invocation)=%{y}<extra></extra>",
         "legendgroup": "Original",
         "marker": {
          "color": "#636efa",
          "pattern": {
           "shape": ""
          }
         },
         "name": "Original",
         "offsetgroup": "Original",
         "orientation": "v",
         "showlegend": false,
         "textposition": "auto",
         "type": "bar",
         "x": [
          4,
          5,
          6,
          7,
          8,
          9
         ],
         "xaxis": "x6",
         "y": [
          1.5138697624206543,
          1.5375614166259766,
          1.4992213249206543,
          1.5987467765808105,
          1.699671745300293,
          1.823575496673584
         ],
         "yaxis": "y6"
        },
        {
         "alignmentgroup": "True",
         "hovertemplate": "Sampler Algo=Original<br>Batch Size=128.0<br>Number of Players (log2 scale)=%{x}<br>Runtime (ms/invocation)=%{y}<extra></extra>",
         "legendgroup": "Original",
         "marker": {
          "color": "#636efa",
          "pattern": {
           "shape": ""
          }
         },
         "name": "Original",
         "offsetgroup": "Original",
         "orientation": "v",
         "showlegend": false,
         "textposition": "auto",
         "type": "bar",
         "x": [
          4,
          5,
          6,
          7,
          8,
          9
         ],
         "xaxis": "x",
         "y": [
          2.8810715675354004,
          2.976839542388916,
          2.945373058319092,
          2.915663719177246,
          3.2077383995056152,
          3.4270119667053223
         ],
         "yaxis": "y"
        },
        {
         "alignmentgroup": "True",
         "hovertemplate": "Sampler Algo=Original<br>Batch Size=256.0<br>Number of Players (log2 scale)=%{x}<br>Runtime (ms/invocation)=%{y}<extra></extra>",
         "legendgroup": "Original",
         "marker": {
          "color": "#636efa",
          "pattern": {
           "shape": ""
          }
         },
         "name": "Original",
         "offsetgroup": "Original",
         "orientation": "v",
         "showlegend": false,
         "textposition": "auto",
         "type": "bar",
         "x": [
          4,
          5,
          6,
          7,
          8,
          9
         ],
         "xaxis": "x2",
         "y": [
          5.840883255004883,
          5.933780670166016,
          5.810706615447998,
          6.112105846405029,
          6.799132823944092,
          6.909689903259277
         ],
         "yaxis": "y2"
        },
        {
         "alignmentgroup": "True",
         "hovertemplate": "Sampler Algo=ArgSortCPU<br>Batch Size=16.0<br>Number of Players (log2 scale)=%{x}<br>Runtime (ms/invocation)=%{y}<extra></extra>",
         "legendgroup": "ArgSortCPU",
         "marker": {
          "color": "#EF553B",
          "pattern": {
           "shape": ""
          }
         },
         "name": "ArgSortCPU",
         "offsetgroup": "ArgSortCPU",
         "orientation": "v",
         "showlegend": true,
         "textposition": "auto",
         "type": "bar",
         "x": [
          4,
          5,
          6,
          7,
          8,
          9
         ],
         "xaxis": "x4",
         "y": [
          0.11012077331542969,
          0.1504230499267578,
          0.19558191299438477,
          0.290374755859375,
          0.5119752883911133,
          0.9615039825439453
         ],
         "yaxis": "y4"
        },
        {
         "alignmentgroup": "True",
         "hovertemplate": "Sampler Algo=ArgSortCPU<br>Batch Size=32.0<br>Number of Players (log2 scale)=%{x}<br>Runtime (ms/invocation)=%{y}<extra></extra>",
         "legendgroup": "ArgSortCPU",
         "marker": {
          "color": "#EF553B",
          "pattern": {
           "shape": ""
          }
         },
         "name": "ArgSortCPU",
         "offsetgroup": "ArgSortCPU",
         "orientation": "v",
         "showlegend": false,
         "textposition": "auto",
         "type": "bar",
         "x": [
          4,
          5,
          6,
          7,
          8,
          9
         ],
         "xaxis": "x5",
         "y": [
          0.12029409408569336,
          0.1672959327697754,
          0.23545026779174805,
          0.4614853858947754,
          0.8653712272644043,
          1.8600940704345703
         ],
         "yaxis": "y5"
        },
        {
         "alignmentgroup": "True",
         "hovertemplate": "Sampler Algo=ArgSortCPU<br>Batch Size=64.0<br>Number of Players (log2 scale)=%{x}<br>Runtime (ms/invocation)=%{y}<extra></extra>",
         "legendgroup": "ArgSortCPU",
         "marker": {
          "color": "#EF553B",
          "pattern": {
           "shape": ""
          }
         },
         "name": "ArgSortCPU",
         "offsetgroup": "ArgSortCPU",
         "orientation": "v",
         "showlegend": false,
         "textposition": "auto",
         "type": "bar",
         "x": [
          4,
          5,
          6,
          7,
          8,
          9
         ],
         "xaxis": "x6",
         "y": [
          0.14310121536254883,
          0.23570775985717773,
          0.36682605743408203,
          0.7869386672973633,
          1.6041111946105957,
          3.56001615524292
         ],
         "yaxis": "y6"
        },
        {
         "alignmentgroup": "True",
         "hovertemplate": "Sampler Algo=ArgSortCPU<br>Batch Size=128.0<br>Number of Players (log2 scale)=%{x}<br>Runtime (ms/invocation)=%{y}<extra></extra>",
         "legendgroup": "ArgSortCPU",
         "marker": {
          "color": "#EF553B",
          "pattern": {
           "shape": ""
          }
         },
         "name": "ArgSortCPU",
         "offsetgroup": "ArgSortCPU",
         "orientation": "v",
         "showlegend": false,
         "textposition": "auto",
         "type": "bar",
         "x": [
          4,
          5,
          6,
          7,
          8,
          9
         ],
         "xaxis": "x",
         "y": [
          0.2151632308959961,
          0.37369251251220703,
          0.6132245063781738,
          1.3801884651184082,
          3.0681657791137695,
          3.836796283721924
         ],
         "yaxis": "y"
        },
        {
         "alignmentgroup": "True",
         "hovertemplate": "Sampler Algo=ArgSortCPU<br>Batch Size=256.0<br>Number of Players (log2 scale)=%{x}<br>Runtime (ms/invocation)=%{y}<extra></extra>",
         "legendgroup": "ArgSortCPU",
         "marker": {
          "color": "#EF553B",
          "pattern": {
           "shape": ""
          }
         },
         "name": "ArgSortCPU",
         "offsetgroup": "ArgSortCPU",
         "orientation": "v",
         "showlegend": false,
         "textposition": "auto",
         "type": "bar",
         "x": [
          4,
          5,
          6,
          7,
          8,
          9
         ],
         "xaxis": "x2",
         "y": [
          0.2926778793334961,
          0.5520462989807129,
          1.1515402793884277,
          2.6486992835998535,
          3.393547534942627,
          4.653191566467285
         ],
         "yaxis": "y2"
        },
        {
         "alignmentgroup": "True",
         "hovertemplate": "Sampler Algo=MultinomialCPU<br>Batch Size=16.0<br>Number of Players (log2 scale)=%{x}<br>Runtime (ms/invocation)=%{y}<extra></extra>",
         "legendgroup": "MultinomialCPU",
         "marker": {
          "color": "#00cc96",
          "pattern": {
           "shape": ""
          }
         },
         "name": "MultinomialCPU",
         "offsetgroup": "MultinomialCPU",
         "orientation": "v",
         "showlegend": true,
         "textposition": "auto",
         "type": "bar",
         "x": [
          4,
          5,
          6,
          7,
          8,
          9
         ],
         "xaxis": "x4",
         "y": [
          0.14012813568115234,
          0.17194271087646484,
          0.22595643997192383,
          0.26530981063842773,
          0.43032407760620117,
          0.7638740539550781
         ],
         "yaxis": "y4"
        },
        {
         "alignmentgroup": "True",
         "hovertemplate": "Sampler Algo=MultinomialCPU<br>Batch Size=32.0<br>Number of Players (log2 scale)=%{x}<br>Runtime (ms/invocation)=%{y}<extra></extra>",
         "legendgroup": "MultinomialCPU",
         "marker": {
          "color": "#00cc96",
          "pattern": {
           "shape": ""
          }
         },
         "name": "MultinomialCPU",
         "offsetgroup": "MultinomialCPU",
         "orientation": "v",
         "showlegend": false,
         "textposition": "auto",
         "type": "bar",
         "x": [
          4,
          5,
          6,
          7,
          8,
          9
         ],
         "xaxis": "x5",
         "y": [
          0.16530752182006836,
          0.18526315689086914,
          0.2432417869567871,
          0.39797306060791016,
          0.7374167442321777,
          1.3721323013305664
         ],
         "yaxis": "y5"
        },
        {
         "alignmentgroup": "True",
         "hovertemplate": "Sampler Algo=MultinomialCPU<br>Batch Size=64.0<br>Number of Players (log2 scale)=%{x}<br>Runtime (ms/invocation)=%{y}<extra></extra>",
         "legendgroup": "MultinomialCPU",
         "marker": {
          "color": "#00cc96",
          "pattern": {
           "shape": ""
          }
         },
         "name": "MultinomialCPU",
         "offsetgroup": "MultinomialCPU",
         "orientation": "v",
         "showlegend": false,
         "textposition": "auto",
         "type": "bar",
         "x": [
          4,
          5,
          6,
          7,
          8,
          9
         ],
         "xaxis": "x6",
         "y": [
          0.17522573471069336,
          0.2264857292175293,
          0.3524017333984375,
          0.617063045501709,
          1.2162184715270996,
          2.479836940765381
         ],
         "yaxis": "y6"
        },
        {
         "alignmentgroup": "True",
         "hovertemplate": "Sampler Algo=MultinomialCPU<br>Batch Size=128.0<br>Number of Players (log2 scale)=%{x}<br>Runtime (ms/invocation)=%{y}<extra></extra>",
         "legendgroup": "MultinomialCPU",
         "marker": {
          "color": "#00cc96",
          "pattern": {
           "shape": ""
          }
         },
         "name": "MultinomialCPU",
         "offsetgroup": "MultinomialCPU",
         "orientation": "v",
         "showlegend": false,
         "textposition": "auto",
         "type": "bar",
         "x": [
          4,
          5,
          6,
          7,
          8,
          9
         ],
         "xaxis": "x",
         "y": [
          0.21032094955444336,
          0.3089427947998047,
          0.5421876907348633,
          1.1313700675964355,
          2.2380661964416504,
          2.743847370147705
         ],
         "yaxis": "y"
        },
        {
         "alignmentgroup": "True",
         "hovertemplate": "Sampler Algo=MultinomialCPU<br>Batch Size=256.0<br>Number of Players (log2 scale)=%{x}<br>Runtime (ms/invocation)=%{y}<extra></extra>",
         "legendgroup": "MultinomialCPU",
         "marker": {
          "color": "#00cc96",
          "pattern": {
           "shape": ""
          }
         },
         "name": "MultinomialCPU",
         "offsetgroup": "MultinomialCPU",
         "orientation": "v",
         "showlegend": false,
         "textposition": "auto",
         "type": "bar",
         "x": [
          4,
          5,
          6,
          7,
          8,
          9
         ],
         "xaxis": "x2",
         "y": [
          0.2941250801086426,
          0.4520249366760254,
          0.961606502532959,
          2.051117420196533,
          2.4846696853637695,
          3.037445545196533
         ],
         "yaxis": "y2"
        },
        {
         "alignmentgroup": "True",
         "hovertemplate": "Sampler Algo=ThreshCPU<br>Batch Size=16.0<br>Number of Players (log2 scale)=%{x}<br>Runtime (ms/invocation)=%{y}<extra></extra>",
         "legendgroup": "ThreshCPU",
         "marker": {
          "color": "#ab63fa",
          "pattern": {
           "shape": ""
          }
         },
         "name": "ThreshCPU",
         "offsetgroup": "ThreshCPU",
         "orientation": "v",
         "showlegend": true,
         "textposition": "auto",
         "type": "bar",
         "x": [
          4,
          5,
          6,
          7,
          8,
          9
         ],
         "xaxis": "x4",
         "y": [
          0.19015073776245117,
          0.17500638961791992,
          0.1665663719177246,
          0.19719362258911133,
          0.2142024040222168,
          0.3115701675415039
         ],
         "yaxis": "y4"
        },
        {
         "alignmentgroup": "True",
         "hovertemplate": "Sampler Algo=ThreshCPU<br>Batch Size=32.0<br>Number of Players (log2 scale)=%{x}<br>Runtime (ms/invocation)=%{y}<extra></extra>",
         "legendgroup": "ThreshCPU",
         "marker": {
          "color": "#ab63fa",
          "pattern": {
           "shape": ""
          }
         },
         "name": "ThreshCPU",
         "offsetgroup": "ThreshCPU",
         "orientation": "v",
         "showlegend": false,
         "textposition": "auto",
         "type": "bar",
         "x": [
          4,
          5,
          6,
          7,
          8,
          9
         ],
         "xaxis": "x5",
         "y": [
          0.17011642456054688,
          0.18782854080200195,
          0.1961660385131836,
          0.21784543991088867,
          0.2878904342651367,
          0.41147470474243164
         ],
         "yaxis": "y5"
        },
        {
         "alignmentgroup": "True",
         "hovertemplate": "Sampler Algo=ThreshCPU<br>Batch Size=64.0<br>Number of Players (log2 scale)=%{x}<br>Runtime (ms/invocation)=%{y}<extra></extra>",
         "legendgroup": "ThreshCPU",
         "marker": {
          "color": "#ab63fa",
          "pattern": {
           "shape": ""
          }
         },
         "name": "ThreshCPU",
         "offsetgroup": "ThreshCPU",
         "orientation": "v",
         "showlegend": false,
         "textposition": "auto",
         "type": "bar",
         "x": [
          4,
          5,
          6,
          7,
          8,
          9
         ],
         "xaxis": "x6",
         "y": [
          0.20011186599731445,
          0.19014596939086914,
          0.2164316177368164,
          0.29036998748779297,
          0.40087461471557617,
          0.655510425567627
         ],
         "yaxis": "y6"
        },
        {
         "alignmentgroup": "True",
         "hovertemplate": "Sampler Algo=ThreshCPU<br>Batch Size=128.0<br>Number of Players (log2 scale)=%{x}<br>Runtime (ms/invocation)=%{y}<extra></extra>",
         "legendgroup": "ThreshCPU",
         "marker": {
          "color": "#ab63fa",
          "pattern": {
           "shape": ""
          }
         },
         "name": "ThreshCPU",
         "offsetgroup": "ThreshCPU",
         "orientation": "v",
         "showlegend": false,
         "textposition": "auto",
         "type": "bar",
         "x": [
          4,
          5,
          6,
          7,
          8,
          9
         ],
         "xaxis": "x",
         "y": [
          0.2065110206604004,
          0.26799678802490234,
          0.27875423431396484,
          0.4024219512939453,
          0.6457114219665527,
          0.9566593170166016
         ],
         "yaxis": "y"
        },
        {
         "alignmentgroup": "True",
         "hovertemplate": "Sampler Algo=ThreshCPU<br>Batch Size=256.0<br>Number of Players (log2 scale)=%{x}<br>Runtime (ms/invocation)=%{y}<extra></extra>",
         "legendgroup": "ThreshCPU",
         "marker": {
          "color": "#ab63fa",
          "pattern": {
           "shape": ""
          }
         },
         "name": "ThreshCPU",
         "offsetgroup": "ThreshCPU",
         "orientation": "v",
         "showlegend": false,
         "textposition": "auto",
         "type": "bar",
         "x": [
          4,
          5,
          6,
          7,
          8,
          9
         ],
         "xaxis": "x2",
         "y": [
          0.2709078788757324,
          0.30364990234375,
          0.41464805603027344,
          0.6656098365783691,
          0.9027576446533203,
          1.7602348327636719
         ],
         "yaxis": "y2"
        },
        {
         "alignmentgroup": "True",
         "hovertemplate": "Sampler Algo=NumpyPermuteCPU<br>Batch Size=16.0<br>Number of Players (log2 scale)=%{x}<br>Runtime (ms/invocation)=%{y}<extra></extra>",
         "legendgroup": "NumpyPermuteCPU",
         "marker": {
          "color": "#FFA15A",
          "pattern": {
           "shape": ""
          }
         },
         "name": "NumpyPermuteCPU",
         "offsetgroup": "NumpyPermuteCPU",
         "orientation": "v",
         "showlegend": true,
         "textposition": "auto",
         "type": "bar",
         "x": [
          4,
          5,
          6,
          7,
          8,
          9
         ],
         "xaxis": "x4",
         "y": [
          0.1300978660583496,
          0.1405620574951172,
          0.13510704040527344,
          0.14542102813720703,
          0.1775813102722168,
          0.24004697799682617
         ],
         "yaxis": "y4"
        },
        {
         "alignmentgroup": "True",
         "hovertemplate": "Sampler Algo=NumpyPermuteCPU<br>Batch Size=32.0<br>Number of Players (log2 scale)=%{x}<br>Runtime (ms/invocation)=%{y}<extra></extra>",
         "legendgroup": "NumpyPermuteCPU",
         "marker": {
          "color": "#FFA15A",
          "pattern": {
           "shape": ""
          }
         },
         "name": "NumpyPermuteCPU",
         "offsetgroup": "NumpyPermuteCPU",
         "orientation": "v",
         "showlegend": false,
         "textposition": "auto",
         "type": "bar",
         "x": [
          4,
          5,
          6,
          7,
          8,
          9
         ],
         "xaxis": "x5",
         "y": [
          0.14622211456298828,
          0.13065099716186523,
          0.15078306198120117,
          0.17559051513671875,
          0.23854732513427734,
          0.3401374816894531
         ],
         "yaxis": "y5"
        },
        {
         "alignmentgroup": "True",
         "hovertemplate": "Sampler Algo=NumpyPermuteCPU<br>Batch Size=64.0<br>Number of Players (log2 scale)=%{x}<br>Runtime (ms/invocation)=%{y}<extra></extra>",
         "legendgroup": "NumpyPermuteCPU",
         "marker": {
          "color": "#FFA15A",
          "pattern": {
           "shape": ""
          }
         },
         "name": "NumpyPermuteCPU",
         "offsetgroup": "NumpyPermuteCPU",
         "orientation": "v",
         "showlegend": false,
         "textposition": "auto",
         "type": "bar",
         "x": [
          4,
          5,
          6,
          7,
          8,
          9
         ],
         "xaxis": "x6",
         "y": [
          0.14511585235595703,
          0.16561031341552734,
          0.17688751220703125,
          0.23753643035888672,
          0.3401517868041992,
          0.5962657928466797
         ],
         "yaxis": "y6"
        },
        {
         "alignmentgroup": "True",
         "hovertemplate": "Sampler Algo=NumpyPermuteCPU<br>Batch Size=128.0<br>Number of Players (log2 scale)=%{x}<br>Runtime (ms/invocation)=%{y}<extra></extra>",
         "legendgroup": "NumpyPermuteCPU",
         "marker": {
          "color": "#FFA15A",
          "pattern": {
           "shape": ""
          }
         },
         "name": "NumpyPermuteCPU",
         "offsetgroup": "NumpyPermuteCPU",
         "orientation": "v",
         "showlegend": false,
         "textposition": "auto",
         "type": "bar",
         "x": [
          4,
          5,
          6,
          7,
          8,
          9
         ],
         "xaxis": "x",
         "y": [
          0.18024682998657227,
          0.1659560203552246,
          0.23682594299316406,
          0.3447389602661133,
          0.5709505081176758,
          1.0159587860107422
         ],
         "yaxis": "y"
        },
        {
         "alignmentgroup": "True",
         "hovertemplate": "Sampler Algo=NumpyPermuteCPU<br>Batch Size=256.0<br>Number of Players (log2 scale)=%{x}<br>Runtime (ms/invocation)=%{y}<extra></extra>",
         "legendgroup": "NumpyPermuteCPU",
         "marker": {
          "color": "#FFA15A",
          "pattern": {
           "shape": ""
          }
         },
         "name": "NumpyPermuteCPU",
         "offsetgroup": "NumpyPermuteCPU",
         "orientation": "v",
         "showlegend": false,
         "textposition": "auto",
         "type": "bar",
         "x": [
          4,
          5,
          6,
          7,
          8,
          9
         ],
         "xaxis": "x2",
         "y": [
          0.1851367950439453,
          0.23018598556518555,
          0.34714221954345703,
          0.5778217315673828,
          0.9932470321655272,
          1.9789934158325195
         ],
         "yaxis": "y2"
        },
        {
         "alignmentgroup": "True",
         "hovertemplate": "Sampler Algo=ArgSortGPU<br>Batch Size=16.0<br>Number of Players (log2 scale)=%{x}<br>Runtime (ms/invocation)=%{y}<extra></extra>",
         "legendgroup": "ArgSortGPU",
         "marker": {
          "color": "#19d3f3",
          "pattern": {
           "shape": ""
          }
         },
         "name": "ArgSortGPU",
         "offsetgroup": "ArgSortGPU",
         "orientation": "v",
         "showlegend": true,
         "textposition": "auto",
         "type": "bar",
         "x": [
          4,
          5,
          6,
          7,
          8,
          9
         ],
         "xaxis": "x4",
         "y": [
          1.6783833503723145,
          0.33043384552001953,
          0.35553455352783203,
          0.35407304763793945,
          0.34215688705444336,
          0.36707162857055664
         ],
         "yaxis": "y4"
        },
        {
         "alignmentgroup": "True",
         "hovertemplate": "Sampler Algo=ArgSortGPU<br>Batch Size=32.0<br>Number of Players (log2 scale)=%{x}<br>Runtime (ms/invocation)=%{y}<extra></extra>",
         "legendgroup": "ArgSortGPU",
         "marker": {
          "color": "#19d3f3",
          "pattern": {
           "shape": ""
          }
         },
         "name": "ArgSortGPU",
         "offsetgroup": "ArgSortGPU",
         "orientation": "v",
         "showlegend": false,
         "textposition": "auto",
         "type": "bar",
         "x": [
          4,
          5,
          6,
          7,
          8,
          9
         ],
         "xaxis": "x5",
         "y": [
          0.3607630729675293,
          0.5608844757080078,
          0.3461170196533203,
          0.37148475646972656,
          0.3809332847595215,
          0.3506278991699219
         ],
         "yaxis": "y5"
        },
        {
         "alignmentgroup": "True",
         "hovertemplate": "Sampler Algo=ArgSortGPU<br>Batch Size=64.0<br>Number of Players (log2 scale)=%{x}<br>Runtime (ms/invocation)=%{y}<extra></extra>",
         "legendgroup": "ArgSortGPU",
         "marker": {
          "color": "#19d3f3",
          "pattern": {
           "shape": ""
          }
         },
         "name": "ArgSortGPU",
         "offsetgroup": "ArgSortGPU",
         "orientation": "v",
         "showlegend": false,
         "textposition": "auto",
         "type": "bar",
         "x": [
          4,
          5,
          6,
          7,
          8,
          9
         ],
         "xaxis": "x6",
         "y": [
          0.3457975387573242,
          0.4379606246948242,
          0.3449702262878418,
          0.35277605056762695,
          0.3306388854980469,
          0.5610108375549316
         ],
         "yaxis": "y6"
        },
        {
         "alignmentgroup": "True",
         "hovertemplate": "Sampler Algo=ArgSortGPU<br>Batch Size=128.0<br>Number of Players (log2 scale)=%{x}<br>Runtime (ms/invocation)=%{y}<extra></extra>",
         "legendgroup": "ArgSortGPU",
         "marker": {
          "color": "#19d3f3",
          "pattern": {
           "shape": ""
          }
         },
         "name": "ArgSortGPU",
         "offsetgroup": "ArgSortGPU",
         "orientation": "v",
         "showlegend": false,
         "textposition": "auto",
         "type": "bar",
         "x": [
          4,
          5,
          6,
          7,
          8,
          9
         ],
         "xaxis": "x",
         "y": [
          0.3408384323120117,
          0.36414623260498047,
          0.3556084632873535,
          0.3267669677734375,
          0.41129112243652344,
          0.36040306091308594
         ],
         "yaxis": "y"
        },
        {
         "alignmentgroup": "True",
         "hovertemplate": "Sampler Algo=ArgSortGPU<br>Batch Size=256.0<br>Number of Players (log2 scale)=%{x}<br>Runtime (ms/invocation)=%{y}<extra></extra>",
         "legendgroup": "ArgSortGPU",
         "marker": {
          "color": "#19d3f3",
          "pattern": {
           "shape": ""
          }
         },
         "name": "ArgSortGPU",
         "offsetgroup": "ArgSortGPU",
         "orientation": "v",
         "showlegend": false,
         "textposition": "auto",
         "type": "bar",
         "x": [
          4,
          5,
          6,
          7,
          8,
          9
         ],
         "xaxis": "x2",
         "y": [
          0.35117387771606445,
          0.35584211349487305,
          0.3814578056335449,
          0.34644126892089844,
          0.3661012649536133,
          0.34060001373291016
         ],
         "yaxis": "y2"
        },
        {
         "alignmentgroup": "True",
         "hovertemplate": "Sampler Algo=MultinomialGPU<br>Batch Size=16.0<br>Number of Players (log2 scale)=%{x}<br>Runtime (ms/invocation)=%{y}<extra></extra>",
         "legendgroup": "MultinomialGPU",
         "marker": {
          "color": "#FF6692",
          "pattern": {
           "shape": ""
          }
         },
         "name": "MultinomialGPU",
         "offsetgroup": "MultinomialGPU",
         "orientation": "v",
         "showlegend": true,
         "textposition": "auto",
         "type": "bar",
         "x": [
          4,
          5,
          6,
          7,
          8,
          9
         ],
         "xaxis": "x4",
         "y": [
          1.4444828033447266,
          0.6209683418273926,
          0.7510828971862793,
          0.5944466590881348,
          0.5856943130493164,
          0.5809402465820312
         ],
         "yaxis": "y4"
        },
        {
         "alignmentgroup": "True",
         "hovertemplate": "Sampler Algo=MultinomialGPU<br>Batch Size=32.0<br>Number of Players (log2 scale)=%{x}<br>Runtime (ms/invocation)=%{y}<extra></extra>",
         "legendgroup": "MultinomialGPU",
         "marker": {
          "color": "#FF6692",
          "pattern": {
           "shape": ""
          }
         },
         "name": "MultinomialGPU",
         "offsetgroup": "MultinomialGPU",
         "orientation": "v",
         "showlegend": false,
         "textposition": "auto",
         "type": "bar",
         "x": [
          4,
          5,
          6,
          7,
          8,
          9
         ],
         "xaxis": "x5",
         "y": [
          0.5610442161560059,
          0.6085085868835449,
          0.7655620574951172,
          0.6035614013671875,
          0.5522894859313965,
          0.5633068084716797
         ],
         "yaxis": "y5"
        },
        {
         "alignmentgroup": "True",
         "hovertemplate": "Sampler Algo=MultinomialGPU<br>Batch Size=64.0<br>Number of Players (log2 scale)=%{x}<br>Runtime (ms/invocation)=%{y}<extra></extra>",
         "legendgroup": "MultinomialGPU",
         "marker": {
          "color": "#FF6692",
          "pattern": {
           "shape": ""
          }
         },
         "name": "MultinomialGPU",
         "offsetgroup": "MultinomialGPU",
         "orientation": "v",
         "showlegend": false,
         "textposition": "auto",
         "type": "bar",
         "x": [
          4,
          5,
          6,
          7,
          8,
          9
         ],
         "xaxis": "x6",
         "y": [
          0.9159541130065918,
          0.6014132499694824,
          0.6761479377746582,
          0.5475497245788574,
          0.5889987945556641,
          0.6180429458618164
         ],
         "yaxis": "y6"
        },
        {
         "alignmentgroup": "True",
         "hovertemplate": "Sampler Algo=MultinomialGPU<br>Batch Size=128.0<br>Number of Players (log2 scale)=%{x}<br>Runtime (ms/invocation)=%{y}<extra></extra>",
         "legendgroup": "MultinomialGPU",
         "marker": {
          "color": "#FF6692",
          "pattern": {
           "shape": ""
          }
         },
         "name": "MultinomialGPU",
         "offsetgroup": "MultinomialGPU",
         "orientation": "v",
         "showlegend": false,
         "textposition": "auto",
         "type": "bar",
         "x": [
          4,
          5,
          6,
          7,
          8,
          9
         ],
         "xaxis": "x",
         "y": [
          0.5508899688720703,
          0.7378149032592773,
          0.5971026420593262,
          0.5800867080688477,
          0.5775165557861328,
          0.6513667106628418
         ],
         "yaxis": "y"
        },
        {
         "alignmentgroup": "True",
         "hovertemplate": "Sampler Algo=MultinomialGPU<br>Batch Size=256.0<br>Number of Players (log2 scale)=%{x}<br>Runtime (ms/invocation)=%{y}<extra></extra>",
         "legendgroup": "MultinomialGPU",
         "marker": {
          "color": "#FF6692",
          "pattern": {
           "shape": ""
          }
         },
         "name": "MultinomialGPU",
         "offsetgroup": "MultinomialGPU",
         "orientation": "v",
         "showlegend": false,
         "textposition": "auto",
         "type": "bar",
         "x": [
          4,
          5,
          6,
          7,
          8,
          9
         ],
         "xaxis": "x2",
         "y": [
          0.5784416198730469,
          0.792994499206543,
          0.6341910362243652,
          0.6140255928039551,
          0.6616926193237305,
          0.7514524459838867
         ],
         "yaxis": "y2"
        },
        {
         "alignmentgroup": "True",
         "hovertemplate": "Sampler Algo=ThreshGPU<br>Batch Size=16.0<br>Number of Players (log2 scale)=%{x}<br>Runtime (ms/invocation)=%{y}<extra></extra>",
         "legendgroup": "ThreshGPU",
         "marker": {
          "color": "#B6E880",
          "pattern": {
           "shape": ""
          }
         },
         "name": "ThreshGPU",
         "offsetgroup": "ThreshGPU",
         "orientation": "v",
         "showlegend": true,
         "textposition": "auto",
         "type": "bar",
         "x": [
          4,
          5,
          6,
          7,
          8,
          9
         ],
         "xaxis": "x4",
         "y": [
          0.7503175735473633,
          0.5370950698852539,
          0.5330944061279297,
          0.5636787414550781,
          0.5862212181091309,
          0.6563448905944824
         ],
         "yaxis": "y4"
        },
        {
         "alignmentgroup": "True",
         "hovertemplate": "Sampler Algo=ThreshGPU<br>Batch Size=32.0<br>Number of Players (log2 scale)=%{x}<br>Runtime (ms/invocation)=%{y}<extra></extra>",
         "legendgroup": "ThreshGPU",
         "marker": {
          "color": "#B6E880",
          "pattern": {
           "shape": ""
          }
         },
         "name": "ThreshGPU",
         "offsetgroup": "ThreshGPU",
         "orientation": "v",
         "showlegend": false,
         "textposition": "auto",
         "type": "bar",
         "x": [
          4,
          5,
          6,
          7,
          8,
          9
         ],
         "xaxis": "x5",
         "y": [
          0.5970311164855957,
          0.5489611625671387,
          0.5440688133239746,
          0.5862808227539062,
          0.6095075607299805,
          0.6754326820373535
         ],
         "yaxis": "y5"
        },
        {
         "alignmentgroup": "True",
         "hovertemplate": "Sampler Algo=ThreshGPU<br>Batch Size=64.0<br>Number of Players (log2 scale)=%{x}<br>Runtime (ms/invocation)=%{y}<extra></extra>",
         "legendgroup": "ThreshGPU",
         "marker": {
          "color": "#B6E880",
          "pattern": {
           "shape": ""
          }
         },
         "name": "ThreshGPU",
         "offsetgroup": "ThreshGPU",
         "orientation": "v",
         "showlegend": false,
         "textposition": "auto",
         "type": "bar",
         "x": [
          4,
          5,
          6,
          7,
          8,
          9
         ],
         "xaxis": "x6",
         "y": [
          0.571448802947998,
          0.5439901351928711,
          0.5678677558898926,
          0.6065201759338379,
          0.6464338302612305,
          0.7907891273498535
         ],
         "yaxis": "y6"
        },
        {
         "alignmentgroup": "True",
         "hovertemplate": "Sampler Algo=ThreshGPU<br>Batch Size=128.0<br>Number of Players (log2 scale)=%{x}<br>Runtime (ms/invocation)=%{y}<extra></extra>",
         "legendgroup": "ThreshGPU",
         "marker": {
          "color": "#B6E880",
          "pattern": {
           "shape": ""
          }
         },
         "name": "ThreshGPU",
         "offsetgroup": "ThreshGPU",
         "orientation": "v",
         "showlegend": false,
         "textposition": "auto",
         "type": "bar",
         "x": [
          4,
          5,
          6,
          7,
          8,
          9
         ],
         "xaxis": "x",
         "y": [
          0.5708050727844238,
          0.5665993690490723,
          0.6129002571105957,
          0.6554222106933594,
          0.7566046714782715,
          0.981748104095459
         ],
         "yaxis": "y"
        },
        {
         "alignmentgroup": "True",
         "hovertemplate": "Sampler Algo=ThreshGPU<br>Batch Size=256.0<br>Number of Players (log2 scale)=%{x}<br>Runtime (ms/invocation)=%{y}<extra></extra>",
         "legendgroup": "ThreshGPU",
         "marker": {
          "color": "#B6E880",
          "pattern": {
           "shape": ""
          }
         },
         "name": "ThreshGPU",
         "offsetgroup": "ThreshGPU",
         "orientation": "v",
         "showlegend": false,
         "textposition": "auto",
         "type": "bar",
         "x": [
          4,
          5,
          6,
          7,
          8,
          9
         ],
         "xaxis": "x2",
         "y": [
          0.5797767639160156,
          0.5864620208740234,
          0.6584954261779785,
          0.7620739936828613,
          1.045379638671875,
          1.4391350746154785
         ],
         "yaxis": "y2"
        }
       ],
       "layout": {
        "annotations": [
         {
          "font": {},
          "showarrow": false,
          "text": "Batch Size=128.0",
          "x": 0.15999999999999998,
          "xanchor": "center",
          "xref": "paper",
          "y": 0.46499999999999997,
          "yanchor": "bottom",
          "yref": "paper"
         },
         {
          "font": {},
          "showarrow": false,
          "text": "Batch Size=256.0",
          "x": 0.49999999999999994,
          "xanchor": "center",
          "xref": "paper",
          "y": 0.46499999999999997,
          "yanchor": "bottom",
          "yref": "paper"
         },
         {
          "font": {},
          "showarrow": false,
          "text": "Batch Size=16.0",
          "x": 0.15999999999999998,
          "xanchor": "center",
          "xref": "paper",
          "y": 0.9999999999999999,
          "yanchor": "bottom",
          "yref": "paper"
         },
         {
          "font": {},
          "showarrow": false,
          "text": "Batch Size=32.0",
          "x": 0.49999999999999994,
          "xanchor": "center",
          "xref": "paper",
          "y": 0.9999999999999999,
          "yanchor": "bottom",
          "yref": "paper"
         },
         {
          "font": {},
          "showarrow": false,
          "text": "Batch Size=64.0",
          "x": 0.8399999999999999,
          "xanchor": "center",
          "xref": "paper",
          "y": 0.9999999999999999,
          "yanchor": "bottom",
          "yref": "paper"
         }
        ],
        "barmode": "group",
        "height": 800,
        "legend": {
         "title": {
          "text": "Sampler Algo"
         },
         "tracegroupgap": 0
        },
        "margin": {
         "t": 60
        },
        "template": {
         "data": {
          "bar": [
           {
            "error_x": {
             "color": "#2a3f5f"
            },
            "error_y": {
             "color": "#2a3f5f"
            },
            "marker": {
             "line": {
              "color": "#E5ECF6",
              "width": 0.5
             },
             "pattern": {
              "fillmode": "overlay",
              "size": 10,
              "solidity": 0.2
             }
            },
            "type": "bar"
           }
          ],
          "barpolar": [
           {
            "marker": {
             "line": {
              "color": "#E5ECF6",
              "width": 0.5
             },
             "pattern": {
              "fillmode": "overlay",
              "size": 10,
              "solidity": 0.2
             }
            },
            "type": "barpolar"
           }
          ],
          "carpet": [
           {
            "aaxis": {
             "endlinecolor": "#2a3f5f",
             "gridcolor": "white",
             "linecolor": "white",
             "minorgridcolor": "white",
             "startlinecolor": "#2a3f5f"
            },
            "baxis": {
             "endlinecolor": "#2a3f5f",
             "gridcolor": "white",
             "linecolor": "white",
             "minorgridcolor": "white",
             "startlinecolor": "#2a3f5f"
            },
            "type": "carpet"
           }
          ],
          "choropleth": [
           {
            "colorbar": {
             "outlinewidth": 0,
             "ticks": ""
            },
            "type": "choropleth"
           }
          ],
          "contour": [
           {
            "colorbar": {
             "outlinewidth": 0,
             "ticks": ""
            },
            "colorscale": [
             [
              0,
              "#0d0887"
             ],
             [
              0.1111111111111111,
              "#46039f"
             ],
             [
              0.2222222222222222,
              "#7201a8"
             ],
             [
              0.3333333333333333,
              "#9c179e"
             ],
             [
              0.4444444444444444,
              "#bd3786"
             ],
             [
              0.5555555555555556,
              "#d8576b"
             ],
             [
              0.6666666666666666,
              "#ed7953"
             ],
             [
              0.7777777777777778,
              "#fb9f3a"
             ],
             [
              0.8888888888888888,
              "#fdca26"
             ],
             [
              1,
              "#f0f921"
             ]
            ],
            "type": "contour"
           }
          ],
          "contourcarpet": [
           {
            "colorbar": {
             "outlinewidth": 0,
             "ticks": ""
            },
            "type": "contourcarpet"
           }
          ],
          "heatmap": [
           {
            "colorbar": {
             "outlinewidth": 0,
             "ticks": ""
            },
            "colorscale": [
             [
              0,
              "#0d0887"
             ],
             [
              0.1111111111111111,
              "#46039f"
             ],
             [
              0.2222222222222222,
              "#7201a8"
             ],
             [
              0.3333333333333333,
              "#9c179e"
             ],
             [
              0.4444444444444444,
              "#bd3786"
             ],
             [
              0.5555555555555556,
              "#d8576b"
             ],
             [
              0.6666666666666666,
              "#ed7953"
             ],
             [
              0.7777777777777778,
              "#fb9f3a"
             ],
             [
              0.8888888888888888,
              "#fdca26"
             ],
             [
              1,
              "#f0f921"
             ]
            ],
            "type": "heatmap"
           }
          ],
          "heatmapgl": [
           {
            "colorbar": {
             "outlinewidth": 0,
             "ticks": ""
            },
            "colorscale": [
             [
              0,
              "#0d0887"
             ],
             [
              0.1111111111111111,
              "#46039f"
             ],
             [
              0.2222222222222222,
              "#7201a8"
             ],
             [
              0.3333333333333333,
              "#9c179e"
             ],
             [
              0.4444444444444444,
              "#bd3786"
             ],
             [
              0.5555555555555556,
              "#d8576b"
             ],
             [
              0.6666666666666666,
              "#ed7953"
             ],
             [
              0.7777777777777778,
              "#fb9f3a"
             ],
             [
              0.8888888888888888,
              "#fdca26"
             ],
             [
              1,
              "#f0f921"
             ]
            ],
            "type": "heatmapgl"
           }
          ],
          "histogram": [
           {
            "marker": {
             "pattern": {
              "fillmode": "overlay",
              "size": 10,
              "solidity": 0.2
             }
            },
            "type": "histogram"
           }
          ],
          "histogram2d": [
           {
            "colorbar": {
             "outlinewidth": 0,
             "ticks": ""
            },
            "colorscale": [
             [
              0,
              "#0d0887"
             ],
             [
              0.1111111111111111,
              "#46039f"
             ],
             [
              0.2222222222222222,
              "#7201a8"
             ],
             [
              0.3333333333333333,
              "#9c179e"
             ],
             [
              0.4444444444444444,
              "#bd3786"
             ],
             [
              0.5555555555555556,
              "#d8576b"
             ],
             [
              0.6666666666666666,
              "#ed7953"
             ],
             [
              0.7777777777777778,
              "#fb9f3a"
             ],
             [
              0.8888888888888888,
              "#fdca26"
             ],
             [
              1,
              "#f0f921"
             ]
            ],
            "type": "histogram2d"
           }
          ],
          "histogram2dcontour": [
           {
            "colorbar": {
             "outlinewidth": 0,
             "ticks": ""
            },
            "colorscale": [
             [
              0,
              "#0d0887"
             ],
             [
              0.1111111111111111,
              "#46039f"
             ],
             [
              0.2222222222222222,
              "#7201a8"
             ],
             [
              0.3333333333333333,
              "#9c179e"
             ],
             [
              0.4444444444444444,
              "#bd3786"
             ],
             [
              0.5555555555555556,
              "#d8576b"
             ],
             [
              0.6666666666666666,
              "#ed7953"
             ],
             [
              0.7777777777777778,
              "#fb9f3a"
             ],
             [
              0.8888888888888888,
              "#fdca26"
             ],
             [
              1,
              "#f0f921"
             ]
            ],
            "type": "histogram2dcontour"
           }
          ],
          "mesh3d": [
           {
            "colorbar": {
             "outlinewidth": 0,
             "ticks": ""
            },
            "type": "mesh3d"
           }
          ],
          "parcoords": [
           {
            "line": {
             "colorbar": {
              "outlinewidth": 0,
              "ticks": ""
             }
            },
            "type": "parcoords"
           }
          ],
          "pie": [
           {
            "automargin": true,
            "type": "pie"
           }
          ],
          "scatter": [
           {
            "fillpattern": {
             "fillmode": "overlay",
             "size": 10,
             "solidity": 0.2
            },
            "type": "scatter"
           }
          ],
          "scatter3d": [
           {
            "line": {
             "colorbar": {
              "outlinewidth": 0,
              "ticks": ""
             }
            },
            "marker": {
             "colorbar": {
              "outlinewidth": 0,
              "ticks": ""
             }
            },
            "type": "scatter3d"
           }
          ],
          "scattercarpet": [
           {
            "marker": {
             "colorbar": {
              "outlinewidth": 0,
              "ticks": ""
             }
            },
            "type": "scattercarpet"
           }
          ],
          "scattergeo": [
           {
            "marker": {
             "colorbar": {
              "outlinewidth": 0,
              "ticks": ""
             }
            },
            "type": "scattergeo"
           }
          ],
          "scattergl": [
           {
            "marker": {
             "colorbar": {
              "outlinewidth": 0,
              "ticks": ""
             }
            },
            "type": "scattergl"
           }
          ],
          "scattermapbox": [
           {
            "marker": {
             "colorbar": {
              "outlinewidth": 0,
              "ticks": ""
             }
            },
            "type": "scattermapbox"
           }
          ],
          "scatterpolar": [
           {
            "marker": {
             "colorbar": {
              "outlinewidth": 0,
              "ticks": ""
             }
            },
            "type": "scatterpolar"
           }
          ],
          "scatterpolargl": [
           {
            "marker": {
             "colorbar": {
              "outlinewidth": 0,
              "ticks": ""
             }
            },
            "type": "scatterpolargl"
           }
          ],
          "scatterternary": [
           {
            "marker": {
             "colorbar": {
              "outlinewidth": 0,
              "ticks": ""
             }
            },
            "type": "scatterternary"
           }
          ],
          "surface": [
           {
            "colorbar": {
             "outlinewidth": 0,
             "ticks": ""
            },
            "colorscale": [
             [
              0,
              "#0d0887"
             ],
             [
              0.1111111111111111,
              "#46039f"
             ],
             [
              0.2222222222222222,
              "#7201a8"
             ],
             [
              0.3333333333333333,
              "#9c179e"
             ],
             [
              0.4444444444444444,
              "#bd3786"
             ],
             [
              0.5555555555555556,
              "#d8576b"
             ],
             [
              0.6666666666666666,
              "#ed7953"
             ],
             [
              0.7777777777777778,
              "#fb9f3a"
             ],
             [
              0.8888888888888888,
              "#fdca26"
             ],
             [
              1,
              "#f0f921"
             ]
            ],
            "type": "surface"
           }
          ],
          "table": [
           {
            "cells": {
             "fill": {
              "color": "#EBF0F8"
             },
             "line": {
              "color": "white"
             }
            },
            "header": {
             "fill": {
              "color": "#C8D4E3"
             },
             "line": {
              "color": "white"
             }
            },
            "type": "table"
           }
          ]
         },
         "layout": {
          "annotationdefaults": {
           "arrowcolor": "#2a3f5f",
           "arrowhead": 0,
           "arrowwidth": 1
          },
          "autotypenumbers": "strict",
          "coloraxis": {
           "colorbar": {
            "outlinewidth": 0,
            "ticks": ""
           }
          },
          "colorscale": {
           "diverging": [
            [
             0,
             "#8e0152"
            ],
            [
             0.1,
             "#c51b7d"
            ],
            [
             0.2,
             "#de77ae"
            ],
            [
             0.3,
             "#f1b6da"
            ],
            [
             0.4,
             "#fde0ef"
            ],
            [
             0.5,
             "#f7f7f7"
            ],
            [
             0.6,
             "#e6f5d0"
            ],
            [
             0.7,
             "#b8e186"
            ],
            [
             0.8,
             "#7fbc41"
            ],
            [
             0.9,
             "#4d9221"
            ],
            [
             1,
             "#276419"
            ]
           ],
           "sequential": [
            [
             0,
             "#0d0887"
            ],
            [
             0.1111111111111111,
             "#46039f"
            ],
            [
             0.2222222222222222,
             "#7201a8"
            ],
            [
             0.3333333333333333,
             "#9c179e"
            ],
            [
             0.4444444444444444,
             "#bd3786"
            ],
            [
             0.5555555555555556,
             "#d8576b"
            ],
            [
             0.6666666666666666,
             "#ed7953"
            ],
            [
             0.7777777777777778,
             "#fb9f3a"
            ],
            [
             0.8888888888888888,
             "#fdca26"
            ],
            [
             1,
             "#f0f921"
            ]
           ],
           "sequentialminus": [
            [
             0,
             "#0d0887"
            ],
            [
             0.1111111111111111,
             "#46039f"
            ],
            [
             0.2222222222222222,
             "#7201a8"
            ],
            [
             0.3333333333333333,
             "#9c179e"
            ],
            [
             0.4444444444444444,
             "#bd3786"
            ],
            [
             0.5555555555555556,
             "#d8576b"
            ],
            [
             0.6666666666666666,
             "#ed7953"
            ],
            [
             0.7777777777777778,
             "#fb9f3a"
            ],
            [
             0.8888888888888888,
             "#fdca26"
            ],
            [
             1,
             "#f0f921"
            ]
           ]
          },
          "colorway": [
           "#636efa",
           "#EF553B",
           "#00cc96",
           "#ab63fa",
           "#FFA15A",
           "#19d3f3",
           "#FF6692",
           "#B6E880",
           "#FF97FF",
           "#FECB52"
          ],
          "font": {
           "color": "#2a3f5f"
          },
          "geo": {
           "bgcolor": "white",
           "lakecolor": "white",
           "landcolor": "#E5ECF6",
           "showlakes": true,
           "showland": true,
           "subunitcolor": "white"
          },
          "hoverlabel": {
           "align": "left"
          },
          "hovermode": "closest",
          "mapbox": {
           "style": "light"
          },
          "paper_bgcolor": "white",
          "plot_bgcolor": "#E5ECF6",
          "polar": {
           "angularaxis": {
            "gridcolor": "white",
            "linecolor": "white",
            "ticks": ""
           },
           "bgcolor": "#E5ECF6",
           "radialaxis": {
            "gridcolor": "white",
            "linecolor": "white",
            "ticks": ""
           }
          },
          "scene": {
           "xaxis": {
            "backgroundcolor": "#E5ECF6",
            "gridcolor": "white",
            "gridwidth": 2,
            "linecolor": "white",
            "showbackground": true,
            "ticks": "",
            "zerolinecolor": "white"
           },
           "yaxis": {
            "backgroundcolor": "#E5ECF6",
            "gridcolor": "white",
            "gridwidth": 2,
            "linecolor": "white",
            "showbackground": true,
            "ticks": "",
            "zerolinecolor": "white"
           },
           "zaxis": {
            "backgroundcolor": "#E5ECF6",
            "gridcolor": "white",
            "gridwidth": 2,
            "linecolor": "white",
            "showbackground": true,
            "ticks": "",
            "zerolinecolor": "white"
           }
          },
          "shapedefaults": {
           "line": {
            "color": "#2a3f5f"
           }
          },
          "ternary": {
           "aaxis": {
            "gridcolor": "white",
            "linecolor": "white",
            "ticks": ""
           },
           "baxis": {
            "gridcolor": "white",
            "linecolor": "white",
            "ticks": ""
           },
           "bgcolor": "#E5ECF6",
           "caxis": {
            "gridcolor": "white",
            "linecolor": "white",
            "ticks": ""
           }
          },
          "title": {
           "x": 0.05
          },
          "xaxis": {
           "automargin": true,
           "gridcolor": "white",
           "linecolor": "white",
           "ticks": "",
           "title": {
            "standoff": 15
           },
           "zerolinecolor": "white",
           "zerolinewidth": 2
          },
          "yaxis": {
           "automargin": true,
           "gridcolor": "white",
           "linecolor": "white",
           "ticks": "",
           "title": {
            "standoff": 15
           },
           "zerolinecolor": "white",
           "zerolinewidth": 2
          }
         }
        },
        "xaxis": {
         "anchor": "y",
         "domain": [
          0,
          0.31999999999999995
         ],
         "title": {
          "text": "Number of Players (log2 scale)"
         }
        },
        "xaxis2": {
         "anchor": "y2",
         "domain": [
          0.33999999999999997,
          0.6599999999999999
         ],
         "matches": "x",
         "title": {
          "text": "Number of Players (log2 scale)"
         }
        },
        "xaxis3": {
         "anchor": "y3",
         "domain": [
          0.6799999999999999,
          0.9999999999999999
         ],
         "matches": "x",
         "title": {
          "text": "Number of Players (log2 scale)"
         }
        },
        "xaxis4": {
         "anchor": "y4",
         "domain": [
          0,
          0.31999999999999995
         ],
         "matches": "x",
         "showticklabels": false
        },
        "xaxis5": {
         "anchor": "y5",
         "domain": [
          0.33999999999999997,
          0.6599999999999999
         ],
         "matches": "x",
         "showticklabels": false
        },
        "xaxis6": {
         "anchor": "y6",
         "domain": [
          0.6799999999999999,
          0.9999999999999999
         ],
         "matches": "x",
         "showticklabels": false
        },
        "yaxis": {
         "anchor": "x",
         "domain": [
          0,
          0.46499999999999997
         ],
         "title": {
          "text": "Runtime (ms/invocation)"
         }
        },
        "yaxis2": {
         "anchor": "x2",
         "domain": [
          0,
          0.46499999999999997
         ],
         "matches": "y",
         "showticklabels": false
        },
        "yaxis3": {
         "anchor": "x3",
         "domain": [
          0,
          0.46499999999999997
         ],
         "matches": "y",
         "showticklabels": false
        },
        "yaxis4": {
         "anchor": "x4",
         "domain": [
          0.5349999999999999,
          0.9999999999999999
         ],
         "matches": "y",
         "title": {
          "text": "Runtime (ms/invocation)"
         }
        },
        "yaxis5": {
         "anchor": "x5",
         "domain": [
          0.5349999999999999,
          0.9999999999999999
         ],
         "matches": "y",
         "showticklabels": false
        },
        "yaxis6": {
         "anchor": "x6",
         "domain": [
          0.5349999999999999,
          0.9999999999999999
         ],
         "matches": "y",
         "showticklabels": false
        }
       }
      }
     },
     "metadata": {},
     "output_type": "display_data"
    }
   ],
   "source": [
    "px.bar(\n",
    "    results,\n",
    "    x=\"Number of Players (log2 scale)\",\n",
    "    y=\"Runtime (ms/invocation)\",\n",
    "    color=\"Sampler Algo\",\n",
    "    facet_col=\"Batch Size\",\n",
    "    facet_col_wrap=3,\n",
    "    barmode=\"group\",\n",
    "    height=800,\n",
    ")"
   ]
  }
 ],
 "metadata": {
  "kernelspec": {
   "display_name": "introba",
   "language": "python",
   "name": "python3"
  },
  "language_info": {
   "codemirror_mode": {
    "name": "ipython",
    "version": 3
   },
   "file_extension": ".py",
   "mimetype": "text/x-python",
   "name": "python",
   "nbconvert_exporter": "python",
   "pygments_lexer": "ipython3",
   "version": "3.9.16"
  },
  "orig_nbformat": 4
 },
 "nbformat": 4,
 "nbformat_minor": 2
}
