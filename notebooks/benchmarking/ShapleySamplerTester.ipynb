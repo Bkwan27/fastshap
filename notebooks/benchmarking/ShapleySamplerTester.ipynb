{
 "cells": [
  {
   "cell_type": "code",
   "execution_count": 1,
   "metadata": {},
   "outputs": [],
   "source": [
    "import torch\n",
    "import time\n",
    "import numpy as np\n",
    "import matplotlib.pyplot as plt\n",
    "from torch.distributions.categorical import Categorical\n",
    "import pandas as pd\n",
    "import plotly.express as px"
   ]
  },
  {
   "cell_type": "code",
   "execution_count": 2,
   "metadata": {},
   "outputs": [],
   "source": [
    "class ShapleySamplerOriginal:\n",
    "    \"\"\"\n",
    "    For sampling player subsets from the Shapley distribution.\n",
    "\n",
    "    Args:\n",
    "      num_players: number of players.\n",
    "    \"\"\"\n",
    "\n",
    "    def __init__(self, num_players):\n",
    "        arange = torch.arange(1, num_players)\n",
    "        w = 1 / (arange * (num_players - arange))\n",
    "        w = w / torch.sum(w)\n",
    "        self.categorical = Categorical(probs=w)\n",
    "        self.num_players = num_players\n",
    "        self.tril = torch.tril(\n",
    "            torch.ones(num_players - 1, num_players, dtype=torch.float32), diagonal=0\n",
    "        )\n",
    "\n",
    "    def sample(self, batch_size, paired_sampling):\n",
    "        \"\"\"\n",
    "        Generate sample.\n",
    "\n",
    "        Args:\n",
    "          batch_size: number of samples.\n",
    "          paired_sampling: whether to use paired sampling.\n",
    "        \"\"\"\n",
    "        num_included = 1 + self.categorical.sample([batch_size])\n",
    "        S = self.tril[num_included - 1]\n",
    "        # TODO ideally avoid for loops\n",
    "        for i in range(batch_size):\n",
    "            if paired_sampling and i % 2 == 1:\n",
    "                S[i] = 1 - S[i - 1]\n",
    "            else:\n",
    "                S[i] = S[i, torch.randperm(self.num_players)]\n",
    "        return S\n",
    "\n",
    "\n",
    "class ShapleySamplerArgSortCPU:\n",
    "    \"\"\"\n",
    "    For sampling player subsets from the Shapley distribution.\n",
    "\n",
    "    Args:\n",
    "      num_players: number of players.\n",
    "    \"\"\"\n",
    "\n",
    "    def __init__(self, num_players):\n",
    "        arange = torch.arange(1, num_players)\n",
    "        w = 1 / (arange * (num_players - arange))\n",
    "        w = w / torch.sum(w)\n",
    "        self.categorical = Categorical(probs=w)\n",
    "        self.num_players = num_players\n",
    "        self.tril = torch.tril(\n",
    "            torch.ones(num_players - 1, num_players, dtype=torch.float32), diagonal=0\n",
    "        )\n",
    "\n",
    "    def sample(self, batch_size, paired_sampling):\n",
    "        \"\"\"\n",
    "        Generate sample.\n",
    "\n",
    "        Args:\n",
    "          batch_size: number of samples.\n",
    "          paired_sampling: whether to use paired sampling.\n",
    "        \"\"\"\n",
    "        num_included = 1 + self.categorical.sample([batch_size])\n",
    "        S = self.tril[num_included - 1]\n",
    "        # Generate a random ordering of indices for each row\n",
    "        indices = torch.argsort(torch.rand_like(S), dim=-1)\n",
    "        # Execute the permutation\n",
    "        S = torch.gather(S, dim=-1, index=indices)\n",
    "        if paired_sampling:\n",
    "            S[1::2] = 1 - S[0 : batch_size - 1 : 2]\n",
    "        return S\n",
    "\n",
    "\n",
    "class ShapleySamplerArgSortGPU:\n",
    "    \"\"\"\n",
    "    For sampling player subsets from the Shapley distribution.\n",
    "\n",
    "    Args:\n",
    "      num_players: number of players.\n",
    "    \"\"\"\n",
    "\n",
    "    def __init__(self, num_players):\n",
    "        arange = torch.arange(1, num_players)\n",
    "        w = 1 / (arange * (num_players - arange))\n",
    "        w = w / torch.sum(w)\n",
    "        self.categorical = Categorical(probs=w)\n",
    "        self.num_players = num_players\n",
    "        self.tril = torch.tril(\n",
    "            torch.ones(num_players - 1, num_players, dtype=torch.float32), diagonal=0\n",
    "        ).to(\"cuda\")\n",
    "\n",
    "    def sample(self, batch_size, paired_sampling):\n",
    "        \"\"\"\n",
    "        Generate sample.\n",
    "\n",
    "        Args:\n",
    "          batch_size: number of samples.\n",
    "          paired_sampling: whether to use paired sampling.\n",
    "        \"\"\"\n",
    "        num_included = (1 + self.categorical.sample([batch_size])).to(\"cuda\")\n",
    "        S = self.tril[num_included - 1]\n",
    "        # Generate a random ordering of indices for each row\n",
    "        indices = torch.argsort(torch.rand_like(S), dim=-1)\n",
    "        # Execute the permutation\n",
    "        S = torch.gather(S, dim=-1, index=indices)\n",
    "        if paired_sampling:\n",
    "            S[1::2] = 1 - S[0 : batch_size - 1 : 2]\n",
    "        return S\n",
    "\n",
    "\n",
    "class ShapleySamplerMultinomialCPU:\n",
    "    \"\"\"\n",
    "    For sampling player subsets from the Shapley distribution.\n",
    "\n",
    "    Args:\n",
    "      num_players: number of players.\n",
    "    \"\"\"\n",
    "\n",
    "    def __init__(self, num_players):\n",
    "        arange = torch.arange(1, num_players)\n",
    "        w = 1 / (arange * (num_players - arange))\n",
    "        w = w / torch.sum(w)\n",
    "        self.categorical = Categorical(probs=w)\n",
    "        self.num_players = num_players\n",
    "        self.tril = torch.tril(\n",
    "            torch.ones(num_players - 1, num_players, dtype=torch.float32), diagonal=0\n",
    "        )\n",
    "\n",
    "    def sample(self, batch_size, paired_sampling):\n",
    "        \"\"\"\n",
    "        Generate sample.\n",
    "\n",
    "        Args:\n",
    "          batch_size: number of samples.\n",
    "          paired_sampling: whether to use paired sampling.\n",
    "        \"\"\"\n",
    "        num_included = 1 + self.categorical.sample([batch_size])\n",
    "        S = self.tril[num_included - 1]\n",
    "        # Generate a random ordering of indices for each row\n",
    "        ix_weights = torch.ones(batch_size, self.num_players)\n",
    "        indices = torch.multinomial(ix_weights, self.num_players, replacement=False)\n",
    "        # Execute the permutation\n",
    "        S = torch.gather(S, dim=-1, index=indices)\n",
    "        if paired_sampling:\n",
    "            S[1::2] = 1 - S[0 : batch_size - 1 : 2]\n",
    "        return S\n",
    "\n",
    "\n",
    "class ShapleySamplerMultinomialGPU:\n",
    "    \"\"\"\n",
    "    For sampling player subsets from the Shapley distribution.\n",
    "\n",
    "    Args:\n",
    "      num_players: number of players.\n",
    "    \"\"\"\n",
    "\n",
    "    def __init__(self, num_players):\n",
    "        arange = torch.arange(1, num_players)\n",
    "        w = 1 / (arange * (num_players - arange))\n",
    "        w = w / torch.sum(w)\n",
    "        self.categorical = Categorical(probs=w)\n",
    "        self.num_players = num_players\n",
    "        self.tril = torch.tril(\n",
    "            torch.ones(num_players - 1, num_players, dtype=torch.float32), diagonal=0\n",
    "        ).to(\"cuda\")\n",
    "\n",
    "    def sample(self, batch_size, paired_sampling):\n",
    "        \"\"\"\n",
    "        Generate sample.\n",
    "\n",
    "        Args:\n",
    "          batch_size: number of samples.\n",
    "          paired_sampling: whether to use paired sampling.\n",
    "        \"\"\"\n",
    "        num_included = (1 + self.categorical.sample([batch_size])).to(\"cuda\")\n",
    "        S = self.tril[num_included - 1]\n",
    "        # Generate a random ordering of indices for each row\n",
    "        ix_weights = torch.ones(batch_size, self.num_players).to(\"cuda\")\n",
    "        indices = torch.multinomial(ix_weights, self.num_players, replacement=False)\n",
    "        # Execute the permutation\n",
    "        S = torch.gather(S, dim=-1, index=indices)\n",
    "        if paired_sampling:\n",
    "            S[1::2] = 1 - S[0 : batch_size - 1 : 2]\n",
    "        return S\n",
    "\n",
    "\n",
    "class ShapleySamplerThreshCPU:\n",
    "    \"\"\"\n",
    "    For sampling player subsets from the Shapley distribution.\n",
    "\n",
    "    Args:\n",
    "      num_players: number of players.\n",
    "    \"\"\"\n",
    "\n",
    "    def __init__(self, num_players):\n",
    "        arange = torch.arange(1, num_players)\n",
    "        w = 1 / (arange * (num_players - arange))\n",
    "        w = w / torch.sum(w)\n",
    "        self.categorical = Categorical(probs=w)\n",
    "        self.num_players = num_players\n",
    "\n",
    "    def sample(self, batch_size, paired_sampling):\n",
    "        \"\"\"\n",
    "        Generate sample.\n",
    "\n",
    "        Args:\n",
    "          batch_size: number of samples.\n",
    "          paired_sampling: whether to use paired sampling.\n",
    "        \"\"\"\n",
    "        # 'num_included' ranges from 0...num_players-2, corresponds to selecting 1...num_players-1\n",
    "        num_included = self.categorical.sample([batch_size])\n",
    "        # We will be generating (batch_size x self.num_players-2) samples, \n",
    "        # and we want the expected value of the sum of each row\n",
    "        # to be the 'num_included' value for that row\n",
    "        thresh = (num_included / (self.num_players - 2)).reshape(-1, 1)\n",
    "        # random test values\n",
    "        test = torch.rand(batch_size, self.num_players - 2)\n",
    "        S_partial = (thresh > test).float()\n",
    "        S = torch.zeros(batch_size, self.num_players)\n",
    "        S[:, 1] = 1  # First column is a zero, second column is a 1\n",
    "        S[:, 2:] = S_partial  # remaining columns are 0-1\n",
    "        # we will now rotate each row by a random distance using gather\n",
    "        # generate a [[0,...num_players-1], [0,...,num_players-1],...] matrix\n",
    "        shifter = torch.arange(self.num_players).reshape(1, -1).tile(batch_size, 1)\n",
    "        # rotate the indices by a random amount\n",
    "        shifter = (\n",
    "            shifter + torch.randint(0, self.num_players, (batch_size, 1))\n",
    "        ) % self.num_players\n",
    "        S = torch.gather(S, dim=-1, index=shifter)\n",
    "\n",
    "        if paired_sampling:\n",
    "            S[1::2] = 1 - S[0 : batch_size - 1 : 2]\n",
    "        return S\n",
    "\n",
    "\n",
    "class ShapleySamplerThreshGPU:\n",
    "    \"\"\"\n",
    "    For sampling player subsets from the Shapley distribution.\n",
    "\n",
    "    Args:\n",
    "      num_players: number of players.\n",
    "    \"\"\"\n",
    "\n",
    "    def __init__(self, num_players):\n",
    "        arange = torch.arange(1, num_players)\n",
    "        w = 1 / (arange * (num_players - arange))\n",
    "        w = w / torch.sum(w)\n",
    "        self.categorical = Categorical(probs=w)\n",
    "        self.num_players = num_players\n",
    "\n",
    "    def sample(self, batch_size, paired_sampling):\n",
    "        \"\"\"\n",
    "        Generate sample.  \n",
    "\n",
    "        Args:\n",
    "          batch_size: number of samples.\n",
    "          paired_sampling: whether to use paired sampling.\n",
    "        \"\"\"\n",
    "        # 'num_included' ranges from 0...num_players-2, corresponds to selecting 1...num_players-1\n",
    "        num_included = (self.categorical.sample([batch_size])).to(\"cuda\")\n",
    "        # We will be generating (batch_size x self.num_players-2) samples, \n",
    "        # and we want the expected value of the sum of each row\n",
    "        # to be the 'num_included' value for that row\n",
    "        thresh = (num_included / (self.num_players - 2)).reshape(-1, 1)\n",
    "        # random test values\n",
    "        test = torch.rand(batch_size, self.num_players - 2).to(\"cuda\")\n",
    "        S_partial = (thresh > test).float()\n",
    "        S = torch.zeros(batch_size, self.num_players).to(\"cuda\")\n",
    "        S[:, 1] = 1  # First column is a zero, second column is a 1\n",
    "        S[:, 2:] = S_partial  # remaining columns are 0-1\n",
    "        # we will now rotate each row by a random distance using gather\n",
    "        # generate a [[0,...num_players-1], [0,...,num_players-1],...] matrix\n",
    "        shifter = (\n",
    "            torch.arange(self.num_players).to(\"cuda\").reshape(1, -1).tile(batch_size, 1)\n",
    "        )\n",
    "        # rotate the indices by a random amount\n",
    "        shifter = (\n",
    "            shifter + torch.randint(0, self.num_players, (batch_size, 1)).to(\"cuda\")\n",
    "        ) % self.num_players\n",
    "        # perform the row-level of rotation\n",
    "        S = torch.gather(S, dim=-1, index=shifter)\n",
    "\n",
    "        if paired_sampling:\n",
    "            S[1::2] = 1 - S[0 : batch_size - 1 : 2]\n",
    "        return S"
   ]
  },
  {
   "cell_type": "code",
   "execution_count": 3,
   "metadata": {},
   "outputs": [],
   "source": [
    "samplers = [\n",
    "    ShapleySamplerOriginal,\n",
    "    ShapleySamplerArgSortCPU,\n",
    "    ShapleySamplerMultinomialCPU,\n",
    "    ShapleySamplerThreshCPU,\n",
    "    ShapleySamplerArgSortGPU,\n",
    "    ShapleySamplerMultinomialGPU,\n",
    "    ShapleySamplerThreshGPU,\n",
    "]"
   ]
  },
  {
   "cell_type": "code",
   "execution_count": 14,
   "metadata": {},
   "outputs": [
    {
     "data": {
      "image/png": "[encoded data removed]",
      "text/plain": [
       "<Figure size 640x480 with 1 Axes>"
      ]
     },
     "metadata": {},
     "output_type": "display_data"
    }
   ],
   "source": [
    "n = 12\n",
    "samplers_distro_test = [Sampler(n) for Sampler in samplers if 'GPU' not in Sampler.__name__]\n",
    "counts = [\n",
    "    s.sample(100000, paired_sampling=False).sum(dim=1).cpu()\n",
    "    for s in samplers_distro_test\n",
    "]\n",
    "plt.hist(\n",
    "    counts,\n",
    "    bins=n - 1,\n",
    "    label=[Sampler.__class__.__name__ for Sampler in samplers_distro_test],\n",
    ")\n",
    "plt.legend()\n",
    "plt.title(\"Distribution of Subset Sizes Generated [num_players = 12]\")\n",
    "plt.xlabel(\"Subset Size\")\n",
    "plt.show()"
   ]
  },
  {
   "cell_type": "code",
   "execution_count": 15,
   "metadata": {},
   "outputs": [
    {
     "data": {
      "image/png": "[encoded data removed]",
      "text/plain": [
       "<Figure size 640x480 with 1 Axes>"
      ]
     },
     "metadata": {},
     "output_type": "display_data"
    }
   ],
   "source": [
    "n = 32\n",
    "samplers_distro_test = [Sampler(n) for Sampler in samplers if 'GPU' not in Sampler.__name__]\n",
    "counts = [\n",
    "    s.sample(100000, paired_sampling=False).sum(dim=1).cpu()\n",
    "    for s in samplers_distro_test\n",
    "]\n",
    "plt.hist(\n",
    "    counts,\n",
    "    bins=n - 1,\n",
    "    label=[Sampler.__class__.__name__ for Sampler in samplers_distro_test],\n",
    ")\n",
    "plt.legend()\n",
    "plt.title(\"Distribution of Subset Sizes Generated [num_players=32]\")\n",
    "plt.xlabel(\"Subset Size\")\n",
    "plt.show()"
   ]
  },
  {
   "cell_type": "code",
   "execution_count": 6,
   "metadata": {},
   "outputs": [],
   "source": [
    "def testSS(Sampler, n, num_players, batch_size):\n",
    "    u = Sampler(num_players)\n",
    "    s = time.time()\n",
    "    for i in range(n):\n",
    "        u.sample(batch_size, paired_sampling=True)\n",
    "    s_per_it = (time.time() - s) / n\n",
    "    return s_per_it"
   ]
  },
  {
   "cell_type": "code",
   "execution_count": 7,
   "metadata": {},
   "outputs": [],
   "source": [
    "num_players = [16, 32, 64, 128, 256, 512]\n",
    "batch_sizes = [16, 32, 64, 128, 256]\n",
    "results = []\n",
    "for i, ShapSamp in enumerate(samplers):\n",
    "    for p in num_players:\n",
    "        for b in batch_sizes:\n",
    "            results.append(\n",
    "                (i, p, b, testSS(ShapSamp, n=100, num_players=p, batch_size=b))\n",
    "            )\n",
    "results = pd.DataFrame(\n",
    "    np.array(results), columns=[\"Sampler\", \"Number of Players\", \"Batch Size\", \"runtime\"]\n",
    ")"
   ]
  },
  {
   "cell_type": "code",
   "execution_count": 8,
   "metadata": {},
   "outputs": [],
   "source": [
    "results[\"Number of Players\"] = results[\"Number of Players\"].astype(int)\n",
    "results[\"Batch Size (log2 scale)\"] = np.log2(results[\"Batch Size\"])\n",
    "results[\"Number of Players (log2 scale)\"] = np.log2(results[\"Number of Players\"])\n",
    "results[\"Runtime (ms/invocation)\"] = results[\"runtime\"] * 1e3\n",
    "results[\"Sampler Algo\"] = (\n",
    "    results[\"Sampler\"]\n",
    "    .astype(int)\n",
    "    .map(\n",
    "        {\n",
    "            i: S.__name__.split(\"ShapleySampler\")[1] for i,S in enumerate(samplers)\n",
    "        }\n",
    "    )\n",
    ")"
   ]
  },
  {
   "cell_type": "code",
   "execution_count": 9,
   "metadata": {},
   "outputs": [
    {
     "data": {
      "application/vnd.plotly.v1+json": {
       "config": {
        "plotlyServerURL": "https://plot.ly"
       },
       "data": [
        {
         "alignmentgroup": "True",
         "hovertemplate": "Sampler Algo=Original<br>Number of Players=16<br>Batch Size (log2 scale)=%{x}<br>Runtime (ms/invocation)=%{y}<extra></extra>",
         "legendgroup": "Original",
         "marker": {
          "color": "#636efa",
          "pattern": {
           "shape": ""
          }
         },
         "name": "Original",
         "offsetgroup": "Original",
         "orientation": "v",
         "showlegend": true,
         "textposition": "auto",
         "type": "bar",
         "x": [
          4,
          5,
          6,
          7,
          8
         ],
         "xaxis": "x4",
         "y": [
          0.47055721282958984,
          0.8756113052368164,
          1.624908447265625,
          3.121957778930664,
          6.6577863693237305
         ],
         "yaxis": "y4"
        },
        {
         "alignmentgroup": "True",
         "hovertemplate": "Sampler Algo=Original<br>Number of Players=32<br>Batch Size (log2 scale)=%{x}<br>Runtime (ms/invocation)=%{y}<extra></extra>",
         "legendgroup": "Original",
         "marker": {
          "color": "#636efa",
          "pattern": {
           "shape": ""
          }
         },
         "name": "Original",
         "offsetgroup": "Original",
         "orientation": "v",
         "showlegend": false,
         "textposition": "auto",
         "type": "bar",
         "x": [
          4,
          5,
          6,
          7,
          8
         ],
         "xaxis": "x5",
         "y": [
          0.5163955688476562,
          0.8802676200866699,
          1.7465829849243164,
          3.2930636405944824,
          6.356689929962158
         ],
         "yaxis": "y5"
        },
        {
         "alignmentgroup": "True",
         "hovertemplate": "Sampler Algo=Original<br>Number of Players=64<br>Batch Size (log2 scale)=%{x}<br>Runtime (ms/invocation)=%{y}<extra></extra>",
         "legendgroup": "Original",
         "marker": {
          "color": "#636efa",
          "pattern": {
           "shape": ""
          }
         },
         "name": "Original",
         "offsetgroup": "Original",
         "orientation": "v",
         "showlegend": false,
         "textposition": "auto",
         "type": "bar",
         "x": [
          4,
          5,
          6,
          7,
          8
         ],
         "xaxis": "x6",
         "y": [
          0.4578590393066406,
          0.9329938888549805,
          1.6454863548278809,
          3.316769599914551,
          6.482188701629639
         ],
         "yaxis": "y6"
        },
        {
         "alignmentgroup": "True",
         "hovertemplate": "Sampler Algo=Original<br>Number of Players=128<br>Batch Size (log2 scale)=%{x}<br>Runtime (ms/invocation)=%{y}<extra></extra>",
         "legendgroup": "Original",
         "marker": {
          "color": "#636efa",
          "pattern": {
           "shape": ""
          }
         },
         "name": "Original",
         "offsetgroup": "Original",
         "orientation": "v",
         "showlegend": false,
         "textposition": "auto",
         "type": "bar",
         "x": [
          4,
          5,
          6,
          7,
          8
         ],
         "xaxis": "x",
         "y": [
          0.5003476142883301,
          0.9000229835510254,
          1.72318696975708,
          3.3219003677368164,
          6.670703887939453
         ],
         "yaxis": "y"
        },
        {
         "alignmentgroup": "True",
         "hovertemplate": "Sampler Algo=Original<br>Number of Players=256<br>Batch Size (log2 scale)=%{x}<br>Runtime (ms/invocation)=%{y}<extra></extra>",
         "legendgroup": "Original",
         "marker": {
          "color": "#636efa",
          "pattern": {
           "shape": ""
          }
         },
         "name": "Original",
         "offsetgroup": "Original",
         "orientation": "v",
         "showlegend": false,
         "textposition": "auto",
         "type": "bar",
         "x": [
          4,
          5,
          6,
          7,
          8
         ],
         "xaxis": "x2",
         "y": [
          0.5067348480224609,
          0.8785295486450195,
          1.7590069770812988,
          3.4135913848876953,
          6.68621301651001
         ],
         "yaxis": "y2"
        },
        {
         "alignmentgroup": "True",
         "hovertemplate": "Sampler Algo=Original<br>Number of Players=512<br>Batch Size (log2 scale)=%{x}<br>Runtime (ms/invocation)=%{y}<extra></extra>",
         "legendgroup": "Original",
         "marker": {
          "color": "#636efa",
          "pattern": {
           "shape": ""
          }
         },
         "name": "Original",
         "offsetgroup": "Original",
         "orientation": "v",
         "showlegend": false,
         "textposition": "auto",
         "type": "bar",
         "x": [
          4,
          5,
          6,
          7,
          8
         ],
         "xaxis": "x3",
         "y": [
          0.5118656158447266,
          0.9624814987182617,
          1.9081687927246094,
          3.6337900161743164,
          7.392988204956055
         ],
         "yaxis": "y3"
        },
        {
         "alignmentgroup": "True",
         "hovertemplate": "Sampler Algo=ArgSortCPU<br>Number of Players=16<br>Batch Size (log2 scale)=%{x}<br>Runtime (ms/invocation)=%{y}<extra></extra>",
         "legendgroup": "ArgSortCPU",
         "marker": {
          "color": "#EF553B",
          "pattern": {
           "shape": ""
          }
         },
         "name": "ArgSortCPU",
         "offsetgroup": "ArgSortCPU",
         "orientation": "v",
         "showlegend": true,
         "textposition": "auto",
         "type": "bar",
         "x": [
          4,
          5,
          6,
          7,
          8
         ],
         "xaxis": "x4",
         "y": [
          0.11017799377441406,
          0.12320280075073242,
          0.1331949234008789,
          0.19588470458984375,
          0.2953481674194336
         ],
         "yaxis": "y4"
        },
        {
         "alignmentgroup": "True",
         "hovertemplate": "Sampler Algo=ArgSortCPU<br>Number of Players=32<br>Batch Size (log2 scale)=%{x}<br>Runtime (ms/invocation)=%{y}<extra></extra>",
         "legendgroup": "ArgSortCPU",
         "marker": {
          "color": "#EF553B",
          "pattern": {
           "shape": ""
          }
         },
         "name": "ArgSortCPU",
         "offsetgroup": "ArgSortCPU",
         "orientation": "v",
         "showlegend": false,
         "textposition": "auto",
         "type": "bar",
         "x": [
          4,
          5,
          6,
          7,
          8
         ],
         "xaxis": "x5",
         "y": [
          0.13617992401123047,
          0.1825857162475586,
          0.2163243293762207,
          0.3723764419555664,
          0.5761265754699707
         ],
         "yaxis": "y5"
        },
        {
         "alignmentgroup": "True",
         "hovertemplate": "Sampler Algo=ArgSortCPU<br>Number of Players=64<br>Batch Size (log2 scale)=%{x}<br>Runtime (ms/invocation)=%{y}<extra></extra>",
         "legendgroup": "ArgSortCPU",
         "marker": {
          "color": "#EF553B",
          "pattern": {
           "shape": ""
          }
         },
         "name": "ArgSortCPU",
         "offsetgroup": "ArgSortCPU",
         "orientation": "v",
         "showlegend": false,
         "textposition": "auto",
         "type": "bar",
         "x": [
          4,
          5,
          6,
          7,
          8
         ],
         "xaxis": "x6",
         "y": [
          0.18018722534179688,
          0.2653980255126953,
          0.370481014251709,
          0.6955075263977051,
          1.2938237190246582
         ],
         "yaxis": "y6"
        },
        {
         "alignmentgroup": "True",
         "hovertemplate": "Sampler Algo=ArgSortCPU<br>Number of Players=128<br>Batch Size (log2 scale)=%{x}<br>Runtime (ms/invocation)=%{y}<extra></extra>",
         "legendgroup": "ArgSortCPU",
         "marker": {
          "color": "#EF553B",
          "pattern": {
           "shape": ""
          }
         },
         "name": "ArgSortCPU",
         "offsetgroup": "ArgSortCPU",
         "orientation": "v",
         "showlegend": false,
         "textposition": "auto",
         "type": "bar",
         "x": [
          4,
          5,
          6,
          7,
          8
         ],
         "xaxis": "x",
         "y": [
          0.28084516525268555,
          0.4605269432067871,
          0.8186626434326172,
          1.3852548599243164,
          2.9851198196411133
         ],
         "yaxis": "y"
        },
        {
         "alignmentgroup": "True",
         "hovertemplate": "Sampler Algo=ArgSortCPU<br>Number of Players=256<br>Batch Size (log2 scale)=%{x}<br>Runtime (ms/invocation)=%{y}<extra></extra>",
         "legendgroup": "ArgSortCPU",
         "marker": {
          "color": "#EF553B",
          "pattern": {
           "shape": ""
          }
         },
         "name": "ArgSortCPU",
         "offsetgroup": "ArgSortCPU",
         "orientation": "v",
         "showlegend": false,
         "textposition": "auto",
         "type": "bar",
         "x": [
          4,
          5,
          6,
          7,
          8
         ],
         "xaxis": "x2",
         "y": [
          0.5450129508972168,
          0.9110093116760254,
          1.7206525802612305,
          3.2569384574890137,
          3.623199462890625
         ],
         "yaxis": "y2"
        },
        {
         "alignmentgroup": "True",
         "hovertemplate": "Sampler Algo=ArgSortCPU<br>Number of Players=512<br>Batch Size (log2 scale)=%{x}<br>Runtime (ms/invocation)=%{y}<extra></extra>",
         "legendgroup": "ArgSortCPU",
         "marker": {
          "color": "#EF553B",
          "pattern": {
           "shape": ""
          }
         },
         "name": "ArgSortCPU",
         "offsetgroup": "ArgSortCPU",
         "orientation": "v",
         "showlegend": false,
         "textposition": "auto",
         "type": "bar",
         "x": [
          4,
          5,
          6,
          7,
          8
         ],
         "xaxis": "x3",
         "y": [
          1.0146808624267578,
          1.7959094047546387,
          3.8062191009521484,
          4.018397331237793,
          4.904434680938721
         ],
         "yaxis": "y3"
        },
        {
         "alignmentgroup": "True",
         "hovertemplate": "Sampler Algo=MultinomialCPU<br>Number of Players=16<br>Batch Size (log2 scale)=%{x}<br>Runtime (ms/invocation)=%{y}<extra></extra>",
         "legendgroup": "MultinomialCPU",
         "marker": {
          "color": "#00cc96",
          "pattern": {
           "shape": ""
          }
         },
         "name": "MultinomialCPU",
         "offsetgroup": "MultinomialCPU",
         "orientation": "v",
         "showlegend": true,
         "textposition": "auto",
         "type": "bar",
         "x": [
          4,
          5,
          6,
          7,
          8
         ],
         "xaxis": "x4",
         "y": [
          0.15522003173828125,
          0.19018173217773438,
          0.20522356033325195,
          0.22015094757080078,
          0.29332399368286133
         ],
         "yaxis": "y4"
        },
        {
         "alignmentgroup": "True",
         "hovertemplate": "Sampler Algo=MultinomialCPU<br>Number of Players=32<br>Batch Size (log2 scale)=%{x}<br>Runtime (ms/invocation)=%{y}<extra></extra>",
         "legendgroup": "MultinomialCPU",
         "marker": {
          "color": "#00cc96",
          "pattern": {
           "shape": ""
          }
         },
         "name": "MultinomialCPU",
         "offsetgroup": "MultinomialCPU",
         "orientation": "v",
         "showlegend": false,
         "textposition": "auto",
         "type": "bar",
         "x": [
          4,
          5,
          6,
          7,
          8
         ],
         "xaxis": "x5",
         "y": [
          0.17508268356323242,
          0.20518064498901367,
          0.25463104248046875,
          0.36546945571899414,
          0.5033469200134277
         ],
         "yaxis": "y5"
        },
        {
         "alignmentgroup": "True",
         "hovertemplate": "Sampler Algo=MultinomialCPU<br>Number of Players=64<br>Batch Size (log2 scale)=%{x}<br>Runtime (ms/invocation)=%{y}<extra></extra>",
         "legendgroup": "MultinomialCPU",
         "marker": {
          "color": "#00cc96",
          "pattern": {
           "shape": ""
          }
         },
         "name": "MultinomialCPU",
         "offsetgroup": "MultinomialCPU",
         "orientation": "v",
         "showlegend": false,
         "textposition": "auto",
         "type": "bar",
         "x": [
          4,
          5,
          6,
          7,
          8
         ],
         "xaxis": "x6",
         "y": [
          0.23536205291748047,
          0.27715206146240234,
          0.4106926918029785,
          0.623013973236084,
          1.0044407844543457
         ],
         "yaxis": "y6"
        },
        {
         "alignmentgroup": "True",
         "hovertemplate": "Sampler Algo=MultinomialCPU<br>Number of Players=128<br>Batch Size (log2 scale)=%{x}<br>Runtime (ms/invocation)=%{y}<extra></extra>",
         "legendgroup": "MultinomialCPU",
         "marker": {
          "color": "#00cc96",
          "pattern": {
           "shape": ""
          }
         },
         "name": "MultinomialCPU",
         "offsetgroup": "MultinomialCPU",
         "orientation": "v",
         "showlegend": false,
         "textposition": "auto",
         "type": "bar",
         "x": [
          4,
          5,
          6,
          7,
          8
         ],
         "xaxis": "x",
         "y": [
          0.2823305130004883,
          0.4404163360595703,
          0.6352496147155762,
          1.0940146446228027,
          2.088632583618164
         ],
         "yaxis": "y"
        },
        {
         "alignmentgroup": "True",
         "hovertemplate": "Sampler Algo=MultinomialCPU<br>Number of Players=256<br>Batch Size (log2 scale)=%{x}<br>Runtime (ms/invocation)=%{y}<extra></extra>",
         "legendgroup": "MultinomialCPU",
         "marker": {
          "color": "#00cc96",
          "pattern": {
           "shape": ""
          }
         },
         "name": "MultinomialCPU",
         "offsetgroup": "MultinomialCPU",
         "orientation": "v",
         "showlegend": false,
         "textposition": "auto",
         "type": "bar",
         "x": [
          4,
          5,
          6,
          7,
          8
         ],
         "xaxis": "x2",
         "y": [
          0.4309868812561035,
          0.714116096496582,
          1.2873005867004395,
          2.292943000793457,
          2.4158787727355957
         ],
         "yaxis": "y2"
        },
        {
         "alignmentgroup": "True",
         "hovertemplate": "Sampler Algo=MultinomialCPU<br>Number of Players=512<br>Batch Size (log2 scale)=%{x}<br>Runtime (ms/invocation)=%{y}<extra></extra>",
         "legendgroup": "MultinomialCPU",
         "marker": {
          "color": "#00cc96",
          "pattern": {
           "shape": ""
          }
         },
         "name": "MultinomialCPU",
         "offsetgroup": "MultinomialCPU",
         "orientation": "v",
         "showlegend": false,
         "textposition": "auto",
         "type": "bar",
         "x": [
          4,
          5,
          6,
          7,
          8
         ],
         "xaxis": "x3",
         "y": [
          0.771944522857666,
          1.383202075958252,
          2.4989748001098633,
          2.778162956237793,
          3.330709934234619
         ],
         "yaxis": "y3"
        },
        {
         "alignmentgroup": "True",
         "hovertemplate": "Sampler Algo=ThreshCPU<br>Number of Players=16<br>Batch Size (log2 scale)=%{x}<br>Runtime (ms/invocation)=%{y}<extra></extra>",
         "legendgroup": "ThreshCPU",
         "marker": {
          "color": "#ab63fa",
          "pattern": {
           "shape": ""
          }
         },
         "name": "ThreshCPU",
         "offsetgroup": "ThreshCPU",
         "orientation": "v",
         "showlegend": true,
         "textposition": "auto",
         "type": "bar",
         "x": [
          4,
          5,
          6,
          7,
          8
         ],
         "xaxis": "x4",
         "y": [
          0.20018815994262695,
          0.18018245697021484,
          0.21018743515014648,
          0.21024703979492188,
          0.2953672409057617
         ],
         "yaxis": "y4"
        },
        {
         "alignmentgroup": "True",
         "hovertemplate": "Sampler Algo=ThreshCPU<br>Number of Players=32<br>Batch Size (log2 scale)=%{x}<br>Runtime (ms/invocation)=%{y}<extra></extra>",
         "legendgroup": "ThreshCPU",
         "marker": {
          "color": "#ab63fa",
          "pattern": {
           "shape": ""
          }
         },
         "name": "ThreshCPU",
         "offsetgroup": "ThreshCPU",
         "orientation": "v",
         "showlegend": false,
         "textposition": "auto",
         "type": "bar",
         "x": [
          4,
          5,
          6,
          7,
          8
         ],
         "xaxis": "x5",
         "y": [
          0.170135498046875,
          0.19016027450561523,
          0.21015167236328125,
          0.284116268157959,
          0.32521724700927734
         ],
         "yaxis": "y5"
        },
        {
         "alignmentgroup": "True",
         "hovertemplate": "Sampler Algo=ThreshCPU<br>Number of Players=64<br>Batch Size (log2 scale)=%{x}<br>Runtime (ms/invocation)=%{y}<extra></extra>",
         "legendgroup": "ThreshCPU",
         "marker": {
          "color": "#ab63fa",
          "pattern": {
           "shape": ""
          }
         },
         "name": "ThreshCPU",
         "offsetgroup": "ThreshCPU",
         "orientation": "v",
         "showlegend": false,
         "textposition": "auto",
         "type": "bar",
         "x": [
          4,
          5,
          6,
          7,
          8
         ],
         "xaxis": "x6",
         "y": [
          0.1914048194885254,
          0.20110607147216797,
          0.24743080139160156,
          0.31030893325805664,
          0.42229175567626953
         ],
         "yaxis": "y6"
        },
        {
         "alignmentgroup": "True",
         "hovertemplate": "Sampler Algo=ThreshCPU<br>Number of Players=128<br>Batch Size (log2 scale)=%{x}<br>Runtime (ms/invocation)=%{y}<extra></extra>",
         "legendgroup": "ThreshCPU",
         "marker": {
          "color": "#ab63fa",
          "pattern": {
           "shape": ""
          }
         },
         "name": "ThreshCPU",
         "offsetgroup": "ThreshCPU",
         "orientation": "v",
         "showlegend": false,
         "textposition": "auto",
         "type": "bar",
         "x": [
          4,
          5,
          6,
          7,
          8
         ],
         "xaxis": "x",
         "y": [
          0.20616769790649414,
          0.22310256958007812,
          0.2952289581298828,
          0.42278051376342773,
          0.6686568260192871
         ],
         "yaxis": "y"
        },
        {
         "alignmentgroup": "True",
         "hovertemplate": "Sampler Algo=ThreshCPU<br>Number of Players=256<br>Batch Size (log2 scale)=%{x}<br>Runtime (ms/invocation)=%{y}<extra></extra>",
         "legendgroup": "ThreshCPU",
         "marker": {
          "color": "#ab63fa",
          "pattern": {
           "shape": ""
          }
         },
         "name": "ThreshCPU",
         "offsetgroup": "ThreshCPU",
         "orientation": "v",
         "showlegend": false,
         "textposition": "auto",
         "type": "bar",
         "x": [
          4,
          5,
          6,
          7,
          8
         ],
         "xaxis": "x2",
         "y": [
          0.27164697647094727,
          0.29889345169067383,
          0.41771411895751953,
          0.6549859046936035,
          0.9778189659118653
         ],
         "yaxis": "y2"
        },
        {
         "alignmentgroup": "True",
         "hovertemplate": "Sampler Algo=ThreshCPU<br>Number of Players=512<br>Batch Size (log2 scale)=%{x}<br>Runtime (ms/invocation)=%{y}<extra></extra>",
         "legendgroup": "ThreshCPU",
         "marker": {
          "color": "#ab63fa",
          "pattern": {
           "shape": ""
          }
         },
         "name": "ThreshCPU",
         "offsetgroup": "ThreshCPU",
         "orientation": "v",
         "showlegend": false,
         "textposition": "auto",
         "type": "bar",
         "x": [
          4,
          5,
          6,
          7,
          8
         ],
         "xaxis": "x3",
         "y": [
          0.31033992767333984,
          0.4554939270019531,
          0.7546234130859375,
          0.8896851539611816,
          1.8341279029846191
         ],
         "yaxis": "y3"
        },
        {
         "alignmentgroup": "True",
         "hovertemplate": "Sampler Algo=ArgSortGPU<br>Number of Players=16<br>Batch Size (log2 scale)=%{x}<br>Runtime (ms/invocation)=%{y}<extra></extra>",
         "legendgroup": "ArgSortGPU",
         "marker": {
          "color": "#FFA15A",
          "pattern": {
           "shape": ""
          }
         },
         "name": "ArgSortGPU",
         "offsetgroup": "ArgSortGPU",
         "orientation": "v",
         "showlegend": true,
         "textposition": "auto",
         "type": "bar",
         "x": [
          4,
          5,
          6,
          7,
          8
         ],
         "xaxis": "x4",
         "y": [
          0.8759403228759766,
          0.36043882369995117,
          0.35049915313720703,
          0.3752613067626953,
          0.5414652824401855
         ],
         "yaxis": "y4"
        },
        {
         "alignmentgroup": "True",
         "hovertemplate": "Sampler Algo=ArgSortGPU<br>Number of Players=32<br>Batch Size (log2 scale)=%{x}<br>Runtime (ms/invocation)=%{y}<extra></extra>",
         "legendgroup": "ArgSortGPU",
         "marker": {
          "color": "#FFA15A",
          "pattern": {
           "shape": ""
          }
         },
         "name": "ArgSortGPU",
         "offsetgroup": "ArgSortGPU",
         "orientation": "v",
         "showlegend": false,
         "textposition": "auto",
         "type": "bar",
         "x": [
          4,
          5,
          6,
          7,
          8
         ],
         "xaxis": "x5",
         "y": [
          0.4259371757507324,
          0.6205224990844727,
          0.36082029342651367,
          0.3653883934020996,
          0.37630558013916016
         ],
         "yaxis": "y5"
        },
        {
         "alignmentgroup": "True",
         "hovertemplate": "Sampler Algo=ArgSortGPU<br>Number of Players=64<br>Batch Size (log2 scale)=%{x}<br>Runtime (ms/invocation)=%{y}<extra></extra>",
         "legendgroup": "ArgSortGPU",
         "marker": {
          "color": "#FFA15A",
          "pattern": {
           "shape": ""
          }
         },
         "name": "ArgSortGPU",
         "offsetgroup": "ArgSortGPU",
         "orientation": "v",
         "showlegend": false,
         "textposition": "auto",
         "type": "bar",
         "x": [
          4,
          5,
          6,
          7,
          8
         ],
         "xaxis": "x6",
         "y": [
          0.35250425338745117,
          0.35233497619628906,
          0.34543514251708984,
          0.37598609924316406,
          0.3505253791809082
         ],
         "yaxis": "y6"
        },
        {
         "alignmentgroup": "True",
         "hovertemplate": "Sampler Algo=ArgSortGPU<br>Number of Players=128<br>Batch Size (log2 scale)=%{x}<br>Runtime (ms/invocation)=%{y}<extra></extra>",
         "legendgroup": "ArgSortGPU",
         "marker": {
          "color": "#FFA15A",
          "pattern": {
           "shape": ""
          }
         },
         "name": "ArgSortGPU",
         "offsetgroup": "ArgSortGPU",
         "orientation": "v",
         "showlegend": false,
         "textposition": "auto",
         "type": "bar",
         "x": [
          4,
          5,
          6,
          7,
          8
         ],
         "xaxis": "x",
         "y": [
          0.521247386932373,
          0.3510761260986328,
          0.3603839874267578,
          0.36547422409057617,
          0.3769874572753906
         ],
         "yaxis": "y"
        },
        {
         "alignmentgroup": "True",
         "hovertemplate": "Sampler Algo=ArgSortGPU<br>Number of Players=256<br>Batch Size (log2 scale)=%{x}<br>Runtime (ms/invocation)=%{y}<extra></extra>",
         "legendgroup": "ArgSortGPU",
         "marker": {
          "color": "#FFA15A",
          "pattern": {
           "shape": ""
          }
         },
         "name": "ArgSortGPU",
         "offsetgroup": "ArgSortGPU",
         "orientation": "v",
         "showlegend": false,
         "textposition": "auto",
         "type": "bar",
         "x": [
          4,
          5,
          6,
          7,
          8
         ],
         "xaxis": "x2",
         "y": [
          0.39092063903808594,
          0.36644935607910156,
          0.3455018997192383,
          0.3962373733520508,
          0.34767627716064453
         ],
         "yaxis": "y2"
        },
        {
         "alignmentgroup": "True",
         "hovertemplate": "Sampler Algo=ArgSortGPU<br>Number of Players=512<br>Batch Size (log2 scale)=%{x}<br>Runtime (ms/invocation)=%{y}<extra></extra>",
         "legendgroup": "ArgSortGPU",
         "marker": {
          "color": "#FFA15A",
          "pattern": {
           "shape": ""
          }
         },
         "name": "ArgSortGPU",
         "offsetgroup": "ArgSortGPU",
         "orientation": "v",
         "showlegend": false,
         "textposition": "auto",
         "type": "bar",
         "x": [
          4,
          5,
          6,
          7,
          8
         ],
         "xaxis": "x3",
         "y": [
          0.35610437393188477,
          0.3407573699951172,
          0.34282445907592773,
          0.361480712890625,
          0.4108881950378418
         ],
         "yaxis": "y3"
        },
        {
         "alignmentgroup": "True",
         "hovertemplate": "Sampler Algo=MultinomialGPU<br>Number of Players=16<br>Batch Size (log2 scale)=%{x}<br>Runtime (ms/invocation)=%{y}<extra></extra>",
         "legendgroup": "MultinomialGPU",
         "marker": {
          "color": "#19d3f3",
          "pattern": {
           "shape": ""
          }
         },
         "name": "MultinomialGPU",
         "offsetgroup": "MultinomialGPU",
         "orientation": "v",
         "showlegend": true,
         "textposition": "auto",
         "type": "bar",
         "x": [
          4,
          5,
          6,
          7,
          8
         ],
         "xaxis": "x4",
         "y": [
          0.8845186233520508,
          0.5870771408081055,
          0.5861544609069824,
          0.6426572799682617,
          0.612185001373291
         ],
         "yaxis": "y4"
        },
        {
         "alignmentgroup": "True",
         "hovertemplate": "Sampler Algo=MultinomialGPU<br>Number of Players=32<br>Batch Size (log2 scale)=%{x}<br>Runtime (ms/invocation)=%{y}<extra></extra>",
         "legendgroup": "MultinomialGPU",
         "marker": {
          "color": "#19d3f3",
          "pattern": {
           "shape": ""
          }
         },
         "name": "MultinomialGPU",
         "offsetgroup": "MultinomialGPU",
         "orientation": "v",
         "showlegend": false,
         "textposition": "auto",
         "type": "bar",
         "x": [
          4,
          5,
          6,
          7,
          8
         ],
         "xaxis": "x5",
         "y": [
          0.6374907493591309,
          0.6100678443908691,
          0.6268763542175293,
          0.6461644172668457,
          0.8748769760131836
         ],
         "yaxis": "y5"
        },
        {
         "alignmentgroup": "True",
         "hovertemplate": "Sampler Algo=MultinomialGPU<br>Number of Players=64<br>Batch Size (log2 scale)=%{x}<br>Runtime (ms/invocation)=%{y}<extra></extra>",
         "legendgroup": "MultinomialGPU",
         "marker": {
          "color": "#19d3f3",
          "pattern": {
           "shape": ""
          }
         },
         "name": "MultinomialGPU",
         "offsetgroup": "MultinomialGPU",
         "orientation": "v",
         "showlegend": false,
         "textposition": "auto",
         "type": "bar",
         "x": [
          4,
          5,
          6,
          7,
          8
         ],
         "xaxis": "x6",
         "y": [
          0.7056784629821777,
          0.9309649467468262,
          0.6052041053771973,
          0.6152987480163574,
          0.6258559226989746
         ],
         "yaxis": "y6"
        },
        {
         "alignmentgroup": "True",
         "hovertemplate": "Sampler Algo=MultinomialGPU<br>Number of Players=128<br>Batch Size (log2 scale)=%{x}<br>Runtime (ms/invocation)=%{y}<extra></extra>",
         "legendgroup": "MultinomialGPU",
         "marker": {
          "color": "#19d3f3",
          "pattern": {
           "shape": ""
          }
         },
         "name": "MultinomialGPU",
         "offsetgroup": "MultinomialGPU",
         "orientation": "v",
         "showlegend": false,
         "textposition": "auto",
         "type": "bar",
         "x": [
          4,
          5,
          6,
          7,
          8
         ],
         "xaxis": "x",
         "y": [
          0.6361079216003418,
          0.746915340423584,
          0.7430458068847656,
          0.5990052223205566,
          0.6205868721008301
         ],
         "yaxis": "y"
        },
        {
         "alignmentgroup": "True",
         "hovertemplate": "Sampler Algo=MultinomialGPU<br>Number of Players=256<br>Batch Size (log2 scale)=%{x}<br>Runtime (ms/invocation)=%{y}<extra></extra>",
         "legendgroup": "MultinomialGPU",
         "marker": {
          "color": "#19d3f3",
          "pattern": {
           "shape": ""
          }
         },
         "name": "MultinomialGPU",
         "offsetgroup": "MultinomialGPU",
         "orientation": "v",
         "showlegend": false,
         "textposition": "auto",
         "type": "bar",
         "x": [
          4,
          5,
          6,
          7,
          8
         ],
         "xaxis": "x2",
         "y": [
          0.6036758422851562,
          0.7297778129577637,
          0.6270051002502441,
          0.6230044364929199,
          0.6912064552307129
         ],
         "yaxis": "y2"
        },
        {
         "alignmentgroup": "True",
         "hovertemplate": "Sampler Algo=MultinomialGPU<br>Number of Players=512<br>Batch Size (log2 scale)=%{x}<br>Runtime (ms/invocation)=%{y}<extra></extra>",
         "legendgroup": "MultinomialGPU",
         "marker": {
          "color": "#19d3f3",
          "pattern": {
           "shape": ""
          }
         },
         "name": "MultinomialGPU",
         "offsetgroup": "MultinomialGPU",
         "orientation": "v",
         "showlegend": false,
         "textposition": "auto",
         "type": "bar",
         "x": [
          4,
          5,
          6,
          7,
          8
         ],
         "xaxis": "x3",
         "y": [
          0.6299996376037598,
          0.6456565856933594,
          0.5955219268798828,
          0.6471109390258789,
          0.7318544387817383
         ],
         "yaxis": "y3"
        },
        {
         "alignmentgroup": "True",
         "hovertemplate": "Sampler Algo=ThreshGPU<br>Number of Players=16<br>Batch Size (log2 scale)=%{x}<br>Runtime (ms/invocation)=%{y}<extra></extra>",
         "legendgroup": "ThreshGPU",
         "marker": {
          "color": "#FF6692",
          "pattern": {
           "shape": ""
          }
         },
         "name": "ThreshGPU",
         "offsetgroup": "ThreshGPU",
         "orientation": "v",
         "showlegend": true,
         "textposition": "auto",
         "type": "bar",
         "x": [
          4,
          5,
          6,
          7,
          8
         ],
         "xaxis": "x4",
         "y": [
          0.6877923011779785,
          0.5962991714477539,
          0.5846881866455078,
          0.5625748634338379,
          0.5866885185241699
         ],
         "yaxis": "y4"
        },
        {
         "alignmentgroup": "True",
         "hovertemplate": "Sampler Algo=ThreshGPU<br>Number of Players=32<br>Batch Size (log2 scale)=%{x}<br>Runtime (ms/invocation)=%{y}<extra></extra>",
         "legendgroup": "ThreshGPU",
         "marker": {
          "color": "#FF6692",
          "pattern": {
           "shape": ""
          }
         },
         "name": "ThreshGPU",
         "offsetgroup": "ThreshGPU",
         "orientation": "v",
         "showlegend": false,
         "textposition": "auto",
         "type": "bar",
         "x": [
          4,
          5,
          6,
          7,
          8
         ],
         "xaxis": "x5",
         "y": [
          0.5547237396240234,
          0.5696010589599609,
          0.5689597129821777,
          0.5726313591003418,
          0.6026339530944824
         ],
         "yaxis": "y5"
        },
        {
         "alignmentgroup": "True",
         "hovertemplate": "Sampler Algo=ThreshGPU<br>Number of Players=64<br>Batch Size (log2 scale)=%{x}<br>Runtime (ms/invocation)=%{y}<extra></extra>",
         "legendgroup": "ThreshGPU",
         "marker": {
          "color": "#FF6692",
          "pattern": {
           "shape": ""
          }
         },
         "name": "ThreshGPU",
         "offsetgroup": "ThreshGPU",
         "orientation": "v",
         "showlegend": false,
         "textposition": "auto",
         "type": "bar",
         "x": [
          4,
          5,
          6,
          7,
          8
         ],
         "xaxis": "x6",
         "y": [
          0.5600881576538086,
          0.5696320533752441,
          0.5640959739685059,
          0.5984139442443848,
          0.6573677062988281
         ],
         "yaxis": "y6"
        },
        {
         "alignmentgroup": "True",
         "hovertemplate": "Sampler Algo=ThreshGPU<br>Number of Players=128<br>Batch Size (log2 scale)=%{x}<br>Runtime (ms/invocation)=%{y}<extra></extra>",
         "legendgroup": "ThreshGPU",
         "marker": {
          "color": "#FF6692",
          "pattern": {
           "shape": ""
          }
         },
         "name": "ThreshGPU",
         "offsetgroup": "ThreshGPU",
         "orientation": "v",
         "showlegend": false,
         "textposition": "auto",
         "type": "bar",
         "x": [
          4,
          5,
          6,
          7,
          8
         ],
         "xaxis": "x",
         "y": [
          0.5463027954101562,
          0.596320629119873,
          0.5999922752380371,
          0.6915664672851562,
          0.7356405258178711
         ],
         "yaxis": "y"
        },
        {
         "alignmentgroup": "True",
         "hovertemplate": "Sampler Algo=ThreshGPU<br>Number of Players=256<br>Batch Size (log2 scale)=%{x}<br>Runtime (ms/invocation)=%{y}<extra></extra>",
         "legendgroup": "ThreshGPU",
         "marker": {
          "color": "#FF6692",
          "pattern": {
           "shape": ""
          }
         },
         "name": "ThreshGPU",
         "offsetgroup": "ThreshGPU",
         "orientation": "v",
         "showlegend": false,
         "textposition": "auto",
         "type": "bar",
         "x": [
          4,
          5,
          6,
          7,
          8
         ],
         "xaxis": "x2",
         "y": [
          0.5645442008972168,
          0.6016635894775391,
          0.6393575668334961,
          0.7424688339233398,
          1.0478448867797852
         ],
         "yaxis": "y2"
        },
        {
         "alignmentgroup": "True",
         "hovertemplate": "Sampler Algo=ThreshGPU<br>Number of Players=512<br>Batch Size (log2 scale)=%{x}<br>Runtime (ms/invocation)=%{y}<extra></extra>",
         "legendgroup": "ThreshGPU",
         "marker": {
          "color": "#FF6692",
          "pattern": {
           "shape": ""
          }
         },
         "name": "ThreshGPU",
         "offsetgroup": "ThreshGPU",
         "orientation": "v",
         "showlegend": false,
         "textposition": "auto",
         "type": "bar",
         "x": [
          4,
          5,
          6,
          7,
          8
         ],
         "xaxis": "x3",
         "y": [
          0.642249584197998,
          0.7007241249084473,
          0.7577323913574219,
          1.0504674911499023,
          1.4041733741760254
         ],
         "yaxis": "y3"
        }
       ],
       "layout": {
        "annotations": [
         {
          "font": {},
          "showarrow": false,
          "text": "Number of Players=128",
          "x": 0.15999999999999998,
          "xanchor": "center",
          "xref": "paper",
          "y": 0.46499999999999997,
          "yanchor": "bottom",
          "yref": "paper"
         },
         {
          "font": {},
          "showarrow": false,
          "text": "Number of Players=256",
          "x": 0.49999999999999994,
          "xanchor": "center",
          "xref": "paper",
          "y": 0.46499999999999997,
          "yanchor": "bottom",
          "yref": "paper"
         },
         {
          "font": {},
          "showarrow": false,
          "text": "Number of Players=512",
          "x": 0.8399999999999999,
          "xanchor": "center",
          "xref": "paper",
          "y": 0.46499999999999997,
          "yanchor": "bottom",
          "yref": "paper"
         },
         {
          "font": {},
          "showarrow": false,
          "text": "Number of Players=16",
          "x": 0.15999999999999998,
          "xanchor": "center",
          "xref": "paper",
          "y": 0.9999999999999999,
          "yanchor": "bottom",
          "yref": "paper"
         },
         {
          "font": {},
          "showarrow": false,
          "text": "Number of Players=32",
          "x": 0.49999999999999994,
          "xanchor": "center",
          "xref": "paper",
          "y": 0.9999999999999999,
          "yanchor": "bottom",
          "yref": "paper"
         },
         {
          "font": {},
          "showarrow": false,
          "text": "Number of Players=64",
          "x": 0.8399999999999999,
          "xanchor": "center",
          "xref": "paper",
          "y": 0.9999999999999999,
          "yanchor": "bottom",
          "yref": "paper"
         }
        ],
        "barmode": "group",
        "height": 800,
        "legend": {
         "title": {
          "text": "Sampler Algo"
         },
         "tracegroupgap": 0
        },
        "margin": {
         "t": 60
        },
        "template": {
         "data": {
          "bar": [
           {
            "error_x": {
             "color": "#2a3f5f"
            },
            "error_y": {
             "color": "#2a3f5f"
            },
            "marker": {
             "line": {
              "color": "#E5ECF6",
              "width": 0.5
             },
             "pattern": {
              "fillmode": "overlay",
              "size": 10,
              "solidity": 0.2
             }
            },
            "type": "bar"
           }
          ],
          "barpolar": [
           {
            "marker": {
             "line": {
              "color": "#E5ECF6",
              "width": 0.5
             },
             "pattern": {
              "fillmode": "overlay",
              "size": 10,
              "solidity": 0.2
             }
            },
            "type": "barpolar"
           }
          ],
          "carpet": [
           {
            "aaxis": {
             "endlinecolor": "#2a3f5f",
             "gridcolor": "white",
             "linecolor": "white",
             "minorgridcolor": "white",
             "startlinecolor": "#2a3f5f"
            },
            "baxis": {
             "endlinecolor": "#2a3f5f",
             "gridcolor": "white",
             "linecolor": "white",
             "minorgridcolor": "white",
             "startlinecolor": "#2a3f5f"
            },
            "type": "carpet"
           }
          ],
          "choropleth": [
           {
            "colorbar": {
             "outlinewidth": 0,
             "ticks": ""
            },
            "type": "choropleth"
           }
          ],
          "contour": [
           {
            "colorbar": {
             "outlinewidth": 0,
             "ticks": ""
            },
            "colorscale": [
             [
              0,
              "#0d0887"
             ],
             [
              0.1111111111111111,
              "#46039f"
             ],
             [
              0.2222222222222222,
              "#7201a8"
             ],
             [
              0.3333333333333333,
              "#9c179e"
             ],
             [
              0.4444444444444444,
              "#bd3786"
             ],
             [
              0.5555555555555556,
              "#d8576b"
             ],
             [
              0.6666666666666666,
              "#ed7953"
             ],
             [
              0.7777777777777778,
              "#fb9f3a"
             ],
             [
              0.8888888888888888,
              "#fdca26"
             ],
             [
              1,
              "#f0f921"
             ]
            ],
            "type": "contour"
           }
          ],
          "contourcarpet": [
           {
            "colorbar": {
             "outlinewidth": 0,
             "ticks": ""
            },
            "type": "contourcarpet"
           }
          ],
          "heatmap": [
           {
            "colorbar": {
             "outlinewidth": 0,
             "ticks": ""
            },
            "colorscale": [
             [
              0,
              "#0d0887"
             ],
             [
              0.1111111111111111,
              "#46039f"
             ],
             [
              0.2222222222222222,
              "#7201a8"
             ],
             [
              0.3333333333333333,
              "#9c179e"
             ],
             [
              0.4444444444444444,
              "#bd3786"
             ],
             [
              0.5555555555555556,
              "#d8576b"
             ],
             [
              0.6666666666666666,
              "#ed7953"
             ],
             [
              0.7777777777777778,
              "#fb9f3a"
             ],
             [
              0.8888888888888888,
              "#fdca26"
             ],
             [
              1,
              "#f0f921"
             ]
            ],
            "type": "heatmap"
           }
          ],
          "heatmapgl": [
           {
            "colorbar": {
             "outlinewidth": 0,
             "ticks": ""
            },
            "colorscale": [
             [
              0,
              "#0d0887"
             ],
             [
              0.1111111111111111,
              "#46039f"
             ],
             [
              0.2222222222222222,
              "#7201a8"
             ],
             [
              0.3333333333333333,
              "#9c179e"
             ],
             [
              0.4444444444444444,
              "#bd3786"
             ],
             [
              0.5555555555555556,
              "#d8576b"
             ],
             [
              0.6666666666666666,
              "#ed7953"
             ],
             [
              0.7777777777777778,
              "#fb9f3a"
             ],
             [
              0.8888888888888888,
              "#fdca26"
             ],
             [
              1,
              "#f0f921"
             ]
            ],
            "type": "heatmapgl"
           }
          ],
          "histogram": [
           {
            "marker": {
             "pattern": {
              "fillmode": "overlay",
              "size": 10,
              "solidity": 0.2
             }
            },
            "type": "histogram"
           }
          ],
          "histogram2d": [
           {
            "colorbar": {
             "outlinewidth": 0,
             "ticks": ""
            },
            "colorscale": [
             [
              0,
              "#0d0887"
             ],
             [
              0.1111111111111111,
              "#46039f"
             ],
             [
              0.2222222222222222,
              "#7201a8"
             ],
             [
              0.3333333333333333,
              "#9c179e"
             ],
             [
              0.4444444444444444,
              "#bd3786"
             ],
             [
              0.5555555555555556,
              "#d8576b"
             ],
             [
              0.6666666666666666,
              "#ed7953"
             ],
             [
              0.7777777777777778,
              "#fb9f3a"
             ],
             [
              0.8888888888888888,
              "#fdca26"
             ],
             [
              1,
              "#f0f921"
             ]
            ],
            "type": "histogram2d"
           }
          ],
          "histogram2dcontour": [
           {
            "colorbar": {
             "outlinewidth": 0,
             "ticks": ""
            },
            "colorscale": [
             [
              0,
              "#0d0887"
             ],
             [
              0.1111111111111111,
              "#46039f"
             ],
             [
              0.2222222222222222,
              "#7201a8"
             ],
             [
              0.3333333333333333,
              "#9c179e"
             ],
             [
              0.4444444444444444,
              "#bd3786"
             ],
             [
              0.5555555555555556,
              "#d8576b"
             ],
             [
              0.6666666666666666,
              "#ed7953"
             ],
             [
              0.7777777777777778,
              "#fb9f3a"
             ],
             [
              0.8888888888888888,
              "#fdca26"
             ],
             [
              1,
              "#f0f921"
             ]
            ],
            "type": "histogram2dcontour"
           }
          ],
          "mesh3d": [
           {
            "colorbar": {
             "outlinewidth": 0,
             "ticks": ""
            },
            "type": "mesh3d"
           }
          ],
          "parcoords": [
           {
            "line": {
             "colorbar": {
              "outlinewidth": 0,
              "ticks": ""
             }
            },
            "type": "parcoords"
           }
          ],
          "pie": [
           {
            "automargin": true,
            "type": "pie"
           }
          ],
          "scatter": [
           {
            "fillpattern": {
             "fillmode": "overlay",
             "size": 10,
             "solidity": 0.2
            },
            "type": "scatter"
           }
          ],
          "scatter3d": [
           {
            "line": {
             "colorbar": {
              "outlinewidth": 0,
              "ticks": ""
             }
            },
            "marker": {
             "colorbar": {
              "outlinewidth": 0,
              "ticks": ""
             }
            },
            "type": "scatter3d"
           }
          ],
          "scattercarpet": [
           {
            "marker": {
             "colorbar": {
              "outlinewidth": 0,
              "ticks": ""
             }
            },
            "type": "scattercarpet"
           }
          ],
          "scattergeo": [
           {
            "marker": {
             "colorbar": {
              "outlinewidth": 0,
              "ticks": ""
             }
            },
            "type": "scattergeo"
           }
          ],
          "scattergl": [
           {
            "marker": {
             "colorbar": {
              "outlinewidth": 0,
              "ticks": ""
             }
            },
            "type": "scattergl"
           }
          ],
          "scattermapbox": [
           {
            "marker": {
             "colorbar": {
              "outlinewidth": 0,
              "ticks": ""
             }
            },
            "type": "scattermapbox"
           }
          ],
          "scatterpolar": [
           {
            "marker": {
             "colorbar": {
              "outlinewidth": 0,
              "ticks": ""
             }
            },
            "type": "scatterpolar"
           }
          ],
          "scatterpolargl": [
           {
            "marker": {
             "colorbar": {
              "outlinewidth": 0,
              "ticks": ""
             }
            },
            "type": "scatterpolargl"
           }
          ],
          "scatterternary": [
           {
            "marker": {
             "colorbar": {
              "outlinewidth": 0,
              "ticks": ""
             }
            },
            "type": "scatterternary"
           }
          ],
          "surface": [
           {
            "colorbar": {
             "outlinewidth": 0,
             "ticks": ""
            },
            "colorscale": [
             [
              0,
              "#0d0887"
             ],
             [
              0.1111111111111111,
              "#46039f"
             ],
             [
              0.2222222222222222,
              "#7201a8"
             ],
             [
              0.3333333333333333,
              "#9c179e"
             ],
             [
              0.4444444444444444,
              "#bd3786"
             ],
             [
              0.5555555555555556,
              "#d8576b"
             ],
             [
              0.6666666666666666,
              "#ed7953"
             ],
             [
              0.7777777777777778,
              "#fb9f3a"
             ],
             [
              0.8888888888888888,
              "#fdca26"
             ],
             [
              1,
              "#f0f921"
             ]
            ],
            "type": "surface"
           }
          ],
          "table": [
           {
            "cells": {
             "fill": {
              "color": "#EBF0F8"
             },
             "line": {
              "color": "white"
             }
            },
            "header": {
             "fill": {
              "color": "#C8D4E3"
             },
             "line": {
              "color": "white"
             }
            },
            "type": "table"
           }
          ]
         },
         "layout": {
          "annotationdefaults": {
           "arrowcolor": "#2a3f5f",
           "arrowhead": 0,
           "arrowwidth": 1
          },
          "autotypenumbers": "strict",
          "coloraxis": {
           "colorbar": {
            "outlinewidth": 0,
            "ticks": ""
           }
          },
          "colorscale": {
           "diverging": [
            [
             0,
             "#8e0152"
            ],
            [
             0.1,
             "#c51b7d"
            ],
            [
             0.2,
             "#de77ae"
            ],
            [
             0.3,
             "#f1b6da"
            ],
            [
             0.4,
             "#fde0ef"
            ],
            [
             0.5,
             "#f7f7f7"
            ],
            [
             0.6,
             "#e6f5d0"
            ],
            [
             0.7,
             "#b8e186"
            ],
            [
             0.8,
             "#7fbc41"
            ],
            [
             0.9,
             "#4d9221"
            ],
            [
             1,
             "#276419"
            ]
           ],
           "sequential": [
            [
             0,
             "#0d0887"
            ],
            [
             0.1111111111111111,
             "#46039f"
            ],
            [
             0.2222222222222222,
             "#7201a8"
            ],
            [
             0.3333333333333333,
             "#9c179e"
            ],
            [
             0.4444444444444444,
             "#bd3786"
            ],
            [
             0.5555555555555556,
             "#d8576b"
            ],
            [
             0.6666666666666666,
             "#ed7953"
            ],
            [
             0.7777777777777778,
             "#fb9f3a"
            ],
            [
             0.8888888888888888,
             "#fdca26"
            ],
            [
             1,
             "#f0f921"
            ]
           ],
           "sequentialminus": [
            [
             0,
             "#0d0887"
            ],
            [
             0.1111111111111111,
             "#46039f"
            ],
            [
             0.2222222222222222,
             "#7201a8"
            ],
            [
             0.3333333333333333,
             "#9c179e"
            ],
            [
             0.4444444444444444,
             "#bd3786"
            ],
            [
             0.5555555555555556,
             "#d8576b"
            ],
            [
             0.6666666666666666,
             "#ed7953"
            ],
            [
             0.7777777777777778,
             "#fb9f3a"
            ],
            [
             0.8888888888888888,
             "#fdca26"
            ],
            [
             1,
             "#f0f921"
            ]
           ]
          },
          "colorway": [
           "#636efa",
           "#EF553B",
           "#00cc96",
           "#ab63fa",
           "#FFA15A",
           "#19d3f3",
           "#FF6692",
           "#B6E880",
           "#FF97FF",
           "#FECB52"
          ],
          "font": {
           "color": "#2a3f5f"
          },
          "geo": {
           "bgcolor": "white",
           "lakecolor": "white",
           "landcolor": "#E5ECF6",
           "showlakes": true,
           "showland": true,
           "subunitcolor": "white"
          },
          "hoverlabel": {
           "align": "left"
          },
          "hovermode": "closest",
          "mapbox": {
           "style": "light"
          },
          "paper_bgcolor": "white",
          "plot_bgcolor": "#E5ECF6",
          "polar": {
           "angularaxis": {
            "gridcolor": "white",
            "linecolor": "white",
            "ticks": ""
           },
           "bgcolor": "#E5ECF6",
           "radialaxis": {
            "gridcolor": "white",
            "linecolor": "white",
            "ticks": ""
           }
          },
          "scene": {
           "xaxis": {
            "backgroundcolor": "#E5ECF6",
            "gridcolor": "white",
            "gridwidth": 2,
            "linecolor": "white",
            "showbackground": true,
            "ticks": "",
            "zerolinecolor": "white"
           },
           "yaxis": {
            "backgroundcolor": "#E5ECF6",
            "gridcolor": "white",
            "gridwidth": 2,
            "linecolor": "white",
            "showbackground": true,
            "ticks": "",
            "zerolinecolor": "white"
           },
           "zaxis": {
            "backgroundcolor": "#E5ECF6",
            "gridcolor": "white",
            "gridwidth": 2,
            "linecolor": "white",
            "showbackground": true,
            "ticks": "",
            "zerolinecolor": "white"
           }
          },
          "shapedefaults": {
           "line": {
            "color": "#2a3f5f"
           }
          },
          "ternary": {
           "aaxis": {
            "gridcolor": "white",
            "linecolor": "white",
            "ticks": ""
           },
           "baxis": {
            "gridcolor": "white",
            "linecolor": "white",
            "ticks": ""
           },
           "bgcolor": "#E5ECF6",
           "caxis": {
            "gridcolor": "white",
            "linecolor": "white",
            "ticks": ""
           }
          },
          "title": {
           "x": 0.05
          },
          "xaxis": {
           "automargin": true,
           "gridcolor": "white",
           "linecolor": "white",
           "ticks": "",
           "title": {
            "standoff": 15
           },
           "zerolinecolor": "white",
           "zerolinewidth": 2
          },
          "yaxis": {
           "automargin": true,
           "gridcolor": "white",
           "linecolor": "white",
           "ticks": "",
           "title": {
            "standoff": 15
           },
           "zerolinecolor": "white",
           "zerolinewidth": 2
          }
         }
        },
        "xaxis": {
         "anchor": "y",
         "domain": [
          0,
          0.31999999999999995
         ],
         "title": {
          "text": "Batch Size (log2 scale)"
         }
        },
        "xaxis2": {
         "anchor": "y2",
         "domain": [
          0.33999999999999997,
          0.6599999999999999
         ],
         "matches": "x",
         "title": {
          "text": "Batch Size (log2 scale)"
         }
        },
        "xaxis3": {
         "anchor": "y3",
         "domain": [
          0.6799999999999999,
          0.9999999999999999
         ],
         "matches": "x",
         "title": {
          "text": "Batch Size (log2 scale)"
         }
        },
        "xaxis4": {
         "anchor": "y4",
         "domain": [
          0,
          0.31999999999999995
         ],
         "matches": "x",
         "showticklabels": false
        },
        "xaxis5": {
         "anchor": "y5",
         "domain": [
          0.33999999999999997,
          0.6599999999999999
         ],
         "matches": "x",
         "showticklabels": false
        },
        "xaxis6": {
         "anchor": "y6",
         "domain": [
          0.6799999999999999,
          0.9999999999999999
         ],
         "matches": "x",
         "showticklabels": false
        },
        "yaxis": {
         "anchor": "x",
         "domain": [
          0,
          0.46499999999999997
         ],
         "title": {
          "text": "Runtime (ms/invocation)"
         }
        },
        "yaxis2": {
         "anchor": "x2",
         "domain": [
          0,
          0.46499999999999997
         ],
         "matches": "y",
         "showticklabels": false
        },
        "yaxis3": {
         "anchor": "x3",
         "domain": [
          0,
          0.46499999999999997
         ],
         "matches": "y",
         "showticklabels": false
        },
        "yaxis4": {
         "anchor": "x4",
         "domain": [
          0.5349999999999999,
          0.9999999999999999
         ],
         "matches": "y",
         "title": {
          "text": "Runtime (ms/invocation)"
         }
        },
        "yaxis5": {
         "anchor": "x5",
         "domain": [
          0.5349999999999999,
          0.9999999999999999
         ],
         "matches": "y",
         "showticklabels": false
        },
        "yaxis6": {
         "anchor": "x6",
         "domain": [
          0.5349999999999999,
          0.9999999999999999
         ],
         "matches": "y",
         "showticklabels": false
        }
       }
      }
     },
     "metadata": {},
     "output_type": "display_data"
    }
   ],
   "source": [
    "px.bar(\n",
    "    results,\n",
    "    x=\"Batch Size (log2 scale)\",\n",
    "    y=\"Runtime (ms/invocation)\",\n",
    "    color=\"Sampler Algo\",\n",
    "    facet_col=\"Number of Players\",\n",
    "    facet_col_wrap=3,\n",
    "    barmode=\"group\",\n",
    "    height=800,\n",
    ")"
   ]
  },
  {
   "cell_type": "code",
   "execution_count": 10,
   "metadata": {},
   "outputs": [
    {
     "data": {
      "application/vnd.plotly.v1+json": {
       "config": {
        "plotlyServerURL": "https://plot.ly"
       },
       "data": [
        {
         "alignmentgroup": "True",
         "hovertemplate": "Sampler Algo=Original<br>Batch Size=16.0<br>Number of Players (log2 scale)=%{x}<br>Runtime (ms/invocation)=%{y}<extra></extra>",
         "legendgroup": "Original",
         "marker": {
          "color": "#636efa",
          "pattern": {
           "shape": ""
          }
         },
         "name": "Original",
         "offsetgroup": "Original",
         "orientation": "v",
         "showlegend": true,
         "textposition": "auto",
         "type": "bar",
         "x": [
          4,
          5,
          6,
          7,
          8,
          9
         ],
         "xaxis": "x4",
         "y": [
          0.47055721282958984,
          0.5163955688476562,
          0.4578590393066406,
          0.5003476142883301,
          0.5067348480224609,
          0.5118656158447266
         ],
         "yaxis": "y4"
        },
        {
         "alignmentgroup": "True",
         "hovertemplate": "Sampler Algo=Original<br>Batch Size=32.0<br>Number of Players (log2 scale)=%{x}<br>Runtime (ms/invocation)=%{y}<extra></extra>",
         "legendgroup": "Original",
         "marker": {
          "color": "#636efa",
          "pattern": {
           "shape": ""
          }
         },
         "name": "Original",
         "offsetgroup": "Original",
         "orientation": "v",
         "showlegend": false,
         "textposition": "auto",
         "type": "bar",
         "x": [
          4,
          5,
          6,
          7,
          8,
          9
         ],
         "xaxis": "x5",
         "y": [
          0.8756113052368164,
          0.8802676200866699,
          0.9329938888549805,
          0.9000229835510254,
          0.8785295486450195,
          0.9624814987182617
         ],
         "yaxis": "y5"
        },
        {
         "alignmentgroup": "True",
         "hovertemplate": "Sampler Algo=Original<br>Batch Size=64.0<br>Number of Players (log2 scale)=%{x}<br>Runtime (ms/invocation)=%{y}<extra></extra>",
         "legendgroup": "Original",
         "marker": {
          "color": "#636efa",
          "pattern": {
           "shape": ""
          }
         },
         "name": "Original",
         "offsetgroup": "Original",
         "orientation": "v",
         "showlegend": false,
         "textposition": "auto",
         "type": "bar",
         "x": [
          4,
          5,
          6,
          7,
          8,
          9
         ],
         "xaxis": "x6",
         "y": [
          1.624908447265625,
          1.7465829849243164,
          1.6454863548278809,
          1.72318696975708,
          1.7590069770812988,
          1.9081687927246094
         ],
         "yaxis": "y6"
        },
        {
         "alignmentgroup": "True",
         "hovertemplate": "Sampler Algo=Original<br>Batch Size=128.0<br>Number of Players (log2 scale)=%{x}<br>Runtime (ms/invocation)=%{y}<extra></extra>",
         "legendgroup": "Original",
         "marker": {
          "color": "#636efa",
          "pattern": {
           "shape": ""
          }
         },
         "name": "Original",
         "offsetgroup": "Original",
         "orientation": "v",
         "showlegend": false,
         "textposition": "auto",
         "type": "bar",
         "x": [
          4,
          5,
          6,
          7,
          8,
          9
         ],
         "xaxis": "x",
         "y": [
          3.121957778930664,
          3.2930636405944824,
          3.316769599914551,
          3.3219003677368164,
          3.4135913848876953,
          3.6337900161743164
         ],
         "yaxis": "y"
        },
        {
         "alignmentgroup": "True",
         "hovertemplate": "Sampler Algo=Original<br>Batch Size=256.0<br>Number of Players (log2 scale)=%{x}<br>Runtime (ms/invocation)=%{y}<extra></extra>",
         "legendgroup": "Original",
         "marker": {
          "color": "#636efa",
          "pattern": {
           "shape": ""
          }
         },
         "name": "Original",
         "offsetgroup": "Original",
         "orientation": "v",
         "showlegend": false,
         "textposition": "auto",
         "type": "bar",
         "x": [
          4,
          5,
          6,
          7,
          8,
          9
         ],
         "xaxis": "x2",
         "y": [
          6.6577863693237305,
          6.356689929962158,
          6.482188701629639,
          6.670703887939453,
          6.68621301651001,
          7.392988204956055
         ],
         "yaxis": "y2"
        },
        {
         "alignmentgroup": "True",
         "hovertemplate": "Sampler Algo=ArgSortCPU<br>Batch Size=16.0<br>Number of Players (log2 scale)=%{x}<br>Runtime (ms/invocation)=%{y}<extra></extra>",
         "legendgroup": "ArgSortCPU",
         "marker": {
          "color": "#EF553B",
          "pattern": {
           "shape": ""
          }
         },
         "name": "ArgSortCPU",
         "offsetgroup": "ArgSortCPU",
         "orientation": "v",
         "showlegend": true,
         "textposition": "auto",
         "type": "bar",
         "x": [
          4,
          5,
          6,
          7,
          8,
          9
         ],
         "xaxis": "x4",
         "y": [
          0.11017799377441406,
          0.13617992401123047,
          0.18018722534179688,
          0.28084516525268555,
          0.5450129508972168,
          1.0146808624267578
         ],
         "yaxis": "y4"
        },
        {
         "alignmentgroup": "True",
         "hovertemplate": "Sampler Algo=ArgSortCPU<br>Batch Size=32.0<br>Number of Players (log2 scale)=%{x}<br>Runtime (ms/invocation)=%{y}<extra></extra>",
         "legendgroup": "ArgSortCPU",
         "marker": {
          "color": "#EF553B",
          "pattern": {
           "shape": ""
          }
         },
         "name": "ArgSortCPU",
         "offsetgroup": "ArgSortCPU",
         "orientation": "v",
         "showlegend": false,
         "textposition": "auto",
         "type": "bar",
         "x": [
          4,
          5,
          6,
          7,
          8,
          9
         ],
         "xaxis": "x5",
         "y": [
          0.12320280075073242,
          0.1825857162475586,
          0.2653980255126953,
          0.4605269432067871,
          0.9110093116760254,
          1.7959094047546387
         ],
         "yaxis": "y5"
        },
        {
         "alignmentgroup": "True",
         "hovertemplate": "Sampler Algo=ArgSortCPU<br>Batch Size=64.0<br>Number of Players (log2 scale)=%{x}<br>Runtime (ms/invocation)=%{y}<extra></extra>",
         "legendgroup": "ArgSortCPU",
         "marker": {
          "color": "#EF553B",
          "pattern": {
           "shape": ""
          }
         },
         "name": "ArgSortCPU",
         "offsetgroup": "ArgSortCPU",
         "orientation": "v",
         "showlegend": false,
         "textposition": "auto",
         "type": "bar",
         "x": [
          4,
          5,
          6,
          7,
          8,
          9
         ],
         "xaxis": "x6",
         "y": [
          0.1331949234008789,
          0.2163243293762207,
          0.370481014251709,
          0.8186626434326172,
          1.7206525802612305,
          3.8062191009521484
         ],
         "yaxis": "y6"
        },
        {
         "alignmentgroup": "True",
         "hovertemplate": "Sampler Algo=ArgSortCPU<br>Batch Size=128.0<br>Number of Players (log2 scale)=%{x}<br>Runtime (ms/invocation)=%{y}<extra></extra>",
         "legendgroup": "ArgSortCPU",
         "marker": {
          "color": "#EF553B",
          "pattern": {
           "shape": ""
          }
         },
         "name": "ArgSortCPU",
         "offsetgroup": "ArgSortCPU",
         "orientation": "v",
         "showlegend": false,
         "textposition": "auto",
         "type": "bar",
         "x": [
          4,
          5,
          6,
          7,
          8,
          9
         ],
         "xaxis": "x",
         "y": [
          0.19588470458984375,
          0.3723764419555664,
          0.6955075263977051,
          1.3852548599243164,
          3.2569384574890137,
          4.018397331237793
         ],
         "yaxis": "y"
        },
        {
         "alignmentgroup": "True",
         "hovertemplate": "Sampler Algo=ArgSortCPU<br>Batch Size=256.0<br>Number of Players (log2 scale)=%{x}<br>Runtime (ms/invocation)=%{y}<extra></extra>",
         "legendgroup": "ArgSortCPU",
         "marker": {
          "color": "#EF553B",
          "pattern": {
           "shape": ""
          }
         },
         "name": "ArgSortCPU",
         "offsetgroup": "ArgSortCPU",
         "orientation": "v",
         "showlegend": false,
         "textposition": "auto",
         "type": "bar",
         "x": [
          4,
          5,
          6,
          7,
          8,
          9
         ],
         "xaxis": "x2",
         "y": [
          0.2953481674194336,
          0.5761265754699707,
          1.2938237190246582,
          2.9851198196411133,
          3.623199462890625,
          4.904434680938721
         ],
         "yaxis": "y2"
        },
        {
         "alignmentgroup": "True",
         "hovertemplate": "Sampler Algo=MultinomialCPU<br>Batch Size=16.0<br>Number of Players (log2 scale)=%{x}<br>Runtime (ms/invocation)=%{y}<extra></extra>",
         "legendgroup": "MultinomialCPU",
         "marker": {
          "color": "#00cc96",
          "pattern": {
           "shape": ""
          }
         },
         "name": "MultinomialCPU",
         "offsetgroup": "MultinomialCPU",
         "orientation": "v",
         "showlegend": true,
         "textposition": "auto",
         "type": "bar",
         "x": [
          4,
          5,
          6,
          7,
          8,
          9
         ],
         "xaxis": "x4",
         "y": [
          0.15522003173828125,
          0.17508268356323242,
          0.23536205291748047,
          0.2823305130004883,
          0.4309868812561035,
          0.771944522857666
         ],
         "yaxis": "y4"
        },
        {
         "alignmentgroup": "True",
         "hovertemplate": "Sampler Algo=MultinomialCPU<br>Batch Size=32.0<br>Number of Players (log2 scale)=%{x}<br>Runtime (ms/invocation)=%{y}<extra></extra>",
         "legendgroup": "MultinomialCPU",
         "marker": {
          "color": "#00cc96",
          "pattern": {
           "shape": ""
          }
         },
         "name": "MultinomialCPU",
         "offsetgroup": "MultinomialCPU",
         "orientation": "v",
         "showlegend": false,
         "textposition": "auto",
         "type": "bar",
         "x": [
          4,
          5,
          6,
          7,
          8,
          9
         ],
         "xaxis": "x5",
         "y": [
          0.19018173217773438,
          0.20518064498901367,
          0.27715206146240234,
          0.4404163360595703,
          0.714116096496582,
          1.383202075958252
         ],
         "yaxis": "y5"
        },
        {
         "alignmentgroup": "True",
         "hovertemplate": "Sampler Algo=MultinomialCPU<br>Batch Size=64.0<br>Number of Players (log2 scale)=%{x}<br>Runtime (ms/invocation)=%{y}<extra></extra>",
         "legendgroup": "MultinomialCPU",
         "marker": {
          "color": "#00cc96",
          "pattern": {
           "shape": ""
          }
         },
         "name": "MultinomialCPU",
         "offsetgroup": "MultinomialCPU",
         "orientation": "v",
         "showlegend": false,
         "textposition": "auto",
         "type": "bar",
         "x": [
          4,
          5,
          6,
          7,
          8,
          9
         ],
         "xaxis": "x6",
         "y": [
          0.20522356033325195,
          0.25463104248046875,
          0.4106926918029785,
          0.6352496147155762,
          1.2873005867004395,
          2.4989748001098633
         ],
         "yaxis": "y6"
        },
        {
         "alignmentgroup": "True",
         "hovertemplate": "Sampler Algo=MultinomialCPU<br>Batch Size=128.0<br>Number of Players (log2 scale)=%{x}<br>Runtime (ms/invocation)=%{y}<extra></extra>",
         "legendgroup": "MultinomialCPU",
         "marker": {
          "color": "#00cc96",
          "pattern": {
           "shape": ""
          }
         },
         "name": "MultinomialCPU",
         "offsetgroup": "MultinomialCPU",
         "orientation": "v",
         "showlegend": false,
         "textposition": "auto",
         "type": "bar",
         "x": [
          4,
          5,
          6,
          7,
          8,
          9
         ],
         "xaxis": "x",
         "y": [
          0.22015094757080078,
          0.36546945571899414,
          0.623013973236084,
          1.0940146446228027,
          2.292943000793457,
          2.778162956237793
         ],
         "yaxis": "y"
        },
        {
         "alignmentgroup": "True",
         "hovertemplate": "Sampler Algo=MultinomialCPU<br>Batch Size=256.0<br>Number of Players (log2 scale)=%{x}<br>Runtime (ms/invocation)=%{y}<extra></extra>",
         "legendgroup": "MultinomialCPU",
         "marker": {
          "color": "#00cc96",
          "pattern": {
           "shape": ""
          }
         },
         "name": "MultinomialCPU",
         "offsetgroup": "MultinomialCPU",
         "orientation": "v",
         "showlegend": false,
         "textposition": "auto",
         "type": "bar",
         "x": [
          4,
          5,
          6,
          7,
          8,
          9
         ],
         "xaxis": "x2",
         "y": [
          0.29332399368286133,
          0.5033469200134277,
          1.0044407844543457,
          2.088632583618164,
          2.4158787727355957,
          3.330709934234619
         ],
         "yaxis": "y2"
        },
        {
         "alignmentgroup": "True",
         "hovertemplate": "Sampler Algo=ThreshCPU<br>Batch Size=16.0<br>Number of Players (log2 scale)=%{x}<br>Runtime (ms/invocation)=%{y}<extra></extra>",
         "legendgroup": "ThreshCPU",
         "marker": {
          "color": "#ab63fa",
          "pattern": {
           "shape": ""
          }
         },
         "name": "ThreshCPU",
         "offsetgroup": "ThreshCPU",
         "orientation": "v",
         "showlegend": true,
         "textposition": "auto",
         "type": "bar",
         "x": [
          4,
          5,
          6,
          7,
          8,
          9
         ],
         "xaxis": "x4",
         "y": [
          0.20018815994262695,
          0.170135498046875,
          0.1914048194885254,
          0.20616769790649414,
          0.27164697647094727,
          0.31033992767333984
         ],
         "yaxis": "y4"
        },
        {
         "alignmentgroup": "True",
         "hovertemplate": "Sampler Algo=ThreshCPU<br>Batch Size=32.0<br>Number of Players (log2 scale)=%{x}<br>Runtime (ms/invocation)=%{y}<extra></extra>",
         "legendgroup": "ThreshCPU",
         "marker": {
          "color": "#ab63fa",
          "pattern": {
           "shape": ""
          }
         },
         "name": "ThreshCPU",
         "offsetgroup": "ThreshCPU",
         "orientation": "v",
         "showlegend": false,
         "textposition": "auto",
         "type": "bar",
         "x": [
          4,
          5,
          6,
          7,
          8,
          9
         ],
         "xaxis": "x5",
         "y": [
          0.18018245697021484,
          0.19016027450561523,
          0.20110607147216797,
          0.22310256958007812,
          0.29889345169067383,
          0.4554939270019531
         ],
         "yaxis": "y5"
        },
        {
         "alignmentgroup": "True",
         "hovertemplate": "Sampler Algo=ThreshCPU<br>Batch Size=64.0<br>Number of Players (log2 scale)=%{x}<br>Runtime (ms/invocation)=%{y}<extra></extra>",
         "legendgroup": "ThreshCPU",
         "marker": {
          "color": "#ab63fa",
          "pattern": {
           "shape": ""
          }
         },
         "name": "ThreshCPU",
         "offsetgroup": "ThreshCPU",
         "orientation": "v",
         "showlegend": false,
         "textposition": "auto",
         "type": "bar",
         "x": [
          4,
          5,
          6,
          7,
          8,
          9
         ],
         "xaxis": "x6",
         "y": [
          0.21018743515014648,
          0.21015167236328125,
          0.24743080139160156,
          0.2952289581298828,
          0.41771411895751953,
          0.7546234130859375
         ],
         "yaxis": "y6"
        },
        {
         "alignmentgroup": "True",
         "hovertemplate": "Sampler Algo=ThreshCPU<br>Batch Size=128.0<br>Number of Players (log2 scale)=%{x}<br>Runtime (ms/invocation)=%{y}<extra></extra>",
         "legendgroup": "ThreshCPU",
         "marker": {
          "color": "#ab63fa",
          "pattern": {
           "shape": ""
          }
         },
         "name": "ThreshCPU",
         "offsetgroup": "ThreshCPU",
         "orientation": "v",
         "showlegend": false,
         "textposition": "auto",
         "type": "bar",
         "x": [
          4,
          5,
          6,
          7,
          8,
          9
         ],
         "xaxis": "x",
         "y": [
          0.21024703979492188,
          0.284116268157959,
          0.31030893325805664,
          0.42278051376342773,
          0.6549859046936035,
          0.8896851539611816
         ],
         "yaxis": "y"
        },
        {
         "alignmentgroup": "True",
         "hovertemplate": "Sampler Algo=ThreshCPU<br>Batch Size=256.0<br>Number of Players (log2 scale)=%{x}<br>Runtime (ms/invocation)=%{y}<extra></extra>",
         "legendgroup": "ThreshCPU",
         "marker": {
          "color": "#ab63fa",
          "pattern": {
           "shape": ""
          }
         },
         "name": "ThreshCPU",
         "offsetgroup": "ThreshCPU",
         "orientation": "v",
         "showlegend": false,
         "textposition": "auto",
         "type": "bar",
         "x": [
          4,
          5,
          6,
          7,
          8,
          9
         ],
         "xaxis": "x2",
         "y": [
          0.2953672409057617,
          0.32521724700927734,
          0.42229175567626953,
          0.6686568260192871,
          0.9778189659118653,
          1.8341279029846191
         ],
         "yaxis": "y2"
        },
        {
         "alignmentgroup": "True",
         "hovertemplate": "Sampler Algo=ArgSortGPU<br>Batch Size=16.0<br>Number of Players (log2 scale)=%{x}<br>Runtime (ms/invocation)=%{y}<extra></extra>",
         "legendgroup": "ArgSortGPU",
         "marker": {
          "color": "#FFA15A",
          "pattern": {
           "shape": ""
          }
         },
         "name": "ArgSortGPU",
         "offsetgroup": "ArgSortGPU",
         "orientation": "v",
         "showlegend": true,
         "textposition": "auto",
         "type": "bar",
         "x": [
          4,
          5,
          6,
          7,
          8,
          9
         ],
         "xaxis": "x4",
         "y": [
          0.8759403228759766,
          0.4259371757507324,
          0.35250425338745117,
          0.521247386932373,
          0.39092063903808594,
          0.35610437393188477
         ],
         "yaxis": "y4"
        },
        {
         "alignmentgroup": "True",
         "hovertemplate": "Sampler Algo=ArgSortGPU<br>Batch Size=32.0<br>Number of Players (log2 scale)=%{x}<br>Runtime (ms/invocation)=%{y}<extra></extra>",
         "legendgroup": "ArgSortGPU",
         "marker": {
          "color": "#FFA15A",
          "pattern": {
           "shape": ""
          }
         },
         "name": "ArgSortGPU",
         "offsetgroup": "ArgSortGPU",
         "orientation": "v",
         "showlegend": false,
         "textposition": "auto",
         "type": "bar",
         "x": [
          4,
          5,
          6,
          7,
          8,
          9
         ],
         "xaxis": "x5",
         "y": [
          0.36043882369995117,
          0.6205224990844727,
          0.35233497619628906,
          0.3510761260986328,
          0.36644935607910156,
          0.3407573699951172
         ],
         "yaxis": "y5"
        },
        {
         "alignmentgroup": "True",
         "hovertemplate": "Sampler Algo=ArgSortGPU<br>Batch Size=64.0<br>Number of Players (log2 scale)=%{x}<br>Runtime (ms/invocation)=%{y}<extra></extra>",
         "legendgroup": "ArgSortGPU",
         "marker": {
          "color": "#FFA15A",
          "pattern": {
           "shape": ""
          }
         },
         "name": "ArgSortGPU",
         "offsetgroup": "ArgSortGPU",
         "orientation": "v",
         "showlegend": false,
         "textposition": "auto",
         "type": "bar",
         "x": [
          4,
          5,
          6,
          7,
          8,
          9
         ],
         "xaxis": "x6",
         "y": [
          0.35049915313720703,
          0.36082029342651367,
          0.34543514251708984,
          0.3603839874267578,
          0.3455018997192383,
          0.34282445907592773
         ],
         "yaxis": "y6"
        },
        {
         "alignmentgroup": "True",
         "hovertemplate": "Sampler Algo=ArgSortGPU<br>Batch Size=128.0<br>Number of Players (log2 scale)=%{x}<br>Runtime (ms/invocation)=%{y}<extra></extra>",
         "legendgroup": "ArgSortGPU",
         "marker": {
          "color": "#FFA15A",
          "pattern": {
           "shape": ""
          }
         },
         "name": "ArgSortGPU",
         "offsetgroup": "ArgSortGPU",
         "orientation": "v",
         "showlegend": false,
         "textposition": "auto",
         "type": "bar",
         "x": [
          4,
          5,
          6,
          7,
          8,
          9
         ],
         "xaxis": "x",
         "y": [
          0.3752613067626953,
          0.3653883934020996,
          0.37598609924316406,
          0.36547422409057617,
          0.3962373733520508,
          0.361480712890625
         ],
         "yaxis": "y"
        },
        {
         "alignmentgroup": "True",
         "hovertemplate": "Sampler Algo=ArgSortGPU<br>Batch Size=256.0<br>Number of Players (log2 scale)=%{x}<br>Runtime (ms/invocation)=%{y}<extra></extra>",
         "legendgroup": "ArgSortGPU",
         "marker": {
          "color": "#FFA15A",
          "pattern": {
           "shape": ""
          }
         },
         "name": "ArgSortGPU",
         "offsetgroup": "ArgSortGPU",
         "orientation": "v",
         "showlegend": false,
         "textposition": "auto",
         "type": "bar",
         "x": [
          4,
          5,
          6,
          7,
          8,
          9
         ],
         "xaxis": "x2",
         "y": [
          0.5414652824401855,
          0.37630558013916016,
          0.3505253791809082,
          0.3769874572753906,
          0.34767627716064453,
          0.4108881950378418
         ],
         "yaxis": "y2"
        },
        {
         "alignmentgroup": "True",
         "hovertemplate": "Sampler Algo=MultinomialGPU<br>Batch Size=16.0<br>Number of Players (log2 scale)=%{x}<br>Runtime (ms/invocation)=%{y}<extra></extra>",
         "legendgroup": "MultinomialGPU",
         "marker": {
          "color": "#19d3f3",
          "pattern": {
           "shape": ""
          }
         },
         "name": "MultinomialGPU",
         "offsetgroup": "MultinomialGPU",
         "orientation": "v",
         "showlegend": true,
         "textposition": "auto",
         "type": "bar",
         "x": [
          4,
          5,
          6,
          7,
          8,
          9
         ],
         "xaxis": "x4",
         "y": [
          0.8845186233520508,
          0.6374907493591309,
          0.7056784629821777,
          0.6361079216003418,
          0.6036758422851562,
          0.6299996376037598
         ],
         "yaxis": "y4"
        },
        {
         "alignmentgroup": "True",
         "hovertemplate": "Sampler Algo=MultinomialGPU<br>Batch Size=32.0<br>Number of Players (log2 scale)=%{x}<br>Runtime (ms/invocation)=%{y}<extra></extra>",
         "legendgroup": "MultinomialGPU",
         "marker": {
          "color": "#19d3f3",
          "pattern": {
           "shape": ""
          }
         },
         "name": "MultinomialGPU",
         "offsetgroup": "MultinomialGPU",
         "orientation": "v",
         "showlegend": false,
         "textposition": "auto",
         "type": "bar",
         "x": [
          4,
          5,
          6,
          7,
          8,
          9
         ],
         "xaxis": "x5",
         "y": [
          0.5870771408081055,
          0.6100678443908691,
          0.9309649467468262,
          0.746915340423584,
          0.7297778129577637,
          0.6456565856933594
         ],
         "yaxis": "y5"
        },
        {
         "alignmentgroup": "True",
         "hovertemplate": "Sampler Algo=MultinomialGPU<br>Batch Size=64.0<br>Number of Players (log2 scale)=%{x}<br>Runtime (ms/invocation)=%{y}<extra></extra>",
         "legendgroup": "MultinomialGPU",
         "marker": {
          "color": "#19d3f3",
          "pattern": {
           "shape": ""
          }
         },
         "name": "MultinomialGPU",
         "offsetgroup": "MultinomialGPU",
         "orientation": "v",
         "showlegend": false,
         "textposition": "auto",
         "type": "bar",
         "x": [
          4,
          5,
          6,
          7,
          8,
          9
         ],
         "xaxis": "x6",
         "y": [
          0.5861544609069824,
          0.6268763542175293,
          0.6052041053771973,
          0.7430458068847656,
          0.6270051002502441,
          0.5955219268798828
         ],
         "yaxis": "y6"
        },
        {
         "alignmentgroup": "True",
         "hovertemplate": "Sampler Algo=MultinomialGPU<br>Batch Size=128.0<br>Number of Players (log2 scale)=%{x}<br>Runtime (ms/invocation)=%{y}<extra></extra>",
         "legendgroup": "MultinomialGPU",
         "marker": {
          "color": "#19d3f3",
          "pattern": {
           "shape": ""
          }
         },
         "name": "MultinomialGPU",
         "offsetgroup": "MultinomialGPU",
         "orientation": "v",
         "showlegend": false,
         "textposition": "auto",
         "type": "bar",
         "x": [
          4,
          5,
          6,
          7,
          8,
          9
         ],
         "xaxis": "x",
         "y": [
          0.6426572799682617,
          0.6461644172668457,
          0.6152987480163574,
          0.5990052223205566,
          0.6230044364929199,
          0.6471109390258789
         ],
         "yaxis": "y"
        },
        {
         "alignmentgroup": "True",
         "hovertemplate": "Sampler Algo=MultinomialGPU<br>Batch Size=256.0<br>Number of Players (log2 scale)=%{x}<br>Runtime (ms/invocation)=%{y}<extra></extra>",
         "legendgroup": "MultinomialGPU",
         "marker": {
          "color": "#19d3f3",
          "pattern": {
           "shape": ""
          }
         },
         "name": "MultinomialGPU",
         "offsetgroup": "MultinomialGPU",
         "orientation": "v",
         "showlegend": false,
         "textposition": "auto",
         "type": "bar",
         "x": [
          4,
          5,
          6,
          7,
          8,
          9
         ],
         "xaxis": "x2",
         "y": [
          0.612185001373291,
          0.8748769760131836,
          0.6258559226989746,
          0.6205868721008301,
          0.6912064552307129,
          0.7318544387817383
         ],
         "yaxis": "y2"
        },
        {
         "alignmentgroup": "True",
         "hovertemplate": "Sampler Algo=ThreshGPU<br>Batch Size=16.0<br>Number of Players (log2 scale)=%{x}<br>Runtime (ms/invocation)=%{y}<extra></extra>",
         "legendgroup": "ThreshGPU",
         "marker": {
          "color": "#FF6692",
          "pattern": {
           "shape": ""
          }
         },
         "name": "ThreshGPU",
         "offsetgroup": "ThreshGPU",
         "orientation": "v",
         "showlegend": true,
         "textposition": "auto",
         "type": "bar",
         "x": [
          4,
          5,
          6,
          7,
          8,
          9
         ],
         "xaxis": "x4",
         "y": [
          0.6877923011779785,
          0.5547237396240234,
          0.5600881576538086,
          0.5463027954101562,
          0.5645442008972168,
          0.642249584197998
         ],
         "yaxis": "y4"
        },
        {
         "alignmentgroup": "True",
         "hovertemplate": "Sampler Algo=ThreshGPU<br>Batch Size=32.0<br>Number of Players (log2 scale)=%{x}<br>Runtime (ms/invocation)=%{y}<extra></extra>",
         "legendgroup": "ThreshGPU",
         "marker": {
          "color": "#FF6692",
          "pattern": {
           "shape": ""
          }
         },
         "name": "ThreshGPU",
         "offsetgroup": "ThreshGPU",
         "orientation": "v",
         "showlegend": false,
         "textposition": "auto",
         "type": "bar",
         "x": [
          4,
          5,
          6,
          7,
          8,
          9
         ],
         "xaxis": "x5",
         "y": [
          0.5962991714477539,
          0.5696010589599609,
          0.5696320533752441,
          0.596320629119873,
          0.6016635894775391,
          0.7007241249084473
         ],
         "yaxis": "y5"
        },
        {
         "alignmentgroup": "True",
         "hovertemplate": "Sampler Algo=ThreshGPU<br>Batch Size=64.0<br>Number of Players (log2 scale)=%{x}<br>Runtime (ms/invocation)=%{y}<extra></extra>",
         "legendgroup": "ThreshGPU",
         "marker": {
          "color": "#FF6692",
          "pattern": {
           "shape": ""
          }
         },
         "name": "ThreshGPU",
         "offsetgroup": "ThreshGPU",
         "orientation": "v",
         "showlegend": false,
         "textposition": "auto",
         "type": "bar",
         "x": [
          4,
          5,
          6,
          7,
          8,
          9
         ],
         "xaxis": "x6",
         "y": [
          0.5846881866455078,
          0.5689597129821777,
          0.5640959739685059,
          0.5999922752380371,
          0.6393575668334961,
          0.7577323913574219
         ],
         "yaxis": "y6"
        },
        {
         "alignmentgroup": "True",
         "hovertemplate": "Sampler Algo=ThreshGPU<br>Batch Size=128.0<br>Number of Players (log2 scale)=%{x}<br>Runtime (ms/invocation)=%{y}<extra></extra>",
         "legendgroup": "ThreshGPU",
         "marker": {
          "color": "#FF6692",
          "pattern": {
           "shape": ""
          }
         },
         "name": "ThreshGPU",
         "offsetgroup": "ThreshGPU",
         "orientation": "v",
         "showlegend": false,
         "textposition": "auto",
         "type": "bar",
         "x": [
          4,
          5,
          6,
          7,
          8,
          9
         ],
         "xaxis": "x",
         "y": [
          0.5625748634338379,
          0.5726313591003418,
          0.5984139442443848,
          0.6915664672851562,
          0.7424688339233398,
          1.0504674911499023
         ],
         "yaxis": "y"
        },
        {
         "alignmentgroup": "True",
         "hovertemplate": "Sampler Algo=ThreshGPU<br>Batch Size=256.0<br>Number of Players (log2 scale)=%{x}<br>Runtime (ms/invocation)=%{y}<extra></extra>",
         "legendgroup": "ThreshGPU",
         "marker": {
          "color": "#FF6692",
          "pattern": {
           "shape": ""
          }
         },
         "name": "ThreshGPU",
         "offsetgroup": "ThreshGPU",
         "orientation": "v",
         "showlegend": false,
         "textposition": "auto",
         "type": "bar",
         "x": [
          4,
          5,
          6,
          7,
          8,
          9
         ],
         "xaxis": "x2",
         "y": [
          0.5866885185241699,
          0.6026339530944824,
          0.6573677062988281,
          0.7356405258178711,
          1.0478448867797852,
          1.4041733741760254
         ],
         "yaxis": "y2"
        }
       ],
       "layout": {
        "annotations": [
         {
          "font": {},
          "showarrow": false,
          "text": "Batch Size=128.0",
          "x": 0.15999999999999998,
          "xanchor": "center",
          "xref": "paper",
          "y": 0.46499999999999997,
          "yanchor": "bottom",
          "yref": "paper"
         },
         {
          "font": {},
          "showarrow": false,
          "text": "Batch Size=256.0",
          "x": 0.49999999999999994,
          "xanchor": "center",
          "xref": "paper",
          "y": 0.46499999999999997,
          "yanchor": "bottom",
          "yref": "paper"
         },
         {
          "font": {},
          "showarrow": false,
          "text": "Batch Size=16.0",
          "x": 0.15999999999999998,
          "xanchor": "center",
          "xref": "paper",
          "y": 0.9999999999999999,
          "yanchor": "bottom",
          "yref": "paper"
         },
         {
          "font": {},
          "showarrow": false,
          "text": "Batch Size=32.0",
          "x": 0.49999999999999994,
          "xanchor": "center",
          "xref": "paper",
          "y": 0.9999999999999999,
          "yanchor": "bottom",
          "yref": "paper"
         },
         {
          "font": {},
          "showarrow": false,
          "text": "Batch Size=64.0",
          "x": 0.8399999999999999,
          "xanchor": "center",
          "xref": "paper",
          "y": 0.9999999999999999,
          "yanchor": "bottom",
          "yref": "paper"
         }
        ],
        "barmode": "group",
        "height": 800,
        "legend": {
         "title": {
          "text": "Sampler Algo"
         },
         "tracegroupgap": 0
        },
        "margin": {
         "t": 60
        },
        "template": {
         "data": {
          "bar": [
           {
            "error_x": {
             "color": "#2a3f5f"
            },
            "error_y": {
             "color": "#2a3f5f"
            },
            "marker": {
             "line": {
              "color": "#E5ECF6",
              "width": 0.5
             },
             "pattern": {
              "fillmode": "overlay",
              "size": 10,
              "solidity": 0.2
             }
            },
            "type": "bar"
           }
          ],
          "barpolar": [
           {
            "marker": {
             "line": {
              "color": "#E5ECF6",
              "width": 0.5
             },
             "pattern": {
              "fillmode": "overlay",
              "size": 10,
              "solidity": 0.2
             }
            },
            "type": "barpolar"
           }
          ],
          "carpet": [
           {
            "aaxis": {
             "endlinecolor": "#2a3f5f",
             "gridcolor": "white",
             "linecolor": "white",
             "minorgridcolor": "white",
             "startlinecolor": "#2a3f5f"
            },
            "baxis": {
             "endlinecolor": "#2a3f5f",
             "gridcolor": "white",
             "linecolor": "white",
             "minorgridcolor": "white",
             "startlinecolor": "#2a3f5f"
            },
            "type": "carpet"
           }
          ],
          "choropleth": [
           {
            "colorbar": {
             "outlinewidth": 0,
             "ticks": ""
            },
            "type": "choropleth"
           }
          ],
          "contour": [
           {
            "colorbar": {
             "outlinewidth": 0,
             "ticks": ""
            },
            "colorscale": [
             [
              0,
              "#0d0887"
             ],
             [
              0.1111111111111111,
              "#46039f"
             ],
             [
              0.2222222222222222,
              "#7201a8"
             ],
             [
              0.3333333333333333,
              "#9c179e"
             ],
             [
              0.4444444444444444,
              "#bd3786"
             ],
             [
              0.5555555555555556,
              "#d8576b"
             ],
             [
              0.6666666666666666,
              "#ed7953"
             ],
             [
              0.7777777777777778,
              "#fb9f3a"
             ],
             [
              0.8888888888888888,
              "#fdca26"
             ],
             [
              1,
              "#f0f921"
             ]
            ],
            "type": "contour"
           }
          ],
          "contourcarpet": [
           {
            "colorbar": {
             "outlinewidth": 0,
             "ticks": ""
            },
            "type": "contourcarpet"
           }
          ],
          "heatmap": [
           {
            "colorbar": {
             "outlinewidth": 0,
             "ticks": ""
            },
            "colorscale": [
             [
              0,
              "#0d0887"
             ],
             [
              0.1111111111111111,
              "#46039f"
             ],
             [
              0.2222222222222222,
              "#7201a8"
             ],
             [
              0.3333333333333333,
              "#9c179e"
             ],
             [
              0.4444444444444444,
              "#bd3786"
             ],
             [
              0.5555555555555556,
              "#d8576b"
             ],
             [
              0.6666666666666666,
              "#ed7953"
             ],
             [
              0.7777777777777778,
              "#fb9f3a"
             ],
             [
              0.8888888888888888,
              "#fdca26"
             ],
             [
              1,
              "#f0f921"
             ]
            ],
            "type": "heatmap"
           }
          ],
          "heatmapgl": [
           {
            "colorbar": {
             "outlinewidth": 0,
             "ticks": ""
            },
            "colorscale": [
             [
              0,
              "#0d0887"
             ],
             [
              0.1111111111111111,
              "#46039f"
             ],
             [
              0.2222222222222222,
              "#7201a8"
             ],
             [
              0.3333333333333333,
              "#9c179e"
             ],
             [
              0.4444444444444444,
              "#bd3786"
             ],
             [
              0.5555555555555556,
              "#d8576b"
             ],
             [
              0.6666666666666666,
              "#ed7953"
             ],
             [
              0.7777777777777778,
              "#fb9f3a"
             ],
             [
              0.8888888888888888,
              "#fdca26"
             ],
             [
              1,
              "#f0f921"
             ]
            ],
            "type": "heatmapgl"
           }
          ],
          "histogram": [
           {
            "marker": {
             "pattern": {
              "fillmode": "overlay",
              "size": 10,
              "solidity": 0.2
             }
            },
            "type": "histogram"
           }
          ],
          "histogram2d": [
           {
            "colorbar": {
             "outlinewidth": 0,
             "ticks": ""
            },
            "colorscale": [
             [
              0,
              "#0d0887"
             ],
             [
              0.1111111111111111,
              "#46039f"
             ],
             [
              0.2222222222222222,
              "#7201a8"
             ],
             [
              0.3333333333333333,
              "#9c179e"
             ],
             [
              0.4444444444444444,
              "#bd3786"
             ],
             [
              0.5555555555555556,
              "#d8576b"
             ],
             [
              0.6666666666666666,
              "#ed7953"
             ],
             [
              0.7777777777777778,
              "#fb9f3a"
             ],
             [
              0.8888888888888888,
              "#fdca26"
             ],
             [
              1,
              "#f0f921"
             ]
            ],
            "type": "histogram2d"
           }
          ],
          "histogram2dcontour": [
           {
            "colorbar": {
             "outlinewidth": 0,
             "ticks": ""
            },
            "colorscale": [
             [
              0,
              "#0d0887"
             ],
             [
              0.1111111111111111,
              "#46039f"
             ],
             [
              0.2222222222222222,
              "#7201a8"
             ],
             [
              0.3333333333333333,
              "#9c179e"
             ],
             [
              0.4444444444444444,
              "#bd3786"
             ],
             [
              0.5555555555555556,
              "#d8576b"
             ],
             [
              0.6666666666666666,
              "#ed7953"
             ],
             [
              0.7777777777777778,
              "#fb9f3a"
             ],
             [
              0.8888888888888888,
              "#fdca26"
             ],
             [
              1,
              "#f0f921"
             ]
            ],
            "type": "histogram2dcontour"
           }
          ],
          "mesh3d": [
           {
            "colorbar": {
             "outlinewidth": 0,
             "ticks": ""
            },
            "type": "mesh3d"
           }
          ],
          "parcoords": [
           {
            "line": {
             "colorbar": {
              "outlinewidth": 0,
              "ticks": ""
             }
            },
            "type": "parcoords"
           }
          ],
          "pie": [
           {
            "automargin": true,
            "type": "pie"
           }
          ],
          "scatter": [
           {
            "fillpattern": {
             "fillmode": "overlay",
             "size": 10,
             "solidity": 0.2
            },
            "type": "scatter"
           }
          ],
          "scatter3d": [
           {
            "line": {
             "colorbar": {
              "outlinewidth": 0,
              "ticks": ""
             }
            },
            "marker": {
             "colorbar": {
              "outlinewidth": 0,
              "ticks": ""
             }
            },
            "type": "scatter3d"
           }
          ],
          "scattercarpet": [
           {
            "marker": {
             "colorbar": {
              "outlinewidth": 0,
              "ticks": ""
             }
            },
            "type": "scattercarpet"
           }
          ],
          "scattergeo": [
           {
            "marker": {
             "colorbar": {
              "outlinewidth": 0,
              "ticks": ""
             }
            },
            "type": "scattergeo"
           }
          ],
          "scattergl": [
           {
            "marker": {
             "colorbar": {
              "outlinewidth": 0,
              "ticks": ""
             }
            },
            "type": "scattergl"
           }
          ],
          "scattermapbox": [
           {
            "marker": {
             "colorbar": {
              "outlinewidth": 0,
              "ticks": ""
             }
            },
            "type": "scattermapbox"
           }
          ],
          "scatterpolar": [
           {
            "marker": {
             "colorbar": {
              "outlinewidth": 0,
              "ticks": ""
             }
            },
            "type": "scatterpolar"
           }
          ],
          "scatterpolargl": [
           {
            "marker": {
             "colorbar": {
              "outlinewidth": 0,
              "ticks": ""
             }
            },
            "type": "scatterpolargl"
           }
          ],
          "scatterternary": [
           {
            "marker": {
             "colorbar": {
              "outlinewidth": 0,
              "ticks": ""
             }
            },
            "type": "scatterternary"
           }
          ],
          "surface": [
           {
            "colorbar": {
             "outlinewidth": 0,
             "ticks": ""
            },
            "colorscale": [
             [
              0,
              "#0d0887"
             ],
             [
              0.1111111111111111,
              "#46039f"
             ],
             [
              0.2222222222222222,
              "#7201a8"
             ],
             [
              0.3333333333333333,
              "#9c179e"
             ],
             [
              0.4444444444444444,
              "#bd3786"
             ],
             [
              0.5555555555555556,
              "#d8576b"
             ],
             [
              0.6666666666666666,
              "#ed7953"
             ],
             [
              0.7777777777777778,
              "#fb9f3a"
             ],
             [
              0.8888888888888888,
              "#fdca26"
             ],
             [
              1,
              "#f0f921"
             ]
            ],
            "type": "surface"
           }
          ],
          "table": [
           {
            "cells": {
             "fill": {
              "color": "#EBF0F8"
             },
             "line": {
              "color": "white"
             }
            },
            "header": {
             "fill": {
              "color": "#C8D4E3"
             },
             "line": {
              "color": "white"
             }
            },
            "type": "table"
           }
          ]
         },
         "layout": {
          "annotationdefaults": {
           "arrowcolor": "#2a3f5f",
           "arrowhead": 0,
           "arrowwidth": 1
          },
          "autotypenumbers": "strict",
          "coloraxis": {
           "colorbar": {
            "outlinewidth": 0,
            "ticks": ""
           }
          },
          "colorscale": {
           "diverging": [
            [
             0,
             "#8e0152"
            ],
            [
             0.1,
             "#c51b7d"
            ],
            [
             0.2,
             "#de77ae"
            ],
            [
             0.3,
             "#f1b6da"
            ],
            [
             0.4,
             "#fde0ef"
            ],
            [
             0.5,
             "#f7f7f7"
            ],
            [
             0.6,
             "#e6f5d0"
            ],
            [
             0.7,
             "#b8e186"
            ],
            [
             0.8,
             "#7fbc41"
            ],
            [
             0.9,
             "#4d9221"
            ],
            [
             1,
             "#276419"
            ]
           ],
           "sequential": [
            [
             0,
             "#0d0887"
            ],
            [
             0.1111111111111111,
             "#46039f"
            ],
            [
             0.2222222222222222,
             "#7201a8"
            ],
            [
             0.3333333333333333,
             "#9c179e"
            ],
            [
             0.4444444444444444,
             "#bd3786"
            ],
            [
             0.5555555555555556,
             "#d8576b"
            ],
            [
             0.6666666666666666,
             "#ed7953"
            ],
            [
             0.7777777777777778,
             "#fb9f3a"
            ],
            [
             0.8888888888888888,
             "#fdca26"
            ],
            [
             1,
             "#f0f921"
            ]
           ],
           "sequentialminus": [
            [
             0,
             "#0d0887"
            ],
            [
             0.1111111111111111,
             "#46039f"
            ],
            [
             0.2222222222222222,
             "#7201a8"
            ],
            [
             0.3333333333333333,
             "#9c179e"
            ],
            [
             0.4444444444444444,
             "#bd3786"
            ],
            [
             0.5555555555555556,
             "#d8576b"
            ],
            [
             0.6666666666666666,
             "#ed7953"
            ],
            [
             0.7777777777777778,
             "#fb9f3a"
            ],
            [
             0.8888888888888888,
             "#fdca26"
            ],
            [
             1,
             "#f0f921"
            ]
           ]
          },
          "colorway": [
           "#636efa",
           "#EF553B",
           "#00cc96",
           "#ab63fa",
           "#FFA15A",
           "#19d3f3",
           "#FF6692",
           "#B6E880",
           "#FF97FF",
           "#FECB52"
          ],
          "font": {
           "color": "#2a3f5f"
          },
          "geo": {
           "bgcolor": "white",
           "lakecolor": "white",
           "landcolor": "#E5ECF6",
           "showlakes": true,
           "showland": true,
           "subunitcolor": "white"
          },
          "hoverlabel": {
           "align": "left"
          },
          "hovermode": "closest",
          "mapbox": {
           "style": "light"
          },
          "paper_bgcolor": "white",
          "plot_bgcolor": "#E5ECF6",
          "polar": {
           "angularaxis": {
            "gridcolor": "white",
            "linecolor": "white",
            "ticks": ""
           },
           "bgcolor": "#E5ECF6",
           "radialaxis": {
            "gridcolor": "white",
            "linecolor": "white",
            "ticks": ""
           }
          },
          "scene": {
           "xaxis": {
            "backgroundcolor": "#E5ECF6",
            "gridcolor": "white",
            "gridwidth": 2,
            "linecolor": "white",
            "showbackground": true,
            "ticks": "",
            "zerolinecolor": "white"
           },
           "yaxis": {
            "backgroundcolor": "#E5ECF6",
            "gridcolor": "white",
            "gridwidth": 2,
            "linecolor": "white",
            "showbackground": true,
            "ticks": "",
            "zerolinecolor": "white"
           },
           "zaxis": {
            "backgroundcolor": "#E5ECF6",
            "gridcolor": "white",
            "gridwidth": 2,
            "linecolor": "white",
            "showbackground": true,
            "ticks": "",
            "zerolinecolor": "white"
           }
          },
          "shapedefaults": {
           "line": {
            "color": "#2a3f5f"
           }
          },
          "ternary": {
           "aaxis": {
            "gridcolor": "white",
            "linecolor": "white",
            "ticks": ""
           },
           "baxis": {
            "gridcolor": "white",
            "linecolor": "white",
            "ticks": ""
           },
           "bgcolor": "#E5ECF6",
           "caxis": {
            "gridcolor": "white",
            "linecolor": "white",
            "ticks": ""
           }
          },
          "title": {
           "x": 0.05
          },
          "xaxis": {
           "automargin": true,
           "gridcolor": "white",
           "linecolor": "white",
           "ticks": "",
           "title": {
            "standoff": 15
           },
           "zerolinecolor": "white",
           "zerolinewidth": 2
          },
          "yaxis": {
           "automargin": true,
           "gridcolor": "white",
           "linecolor": "white",
           "ticks": "",
           "title": {
            "standoff": 15
           },
           "zerolinecolor": "white",
           "zerolinewidth": 2
          }
         }
        },
        "xaxis": {
         "anchor": "y",
         "domain": [
          0,
          0.31999999999999995
         ],
         "title": {
          "text": "Number of Players (log2 scale)"
         }
        },
        "xaxis2": {
         "anchor": "y2",
         "domain": [
          0.33999999999999997,
          0.6599999999999999
         ],
         "matches": "x",
         "title": {
          "text": "Number of Players (log2 scale)"
         }
        },
        "xaxis3": {
         "anchor": "y3",
         "domain": [
          0.6799999999999999,
          0.9999999999999999
         ],
         "matches": "x",
         "title": {
          "text": "Number of Players (log2 scale)"
         }
        },
        "xaxis4": {
         "anchor": "y4",
         "domain": [
          0,
          0.31999999999999995
         ],
         "matches": "x",
         "showticklabels": false
        },
        "xaxis5": {
         "anchor": "y5",
         "domain": [
          0.33999999999999997,
          0.6599999999999999
         ],
         "matches": "x",
         "showticklabels": false
        },
        "xaxis6": {
         "anchor": "y6",
         "domain": [
          0.6799999999999999,
          0.9999999999999999
         ],
         "matches": "x",
         "showticklabels": false
        },
        "yaxis": {
         "anchor": "x",
         "domain": [
          0,
          0.46499999999999997
         ],
         "title": {
          "text": "Runtime (ms/invocation)"
         }
        },
        "yaxis2": {
         "anchor": "x2",
         "domain": [
          0,
          0.46499999999999997
         ],
         "matches": "y",
         "showticklabels": false
        },
        "yaxis3": {
         "anchor": "x3",
         "domain": [
          0,
          0.46499999999999997
         ],
         "matches": "y",
         "showticklabels": false
        },
        "yaxis4": {
         "anchor": "x4",
         "domain": [
          0.5349999999999999,
          0.9999999999999999
         ],
         "matches": "y",
         "title": {
          "text": "Runtime (ms/invocation)"
         }
        },
        "yaxis5": {
         "anchor": "x5",
         "domain": [
          0.5349999999999999,
          0.9999999999999999
         ],
         "matches": "y",
         "showticklabels": false
        },
        "yaxis6": {
         "anchor": "x6",
         "domain": [
          0.5349999999999999,
          0.9999999999999999
         ],
         "matches": "y",
         "showticklabels": false
        }
       }
      }
     },
     "metadata": {},
     "output_type": "display_data"
    }
   ],
   "source": [
    "px.bar(\n",
    "    results,\n",
    "    x=\"Number of Players (log2 scale)\",\n",
    "    y=\"Runtime (ms/invocation)\",\n",
    "    color=\"Sampler Algo\",\n",
    "    facet_col=\"Batch Size\",\n",
    "    facet_col_wrap=3,\n",
    "    barmode=\"group\",\n",
    "    height=800,\n",
    ")"
   ]
  }
 ],
 "metadata": {
  "kernelspec": {
   "display_name": "introba",
   "language": "python",
   "name": "python3"
  },
  "language_info": {
   "codemirror_mode": {
    "name": "ipython",
    "version": 3
   },
   "file_extension": ".py",
   "mimetype": "text/x-python",
   "name": "python",
   "nbconvert_exporter": "python",
   "pygments_lexer": "ipython3",
   "version": "3.9.16"
  },
  "orig_nbformat": 4
 },
 "nbformat": 4,
 "nbformat_minor": 2
}
