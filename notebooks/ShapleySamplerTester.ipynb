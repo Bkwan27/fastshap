{
 "cells": [
  {
   "cell_type": "code",
   "execution_count": 1,
   "metadata": {},
   "outputs": [],
   "source": [
    "import torch\n",
    "import time\n",
    "import numpy as np\n",
    "import matplotlib.pyplot as plt\n",
    "from torch.distributions.categorical import Categorical\n",
    "import pandas as pd\n",
    "import plotly.express as px"
   ]
  },
  {
   "cell_type": "code",
   "execution_count": 2,
   "metadata": {},
   "outputs": [],
   "source": [
    "class ShapleySamplerOriginal:\n",
    "    \"\"\"\n",
    "    For sampling player subsets from the Shapley distribution.\n",
    "\n",
    "    Args:\n",
    "      num_players: number of players.\n",
    "    \"\"\"\n",
    "\n",
    "    def __init__(self, num_players):\n",
    "        arange = torch.arange(1, num_players)\n",
    "        w = 1 / (arange * (num_players - arange))\n",
    "        w = w / torch.sum(w)\n",
    "        self.categorical = Categorical(probs=w)\n",
    "        self.num_players = num_players\n",
    "        self.tril = torch.tril(\n",
    "            torch.ones(num_players - 1, num_players, dtype=torch.float32), diagonal=0\n",
    "        )\n",
    "\n",
    "    def sample(self, batch_size, paired_sampling):\n",
    "        \"\"\"\n",
    "        Generate sample.\n",
    "\n",
    "        Args:\n",
    "          batch_size: number of samples.\n",
    "          paired_sampling: whether to use paired sampling.\n",
    "        \"\"\"\n",
    "        num_included = 1 + self.categorical.sample([batch_size])\n",
    "        S = self.tril[num_included - 1]\n",
    "        # TODO ideally avoid for loops\n",
    "        for i in range(batch_size):\n",
    "            if paired_sampling and i % 2 == 1:\n",
    "                S[i] = 1 - S[i - 1]\n",
    "            else:\n",
    "                S[i] = S[i, torch.randperm(self.num_players)]\n",
    "        return S\n",
    "\n",
    "\n",
    "class ShapleySamplerArgSortCPU:\n",
    "    \"\"\"\n",
    "    For sampling player subsets from the Shapley distribution.\n",
    "\n",
    "    Args:\n",
    "      num_players: number of players.\n",
    "    \"\"\"\n",
    "\n",
    "    def __init__(self, num_players):\n",
    "        arange = torch.arange(1, num_players)\n",
    "        w = 1 / (arange * (num_players - arange))\n",
    "        w = w / torch.sum(w)\n",
    "        self.categorical = Categorical(probs=w)\n",
    "        self.num_players = num_players\n",
    "        self.tril = torch.tril(\n",
    "            torch.ones(num_players - 1, num_players, dtype=torch.float32), diagonal=0\n",
    "        )\n",
    "\n",
    "    def sample(self, batch_size, paired_sampling):\n",
    "        \"\"\"\n",
    "        Generate sample.\n",
    "\n",
    "        Args:\n",
    "          batch_size: number of samples.\n",
    "          paired_sampling: whether to use paired sampling.\n",
    "        \"\"\"\n",
    "        num_included = 1 + self.categorical.sample([batch_size])\n",
    "        S = self.tril[num_included - 1]\n",
    "        # Generate a random ordering of indices for each row\n",
    "        indices = torch.argsort(torch.rand_like(S), dim=-1)\n",
    "        # Execute the permutation\n",
    "        S = torch.gather(S, dim=-1, index=indices)\n",
    "        if paired_sampling:\n",
    "            S[1::2] = 1 - S[0 : batch_size - 1 : 2]\n",
    "        return S\n",
    "\n",
    "\n",
    "class ShapleySamplerArgSortGPU:\n",
    "    \"\"\"\n",
    "    For sampling player subsets from the Shapley distribution.\n",
    "\n",
    "    Args:\n",
    "      num_players: number of players.\n",
    "    \"\"\"\n",
    "\n",
    "    def __init__(self, num_players):\n",
    "        arange = torch.arange(1, num_players)\n",
    "        w = 1 / (arange * (num_players - arange))\n",
    "        w = w / torch.sum(w)\n",
    "        self.categorical = Categorical(probs=w)\n",
    "        self.num_players = num_players\n",
    "        self.tril = torch.tril(\n",
    "            torch.ones(num_players - 1, num_players, dtype=torch.float32), diagonal=0\n",
    "        ).to(\"cuda\")\n",
    "\n",
    "    def sample(self, batch_size, paired_sampling):\n",
    "        \"\"\"\n",
    "        Generate sample.\n",
    "\n",
    "        Args:\n",
    "          batch_size: number of samples.\n",
    "          paired_sampling: whether to use paired sampling.\n",
    "        \"\"\"\n",
    "        num_included = (1 + self.categorical.sample([batch_size])).to(\"cuda\")\n",
    "        S = self.tril[num_included - 1]\n",
    "        # Generate a random ordering of indices for each row\n",
    "        indices = torch.argsort(torch.rand_like(S), dim=-1)\n",
    "        # Execute the permutation\n",
    "        S = torch.gather(S, dim=-1, index=indices)\n",
    "        if paired_sampling:\n",
    "            S[1::2] = 1 - S[0 : batch_size - 1 : 2]\n",
    "        return S\n",
    "\n",
    "\n",
    "class ShapleySamplerMultinomialCPU:\n",
    "    \"\"\"\n",
    "    For sampling player subsets from the Shapley distribution.\n",
    "\n",
    "    Args:\n",
    "      num_players: number of players.\n",
    "    \"\"\"\n",
    "\n",
    "    def __init__(self, num_players):\n",
    "        arange = torch.arange(1, num_players)\n",
    "        w = 1 / (arange * (num_players - arange))\n",
    "        w = w / torch.sum(w)\n",
    "        self.categorical = Categorical(probs=w)\n",
    "        self.num_players = num_players\n",
    "        self.tril = torch.tril(\n",
    "            torch.ones(num_players - 1, num_players, dtype=torch.float32), diagonal=0\n",
    "        )\n",
    "\n",
    "    def sample(self, batch_size, paired_sampling):\n",
    "        \"\"\"\n",
    "        Generate sample.\n",
    "\n",
    "        Args:\n",
    "          batch_size: number of samples.\n",
    "          paired_sampling: whether to use paired sampling.\n",
    "        \"\"\"\n",
    "        num_included = 1 + self.categorical.sample([batch_size])\n",
    "        S = self.tril[num_included - 1]\n",
    "        # Generate a random ordering of indices for each row\n",
    "        ix_weights = torch.ones(batch_size, self.num_players)\n",
    "        indices = torch.multinomial(ix_weights, self.num_players, replacement=False)\n",
    "        # Execute the permutation\n",
    "        S = torch.gather(S, dim=-1, index=indices)\n",
    "        if paired_sampling:\n",
    "            S[1::2] = 1 - S[0 : batch_size - 1 : 2]\n",
    "        return S\n",
    "\n",
    "\n",
    "class ShapleySamplerMultinomialGPU:\n",
    "    \"\"\"\n",
    "    For sampling player subsets from the Shapley distribution.\n",
    "\n",
    "    Args:\n",
    "      num_players: number of players.\n",
    "    \"\"\"\n",
    "\n",
    "    def __init__(self, num_players):\n",
    "        arange = torch.arange(1, num_players)\n",
    "        w = 1 / (arange * (num_players - arange))\n",
    "        w = w / torch.sum(w)\n",
    "        self.categorical = Categorical(probs=w)\n",
    "        self.num_players = num_players\n",
    "        self.tril = torch.tril(\n",
    "            torch.ones(num_players - 1, num_players, dtype=torch.float32), diagonal=0\n",
    "        ).to(\"cuda\")\n",
    "\n",
    "    def sample(self, batch_size, paired_sampling):\n",
    "        \"\"\"\n",
    "        Generate sample.\n",
    "\n",
    "        Args:\n",
    "          batch_size: number of samples.\n",
    "          paired_sampling: whether to use paired sampling.\n",
    "        \"\"\"\n",
    "        num_included = (1 + self.categorical.sample([batch_size])).to(\"cuda\")\n",
    "        S = self.tril[num_included - 1]\n",
    "        # Generate a random ordering of indices for each row\n",
    "        ix_weights = torch.ones(batch_size, self.num_players).to(\"cuda\")\n",
    "        indices = torch.multinomial(ix_weights, self.num_players, replacement=False)\n",
    "        # Execute the permutation\n",
    "        S = torch.gather(S, dim=-1, index=indices)\n",
    "        if paired_sampling:\n",
    "            S[1::2] = 1 - S[0 : batch_size - 1 : 2]\n",
    "        return S\n",
    "\n",
    "\n",
    "class ShapleySamplerThreshCPU:\n",
    "    \"\"\"\n",
    "    For sampling player subsets from the Shapley distribution.\n",
    "\n",
    "    Args:\n",
    "      num_players: number of players.\n",
    "    \"\"\"\n",
    "\n",
    "    def __init__(self, num_players):\n",
    "        arange = torch.arange(1, num_players)\n",
    "        w = 1 / (arange * (num_players - arange))\n",
    "        w = w / torch.sum(w)\n",
    "        self.categorical = Categorical(probs=w)\n",
    "        self.num_players = num_players\n",
    "\n",
    "    def sample(self, batch_size, paired_sampling):\n",
    "        \"\"\"\n",
    "        Generate sample.\n",
    "\n",
    "        Args:\n",
    "          batch_size: number of samples.\n",
    "          paired_sampling: whether to use paired sampling.\n",
    "        \"\"\"\n",
    "        # 'num_included' ranges from 0...num_players-2, corresponds to selecting 1...num_players-1\n",
    "        num_included = self.categorical.sample([batch_size])\n",
    "        # We will be generating (batch_size x self.num_players-2) samples, \n",
    "        # and we want the expected value of the sum of each row\n",
    "        # to be the 'num_included' value for that row\n",
    "        thresh = (num_included / (self.num_players - 2)).reshape(-1, 1)\n",
    "        # random test values\n",
    "        test = torch.rand(batch_size, self.num_players - 2)\n",
    "        S_partial = (thresh > test).float()\n",
    "        S = torch.zeros(batch_size, self.num_players)\n",
    "        S[:, 1] = 1  # First column is a zero, second column is a 1\n",
    "        S[:, 2:] = S_partial  # remaining columns are 0-1\n",
    "        # we will now rotate each row by a random distance using gather\n",
    "        # generate a [[0,...num_players-1], [0,...,num_players-1],...] matrix\n",
    "        shifter = torch.arange(self.num_players).reshape(1, -1).tile(batch_size, 1)\n",
    "        # rotate the indices by a random amount\n",
    "        shifter = (\n",
    "            shifter + torch.randint(0, self.num_players, (batch_size, 1))\n",
    "        ) % self.num_players\n",
    "        S = torch.gather(S, dim=-1, index=shifter)\n",
    "\n",
    "        if paired_sampling:\n",
    "            S[1::2] = 1 - S[0 : batch_size - 1 : 2]\n",
    "        return S\n",
    "\n",
    "\n",
    "class ShapleySamplerThreshGPU:\n",
    "    \"\"\"\n",
    "    For sampling player subsets from the Shapley distribution.\n",
    "\n",
    "    Args:\n",
    "      num_players: number of players.\n",
    "    \"\"\"\n",
    "\n",
    "    def __init__(self, num_players):\n",
    "        arange = torch.arange(1, num_players)\n",
    "        w = 1 / (arange * (num_players - arange))\n",
    "        w = w / torch.sum(w)\n",
    "        self.categorical = Categorical(probs=w)\n",
    "        self.num_players = num_players\n",
    "\n",
    "    def sample(self, batch_size, paired_sampling):\n",
    "        \"\"\"\n",
    "        Generate sample.  \n",
    "\n",
    "        Args:\n",
    "          batch_size: number of samples.\n",
    "          paired_sampling: whether to use paired sampling.\n",
    "        \"\"\"\n",
    "        # 'num_included' ranges from 0...num_players-2, corresponds to selecting 1...num_players-1\n",
    "        num_included = (self.categorical.sample([batch_size])).to(\"cuda\")\n",
    "        # We will be generating (batch_size x self.num_players-2) samples, \n",
    "        # and we want the expected value of the sum of each row\n",
    "        # to be the 'num_included' value for that row\n",
    "        thresh = (num_included / (self.num_players - 2)).reshape(-1, 1)\n",
    "        # random test values\n",
    "        test = torch.rand(batch_size, self.num_players - 2).to(\"cuda\")\n",
    "        S_partial = (thresh > test).float()\n",
    "        S = torch.zeros(batch_size, self.num_players).to(\"cuda\")\n",
    "        S[:, 1] = 1  # First column is a zero, second column is a 1\n",
    "        S[:, 2:] = S_partial  # remaining columns are 0-1\n",
    "        # we will now rotate each row by a random distance using gather\n",
    "        # generate a [[0,...num_players-1], [0,...,num_players-1],...] matrix\n",
    "        shifter = (\n",
    "            torch.arange(self.num_players).to(\"cuda\").reshape(1, -1).tile(batch_size, 1)\n",
    "        )\n",
    "        # rotate the indices by a random amount\n",
    "        shifter = (\n",
    "            shifter + torch.randint(0, self.num_players, (batch_size, 1)).to(\"cuda\")\n",
    "        ) % self.num_players\n",
    "        # perform the row-level of rotation\n",
    "        S = torch.gather(S, dim=-1, index=shifter)\n",
    "\n",
    "        if paired_sampling:\n",
    "            S[1::2] = 1 - S[0 : batch_size - 1 : 2]\n",
    "        return S"
   ]
  },
  {
   "cell_type": "code",
   "execution_count": 3,
   "metadata": {},
   "outputs": [],
   "source": [
    "samplers = [\n",
    "    ShapleySamplerOriginal,\n",
    "    ShapleySamplerArgSortCPU,\n",
    "    ShapleySamplerMultinomialCPU,\n",
    "    ShapleySamplerThreshCPU,\n",
    "    ShapleySamplerArgSortGPU,\n",
    "    ShapleySamplerMultinomialGPU,\n",
    "    ShapleySamplerThreshGPU,\n",
    "]"
   ]
  },
  {
   "cell_type": "code",
   "execution_count": 4,
   "metadata": {},
   "outputs": [
    {
     "data": {
      "image/png": "[encoded data removed]",
      "text/plain": [
       "<Figure size 640x480 with 1 Axes>"
      ]
     },
     "metadata": {},
     "output_type": "display_data"
    }
   ],
   "source": [
    "n = 12\n",
    "samplers_distro_test = [Sampler(n) for Sampler in samplers if 'GPU' not in Sampler.__name__]\n",
    "counts = [\n",
    "    s.sample(100000, paired_sampling=False).sum(dim=1).cpu()\n",
    "    for s in samplers_distro_test\n",
    "]\n",
    "plt.hist(\n",
    "    counts,\n",
    "    bins=n - 1,\n",
    "    label=[Sampler.__class__.__name__ for Sampler in samplers_distro_test],\n",
    ")\n",
    "plt.legend()\n",
    "plt.show()"
   ]
  },
  {
   "cell_type": "code",
   "execution_count": 5,
   "metadata": {},
   "outputs": [
    {
     "data": {
      "image/png": "[encoded data removed]",
      "text/plain": [
       "<Figure size 640x480 with 1 Axes>"
      ]
     },
     "metadata": {},
     "output_type": "display_data"
    }
   ],
   "source": [
    "n = 32\n",
    "samplers_distro_test = [Sampler(n) for Sampler in samplers if 'GPU' not in Sampler.__name__]\n",
    "counts = [\n",
    "    s.sample(100000, paired_sampling=False).sum(dim=1).cpu()\n",
    "    for s in samplers_distro_test\n",
    "]\n",
    "plt.hist(\n",
    "    counts,\n",
    "    bins=n - 1,\n",
    "    label=[Sampler.__class__.__name__ for Sampler in samplers_distro_test],\n",
    ")\n",
    "plt.legend()\n",
    "plt.show()"
   ]
  },
  {
   "cell_type": "code",
   "execution_count": 6,
   "metadata": {},
   "outputs": [],
   "source": [
    "def testSS(Sampler, n, num_players, batch_size):\n",
    "    u = Sampler(num_players)\n",
    "    s = time.time()\n",
    "    for i in range(n):\n",
    "        u.sample(batch_size, paired_sampling=True)\n",
    "    s_per_it = (time.time() - s) / n\n",
    "    return s_per_it"
   ]
  },
  {
   "cell_type": "code",
   "execution_count": 7,
   "metadata": {},
   "outputs": [],
   "source": [
    "num_players = [16, 32, 64, 128, 256, 512]\n",
    "batch_sizes = [16, 32, 64, 128, 256]\n",
    "results = []\n",
    "for i, ShapSamp in enumerate(samplers):\n",
    "    for p in num_players:\n",
    "        for b in batch_sizes:\n",
    "            results.append(\n",
    "                (i, p, b, testSS(ShapSamp, n=100, num_players=p, batch_size=b))\n",
    "            )\n",
    "results = pd.DataFrame(\n",
    "    np.array(results), columns=[\"Sampler\", \"Number of Players\", \"Batch Size\", \"runtime\"]\n",
    ")"
   ]
  },
  {
   "cell_type": "code",
   "execution_count": 8,
   "metadata": {},
   "outputs": [],
   "source": [
    "results[\"Number of Players\"] = results[\"Number of Players\"].astype(int)\n",
    "results[\"Batch Size (log2 scale)\"] = np.log2(results[\"Batch Size\"])\n",
    "results[\"Number of Players (log2 scale)\"] = np.log2(results[\"Number of Players\"])\n",
    "results[\"Runtime (ms/invocation)\"] = results[\"runtime\"] * 1e3\n",
    "results[\"Sampler Algo\"] = (\n",
    "    results[\"Sampler\"]\n",
    "    .astype(int)\n",
    "    .map(\n",
    "        {\n",
    "            i: S.__name__.split(\"ShapleySampler\")[1] for i,S in enumerate(samplers)\n",
    "        }\n",
    "    )\n",
    ")"
   ]
  },
  {
   "cell_type": "code",
   "execution_count": 9,
   "metadata": {},
   "outputs": [
    {
     "data": {
      "application/vnd.plotly.v1+json": {
       "config": {
        "plotlyServerURL": "https://plot.ly"
       },
       "data": [
        {
         "alignmentgroup": "True",
         "hovertemplate": "Sampler Algo=Original<br>Number of Players=16<br>Batch Size (log2 scale)=%{x}<br>Runtime (ms/invocation)=%{y}<extra></extra>",
         "legendgroup": "Original",
         "marker": {
          "color": "#636efa",
          "pattern": {
           "shape": ""
          }
         },
         "name": "Original",
         "offsetgroup": "Original",
         "orientation": "v",
         "showlegend": true,
         "textposition": "auto",
         "type": "bar",
         "x": [
          4,
          5,
          6,
          7,
          8
         ],
         "xaxis": "x4",
         "y": [
          0.5554437637329102,
          0.8905220031738281,
          1.6063785552978516,
          3.1870460510253906,
          5.976436138153076
         ],
         "yaxis": "y4"
        },
        {
         "alignmentgroup": "True",
         "hovertemplate": "Sampler Algo=Original<br>Number of Players=32<br>Batch Size (log2 scale)=%{x}<br>Runtime (ms/invocation)=%{y}<extra></extra>",
         "legendgroup": "Original",
         "marker": {
          "color": "#636efa",
          "pattern": {
           "shape": ""
          }
         },
         "name": "Original",
         "offsetgroup": "Original",
         "orientation": "v",
         "showlegend": false,
         "textposition": "auto",
         "type": "bar",
         "x": [
          4,
          5,
          6,
          7,
          8
         ],
         "xaxis": "x5",
         "y": [
          0.44713735580444336,
          0.8088970184326172,
          1.5122604370117188,
          2.867743968963623,
          6.0797834396362305
         ],
         "yaxis": "y5"
        },
        {
         "alignmentgroup": "True",
         "hovertemplate": "Sampler Algo=Original<br>Number of Players=64<br>Batch Size (log2 scale)=%{x}<br>Runtime (ms/invocation)=%{y}<extra></extra>",
         "legendgroup": "Original",
         "marker": {
          "color": "#636efa",
          "pattern": {
           "shape": ""
          }
         },
         "name": "Original",
         "offsetgroup": "Original",
         "orientation": "v",
         "showlegend": false,
         "textposition": "auto",
         "type": "bar",
         "x": [
          4,
          5,
          6,
          7,
          8
         ],
         "xaxis": "x6",
         "y": [
          0.4357314109802246,
          0.8547568321228027,
          1.5672755241394043,
          3.1628966331481934,
          6.058259010314941
         ],
         "yaxis": "y6"
        },
        {
         "alignmentgroup": "True",
         "hovertemplate": "Sampler Algo=Original<br>Number of Players=128<br>Batch Size (log2 scale)=%{x}<br>Runtime (ms/invocation)=%{y}<extra></extra>",
         "legendgroup": "Original",
         "marker": {
          "color": "#636efa",
          "pattern": {
           "shape": ""
          }
         },
         "name": "Original",
         "offsetgroup": "Original",
         "orientation": "v",
         "showlegend": false,
         "textposition": "auto",
         "type": "bar",
         "x": [
          4,
          5,
          6,
          7,
          8
         ],
         "xaxis": "x",
         "y": [
          0.4651474952697754,
          0.875847339630127,
          1.5903997421264648,
          3.2157111167907715,
          6.369261741638184
         ],
         "yaxis": "y"
        },
        {
         "alignmentgroup": "True",
         "hovertemplate": "Sampler Algo=Original<br>Number of Players=256<br>Batch Size (log2 scale)=%{x}<br>Runtime (ms/invocation)=%{y}<extra></extra>",
         "legendgroup": "Original",
         "marker": {
          "color": "#636efa",
          "pattern": {
           "shape": ""
          }
         },
         "name": "Original",
         "offsetgroup": "Original",
         "orientation": "v",
         "showlegend": false,
         "textposition": "auto",
         "type": "bar",
         "x": [
          4,
          5,
          6,
          7,
          8
         ],
         "xaxis": "x2",
         "y": [
          0.4602670669555664,
          0.8855533599853516,
          1.7364072799682617,
          3.1923341751098633,
          6.540157794952393
         ],
         "yaxis": "y2"
        },
        {
         "alignmentgroup": "True",
         "hovertemplate": "Sampler Algo=Original<br>Number of Players=512<br>Batch Size (log2 scale)=%{x}<br>Runtime (ms/invocation)=%{y}<extra></extra>",
         "legendgroup": "Original",
         "marker": {
          "color": "#636efa",
          "pattern": {
           "shape": ""
          }
         },
         "name": "Original",
         "offsetgroup": "Original",
         "orientation": "v",
         "showlegend": false,
         "textposition": "auto",
         "type": "bar",
         "x": [
          4,
          5,
          6,
          7,
          8
         ],
         "xaxis": "x3",
         "y": [
          0.4953885078430176,
          0.9549999237060547,
          1.9031858444213867,
          3.665130138397217,
          7.082498073577881
         ],
         "yaxis": "y3"
        },
        {
         "alignmentgroup": "True",
         "hovertemplate": "Sampler Algo=ArgSortCPU<br>Number of Players=16<br>Batch Size (log2 scale)=%{x}<br>Runtime (ms/invocation)=%{y}<extra></extra>",
         "legendgroup": "ArgSortCPU",
         "marker": {
          "color": "#EF553B",
          "pattern": {
           "shape": ""
          }
         },
         "name": "ArgSortCPU",
         "offsetgroup": "ArgSortCPU",
         "orientation": "v",
         "showlegend": true,
         "textposition": "auto",
         "type": "bar",
         "x": [
          4,
          5,
          6,
          7,
          8
         ],
         "xaxis": "x4",
         "y": [
          0.11156797409057617,
          0.12230396270751953,
          0.14597177505493164,
          0.18022775650024414,
          0.2714395523071289
         ],
         "yaxis": "y4"
        },
        {
         "alignmentgroup": "True",
         "hovertemplate": "Sampler Algo=ArgSortCPU<br>Number of Players=32<br>Batch Size (log2 scale)=%{x}<br>Runtime (ms/invocation)=%{y}<extra></extra>",
         "legendgroup": "ArgSortCPU",
         "marker": {
          "color": "#EF553B",
          "pattern": {
           "shape": ""
          }
         },
         "name": "ArgSortCPU",
         "offsetgroup": "ArgSortCPU",
         "orientation": "v",
         "showlegend": false,
         "textposition": "auto",
         "type": "bar",
         "x": [
          4,
          5,
          6,
          7,
          8
         ],
         "xaxis": "x5",
         "y": [
          0.1352524757385254,
          0.16071796417236328,
          0.21672964096069336,
          0.3476142883300781,
          0.5456733703613281
         ],
         "yaxis": "y5"
        },
        {
         "alignmentgroup": "True",
         "hovertemplate": "Sampler Algo=ArgSortCPU<br>Number of Players=64<br>Batch Size (log2 scale)=%{x}<br>Runtime (ms/invocation)=%{y}<extra></extra>",
         "legendgroup": "ArgSortCPU",
         "marker": {
          "color": "#EF553B",
          "pattern": {
           "shape": ""
          }
         },
         "name": "ArgSortCPU",
         "offsetgroup": "ArgSortCPU",
         "orientation": "v",
         "showlegend": false,
         "textposition": "auto",
         "type": "bar",
         "x": [
          4,
          5,
          6,
          7,
          8
         ],
         "xaxis": "x6",
         "y": [
          0.1806950569152832,
          0.26522159576416016,
          0.4304695129394531,
          0.6808733940124512,
          1.2108349800109863
         ],
         "yaxis": "y6"
        },
        {
         "alignmentgroup": "True",
         "hovertemplate": "Sampler Algo=ArgSortCPU<br>Number of Players=128<br>Batch Size (log2 scale)=%{x}<br>Runtime (ms/invocation)=%{y}<extra></extra>",
         "legendgroup": "ArgSortCPU",
         "marker": {
          "color": "#EF553B",
          "pattern": {
           "shape": ""
          }
         },
         "name": "ArgSortCPU",
         "offsetgroup": "ArgSortCPU",
         "orientation": "v",
         "showlegend": false,
         "textposition": "auto",
         "type": "bar",
         "x": [
          4,
          5,
          6,
          7,
          8
         ],
         "xaxis": "x",
         "y": [
          0.29527902603149414,
          0.4354548454284668,
          0.8173966407775879,
          1.48101806640625,
          2.6783323287963867
         ],
         "yaxis": "y"
        },
        {
         "alignmentgroup": "True",
         "hovertemplate": "Sampler Algo=ArgSortCPU<br>Number of Players=256<br>Batch Size (log2 scale)=%{x}<br>Runtime (ms/invocation)=%{y}<extra></extra>",
         "legendgroup": "ArgSortCPU",
         "marker": {
          "color": "#EF553B",
          "pattern": {
           "shape": ""
          }
         },
         "name": "ArgSortCPU",
         "offsetgroup": "ArgSortCPU",
         "orientation": "v",
         "showlegend": false,
         "textposition": "auto",
         "type": "bar",
         "x": [
          4,
          5,
          6,
          7,
          8
         ],
         "xaxis": "x2",
         "y": [
          0.47829151153564453,
          0.9060573577880859,
          1.60050630569458,
          3.1422901153564453,
          3.4271931648254395
         ],
         "yaxis": "y2"
        },
        {
         "alignmentgroup": "True",
         "hovertemplate": "Sampler Algo=ArgSortCPU<br>Number of Players=512<br>Batch Size (log2 scale)=%{x}<br>Runtime (ms/invocation)=%{y}<extra></extra>",
         "legendgroup": "ArgSortCPU",
         "marker": {
          "color": "#EF553B",
          "pattern": {
           "shape": ""
          }
         },
         "name": "ArgSortCPU",
         "offsetgroup": "ArgSortCPU",
         "orientation": "v",
         "showlegend": false,
         "textposition": "auto",
         "type": "bar",
         "x": [
          4,
          5,
          6,
          7,
          8
         ],
         "xaxis": "x3",
         "y": [
          0.9722733497619629,
          1.8428277969360352,
          3.54935884475708,
          3.918564319610596,
          4.921813011169434
         ],
         "yaxis": "y3"
        },
        {
         "alignmentgroup": "True",
         "hovertemplate": "Sampler Algo=MultinomialCPU<br>Number of Players=16<br>Batch Size (log2 scale)=%{x}<br>Runtime (ms/invocation)=%{y}<extra></extra>",
         "legendgroup": "MultinomialCPU",
         "marker": {
          "color": "#00cc96",
          "pattern": {
           "shape": ""
          }
         },
         "name": "MultinomialCPU",
         "offsetgroup": "MultinomialCPU",
         "orientation": "v",
         "showlegend": true,
         "textposition": "auto",
         "type": "bar",
         "x": [
          4,
          5,
          6,
          7,
          8
         ],
         "xaxis": "x4",
         "y": [
          0.1550769805908203,
          0.15511274337768555,
          0.20004034042358398,
          0.2100539207458496,
          0.32004356384277344
         ],
         "yaxis": "y4"
        },
        {
         "alignmentgroup": "True",
         "hovertemplate": "Sampler Algo=MultinomialCPU<br>Number of Players=32<br>Batch Size (log2 scale)=%{x}<br>Runtime (ms/invocation)=%{y}<extra></extra>",
         "legendgroup": "MultinomialCPU",
         "marker": {
          "color": "#00cc96",
          "pattern": {
           "shape": ""
          }
         },
         "name": "MultinomialCPU",
         "offsetgroup": "MultinomialCPU",
         "orientation": "v",
         "showlegend": false,
         "textposition": "auto",
         "type": "bar",
         "x": [
          4,
          5,
          6,
          7,
          8
         ],
         "xaxis": "x5",
         "y": [
          0.18508434295654297,
          0.18510103225708008,
          0.21552324295043945,
          0.36011219024658203,
          0.49033641815185547
         ],
         "yaxis": "y5"
        },
        {
         "alignmentgroup": "True",
         "hovertemplate": "Sampler Algo=MultinomialCPU<br>Number of Players=64<br>Batch Size (log2 scale)=%{x}<br>Runtime (ms/invocation)=%{y}<extra></extra>",
         "legendgroup": "MultinomialCPU",
         "marker": {
          "color": "#00cc96",
          "pattern": {
           "shape": ""
          }
         },
         "name": "MultinomialCPU",
         "offsetgroup": "MultinomialCPU",
         "orientation": "v",
         "showlegend": false,
         "textposition": "auto",
         "type": "bar",
         "x": [
          4,
          5,
          6,
          7,
          8
         ],
         "xaxis": "x6",
         "y": [
          0.21001100540161133,
          0.2600669860839844,
          0.3950929641723633,
          0.570523738861084,
          1.0204768180847168
         ],
         "yaxis": "y6"
        },
        {
         "alignmentgroup": "True",
         "hovertemplate": "Sampler Algo=MultinomialCPU<br>Number of Players=128<br>Batch Size (log2 scale)=%{x}<br>Runtime (ms/invocation)=%{y}<extra></extra>",
         "legendgroup": "MultinomialCPU",
         "marker": {
          "color": "#00cc96",
          "pattern": {
           "shape": ""
          }
         },
         "name": "MultinomialCPU",
         "offsetgroup": "MultinomialCPU",
         "orientation": "v",
         "showlegend": false,
         "textposition": "auto",
         "type": "bar",
         "x": [
          4,
          5,
          6,
          7,
          8
         ],
         "xaxis": "x",
         "y": [
          0.2848076820373535,
          0.40561437606811523,
          0.6423401832580566,
          1.0802268981933594,
          2.112400531768799
         ],
         "yaxis": "y"
        },
        {
         "alignmentgroup": "True",
         "hovertemplate": "Sampler Algo=MultinomialCPU<br>Number of Players=256<br>Batch Size (log2 scale)=%{x}<br>Runtime (ms/invocation)=%{y}<extra></extra>",
         "legendgroup": "MultinomialCPU",
         "marker": {
          "color": "#00cc96",
          "pattern": {
           "shape": ""
          }
         },
         "name": "MultinomialCPU",
         "offsetgroup": "MultinomialCPU",
         "orientation": "v",
         "showlegend": false,
         "textposition": "auto",
         "type": "bar",
         "x": [
          4,
          5,
          6,
          7,
          8
         ],
         "xaxis": "x2",
         "y": [
          0.42024850845336914,
          0.7207226753234863,
          1.2171459197998047,
          2.3334217071533203,
          2.4583816528320312
         ],
         "yaxis": "y2"
        },
        {
         "alignmentgroup": "True",
         "hovertemplate": "Sampler Algo=MultinomialCPU<br>Number of Players=512<br>Batch Size (log2 scale)=%{x}<br>Runtime (ms/invocation)=%{y}<extra></extra>",
         "legendgroup": "MultinomialCPU",
         "marker": {
          "color": "#00cc96",
          "pattern": {
           "shape": ""
          }
         },
         "name": "MultinomialCPU",
         "offsetgroup": "MultinomialCPU",
         "orientation": "v",
         "showlegend": false,
         "textposition": "auto",
         "type": "bar",
         "x": [
          4,
          5,
          6,
          7,
          8
         ],
         "xaxis": "x3",
         "y": [
          0.7455110549926758,
          1.3286972045898438,
          2.5454092025756836,
          2.644636631011963,
          3.20573091506958
         ],
         "yaxis": "y3"
        },
        {
         "alignmentgroup": "True",
         "hovertemplate": "Sampler Algo=ThreshCPU<br>Number of Players=16<br>Batch Size (log2 scale)=%{x}<br>Runtime (ms/invocation)=%{y}<extra></extra>",
         "legendgroup": "ThreshCPU",
         "marker": {
          "color": "#ab63fa",
          "pattern": {
           "shape": ""
          }
         },
         "name": "ThreshCPU",
         "offsetgroup": "ThreshCPU",
         "orientation": "v",
         "showlegend": true,
         "textposition": "auto",
         "type": "bar",
         "x": [
          4,
          5,
          6,
          7,
          8
         ],
         "xaxis": "x4",
         "y": [
          0.15555858612060547,
          0.20020008087158203,
          0.19523382186889648,
          0.2202129364013672,
          0.25133848190307617
         ],
         "yaxis": "y4"
        },
        {
         "alignmentgroup": "True",
         "hovertemplate": "Sampler Algo=ThreshCPU<br>Number of Players=32<br>Batch Size (log2 scale)=%{x}<br>Runtime (ms/invocation)=%{y}<extra></extra>",
         "legendgroup": "ThreshCPU",
         "marker": {
          "color": "#ab63fa",
          "pattern": {
           "shape": ""
          }
         },
         "name": "ThreshCPU",
         "offsetgroup": "ThreshCPU",
         "orientation": "v",
         "showlegend": false,
         "textposition": "auto",
         "type": "bar",
         "x": [
          4,
          5,
          6,
          7,
          8
         ],
         "xaxis": "x5",
         "y": [
          0.16510009765625,
          0.1751112937927246,
          0.2051234245300293,
          0.26570558547973633,
          0.3103160858154297
         ],
         "yaxis": "y5"
        },
        {
         "alignmentgroup": "True",
         "hovertemplate": "Sampler Algo=ThreshCPU<br>Number of Players=64<br>Batch Size (log2 scale)=%{x}<br>Runtime (ms/invocation)=%{y}<extra></extra>",
         "legendgroup": "ThreshCPU",
         "marker": {
          "color": "#ab63fa",
          "pattern": {
           "shape": ""
          }
         },
         "name": "ThreshCPU",
         "offsetgroup": "ThreshCPU",
         "orientation": "v",
         "showlegend": false,
         "textposition": "auto",
         "type": "bar",
         "x": [
          4,
          5,
          6,
          7,
          8
         ],
         "xaxis": "x6",
         "y": [
          0.1799941062927246,
          0.1999950408935547,
          0.23539066314697266,
          0.2956962585449219,
          0.42968273162841797
         ],
         "yaxis": "y6"
        },
        {
         "alignmentgroup": "True",
         "hovertemplate": "Sampler Algo=ThreshCPU<br>Number of Players=128<br>Batch Size (log2 scale)=%{x}<br>Runtime (ms/invocation)=%{y}<extra></extra>",
         "legendgroup": "ThreshCPU",
         "marker": {
          "color": "#ab63fa",
          "pattern": {
           "shape": ""
          }
         },
         "name": "ThreshCPU",
         "offsetgroup": "ThreshCPU",
         "orientation": "v",
         "showlegend": false,
         "textposition": "auto",
         "type": "bar",
         "x": [
          4,
          5,
          6,
          7,
          8
         ],
         "xaxis": "x",
         "y": [
          0.20598888397216797,
          0.2335047721862793,
          0.3004622459411621,
          0.4256296157836914,
          0.668182373046875
         ],
         "yaxis": "y"
        },
        {
         "alignmentgroup": "True",
         "hovertemplate": "Sampler Algo=ThreshCPU<br>Number of Players=256<br>Batch Size (log2 scale)=%{x}<br>Runtime (ms/invocation)=%{y}<extra></extra>",
         "legendgroup": "ThreshCPU",
         "marker": {
          "color": "#ab63fa",
          "pattern": {
           "shape": ""
          }
         },
         "name": "ThreshCPU",
         "offsetgroup": "ThreshCPU",
         "orientation": "v",
         "showlegend": false,
         "textposition": "auto",
         "type": "bar",
         "x": [
          4,
          5,
          6,
          7,
          8
         ],
         "xaxis": "x2",
         "y": [
          0.22845029830932617,
          0.29886484146118164,
          0.4185795783996582,
          0.658259391784668,
          0.9288406372070312
         ],
         "yaxis": "y2"
        },
        {
         "alignmentgroup": "True",
         "hovertemplate": "Sampler Algo=ThreshCPU<br>Number of Players=512<br>Batch Size (log2 scale)=%{x}<br>Runtime (ms/invocation)=%{y}<extra></extra>",
         "legendgroup": "ThreshCPU",
         "marker": {
          "color": "#ab63fa",
          "pattern": {
           "shape": ""
          }
         },
         "name": "ThreshCPU",
         "offsetgroup": "ThreshCPU",
         "orientation": "v",
         "showlegend": false,
         "textposition": "auto",
         "type": "bar",
         "x": [
          4,
          5,
          6,
          7,
          8
         ],
         "xaxis": "x3",
         "y": [
          0.3530406951904297,
          0.40583372116088867,
          0.7008814811706543,
          0.9410381317138672,
          1.597917079925537
         ],
         "yaxis": "y3"
        },
        {
         "alignmentgroup": "True",
         "hovertemplate": "Sampler Algo=ArgSortGPU<br>Number of Players=16<br>Batch Size (log2 scale)=%{x}<br>Runtime (ms/invocation)=%{y}<extra></extra>",
         "legendgroup": "ArgSortGPU",
         "marker": {
          "color": "#FFA15A",
          "pattern": {
           "shape": ""
          }
         },
         "name": "ArgSortGPU",
         "offsetgroup": "ArgSortGPU",
         "orientation": "v",
         "showlegend": true,
         "textposition": "auto",
         "type": "bar",
         "x": [
          4,
          5,
          6,
          7,
          8
         ],
         "xaxis": "x4",
         "y": [
          0.8168554306030273,
          0.35788774490356445,
          0.39478540420532227,
          0.36524057388305664,
          0.33602237701416016
         ],
         "yaxis": "y4"
        },
        {
         "alignmentgroup": "True",
         "hovertemplate": "Sampler Algo=ArgSortGPU<br>Number of Players=32<br>Batch Size (log2 scale)=%{x}<br>Runtime (ms/invocation)=%{y}<extra></extra>",
         "legendgroup": "ArgSortGPU",
         "marker": {
          "color": "#FFA15A",
          "pattern": {
           "shape": ""
          }
         },
         "name": "ArgSortGPU",
         "offsetgroup": "ArgSortGPU",
         "orientation": "v",
         "showlegend": false,
         "textposition": "auto",
         "type": "bar",
         "x": [
          4,
          5,
          6,
          7,
          8
         ],
         "xaxis": "x5",
         "y": [
          0.35430192947387695,
          0.37244081497192383,
          0.37067174911499023,
          0.3664541244506836,
          0.4521656036376953
         ],
         "yaxis": "y5"
        },
        {
         "alignmentgroup": "True",
         "hovertemplate": "Sampler Algo=ArgSortGPU<br>Number of Players=64<br>Batch Size (log2 scale)=%{x}<br>Runtime (ms/invocation)=%{y}<extra></extra>",
         "legendgroup": "ArgSortGPU",
         "marker": {
          "color": "#FFA15A",
          "pattern": {
           "shape": ""
          }
         },
         "name": "ArgSortGPU",
         "offsetgroup": "ArgSortGPU",
         "orientation": "v",
         "showlegend": false,
         "textposition": "auto",
         "type": "bar",
         "x": [
          4,
          5,
          6,
          7,
          8
         ],
         "xaxis": "x6",
         "y": [
          0.37127256393432617,
          0.35524606704711914,
          0.3576064109802246,
          0.40011167526245117,
          0.37447452545166016
         ],
         "yaxis": "y6"
        },
        {
         "alignmentgroup": "True",
         "hovertemplate": "Sampler Algo=ArgSortGPU<br>Number of Players=128<br>Batch Size (log2 scale)=%{x}<br>Runtime (ms/invocation)=%{y}<extra></extra>",
         "legendgroup": "ArgSortGPU",
         "marker": {
          "color": "#FFA15A",
          "pattern": {
           "shape": ""
          }
         },
         "name": "ArgSortGPU",
         "offsetgroup": "ArgSortGPU",
         "orientation": "v",
         "showlegend": false,
         "textposition": "auto",
         "type": "bar",
         "x": [
          4,
          5,
          6,
          7,
          8
         ],
         "xaxis": "x",
         "y": [
          0.3702735900878906,
          0.37030935287475586,
          0.368502140045166,
          0.35808563232421875,
          0.3994178771972656
         ],
         "yaxis": "y"
        },
        {
         "alignmentgroup": "True",
         "hovertemplate": "Sampler Algo=ArgSortGPU<br>Number of Players=256<br>Batch Size (log2 scale)=%{x}<br>Runtime (ms/invocation)=%{y}<extra></extra>",
         "legendgroup": "ArgSortGPU",
         "marker": {
          "color": "#FFA15A",
          "pattern": {
           "shape": ""
          }
         },
         "name": "ArgSortGPU",
         "offsetgroup": "ArgSortGPU",
         "orientation": "v",
         "showlegend": false,
         "textposition": "auto",
         "type": "bar",
         "x": [
          4,
          5,
          6,
          7,
          8
         ],
         "xaxis": "x2",
         "y": [
          0.6828665733337402,
          0.3554821014404297,
          0.3603243827819824,
          0.34525156021118164,
          0.3445267677307129
         ],
         "yaxis": "y2"
        },
        {
         "alignmentgroup": "True",
         "hovertemplate": "Sampler Algo=ArgSortGPU<br>Number of Players=512<br>Batch Size (log2 scale)=%{x}<br>Runtime (ms/invocation)=%{y}<extra></extra>",
         "legendgroup": "ArgSortGPU",
         "marker": {
          "color": "#FFA15A",
          "pattern": {
           "shape": ""
          }
         },
         "name": "ArgSortGPU",
         "offsetgroup": "ArgSortGPU",
         "orientation": "v",
         "showlegend": false,
         "textposition": "auto",
         "type": "bar",
         "x": [
          4,
          5,
          6,
          7,
          8
         ],
         "xaxis": "x3",
         "y": [
          0.5548930168151855,
          0.35158872604370117,
          0.3570866584777832,
          0.3787040710449219,
          0.3525686264038086
         ],
         "yaxis": "y3"
        },
        {
         "alignmentgroup": "True",
         "hovertemplate": "Sampler Algo=MultinomialGPU<br>Number of Players=16<br>Batch Size (log2 scale)=%{x}<br>Runtime (ms/invocation)=%{y}<extra></extra>",
         "legendgroup": "MultinomialGPU",
         "marker": {
          "color": "#19d3f3",
          "pattern": {
           "shape": ""
          }
         },
         "name": "MultinomialGPU",
         "offsetgroup": "MultinomialGPU",
         "orientation": "v",
         "showlegend": true,
         "textposition": "auto",
         "type": "bar",
         "x": [
          4,
          5,
          6,
          7,
          8
         ],
         "xaxis": "x4",
         "y": [
          0.9012484550476074,
          0.6351947784423828,
          0.7037782669067383,
          0.6255340576171875,
          0.6725215911865234
         ],
         "yaxis": "y4"
        },
        {
         "alignmentgroup": "True",
         "hovertemplate": "Sampler Algo=MultinomialGPU<br>Number of Players=32<br>Batch Size (log2 scale)=%{x}<br>Runtime (ms/invocation)=%{y}<extra></extra>",
         "legendgroup": "MultinomialGPU",
         "marker": {
          "color": "#19d3f3",
          "pattern": {
           "shape": ""
          }
         },
         "name": "MultinomialGPU",
         "offsetgroup": "MultinomialGPU",
         "orientation": "v",
         "showlegend": false,
         "textposition": "auto",
         "type": "bar",
         "x": [
          4,
          5,
          6,
          7,
          8
         ],
         "xaxis": "x5",
         "y": [
          0.6257104873657227,
          0.6534123420715332,
          0.6116342544555664,
          0.6207680702209473,
          0.6602287292480469
         ],
         "yaxis": "y5"
        },
        {
         "alignmentgroup": "True",
         "hovertemplate": "Sampler Algo=MultinomialGPU<br>Number of Players=64<br>Batch Size (log2 scale)=%{x}<br>Runtime (ms/invocation)=%{y}<extra></extra>",
         "legendgroup": "MultinomialGPU",
         "marker": {
          "color": "#19d3f3",
          "pattern": {
           "shape": ""
          }
         },
         "name": "MultinomialGPU",
         "offsetgroup": "MultinomialGPU",
         "orientation": "v",
         "showlegend": false,
         "textposition": "auto",
         "type": "bar",
         "x": [
          4,
          5,
          6,
          7,
          8
         ],
         "xaxis": "x6",
         "y": [
          0.6582927703857422,
          0.790252685546875,
          0.7951045036315918,
          0.6558561325073242,
          0.6504297256469727
         ],
         "yaxis": "y6"
        },
        {
         "alignmentgroup": "True",
         "hovertemplate": "Sampler Algo=MultinomialGPU<br>Number of Players=128<br>Batch Size (log2 scale)=%{x}<br>Runtime (ms/invocation)=%{y}<extra></extra>",
         "legendgroup": "MultinomialGPU",
         "marker": {
          "color": "#19d3f3",
          "pattern": {
           "shape": ""
          }
         },
         "name": "MultinomialGPU",
         "offsetgroup": "MultinomialGPU",
         "orientation": "v",
         "showlegend": false,
         "textposition": "auto",
         "type": "bar",
         "x": [
          4,
          5,
          6,
          7,
          8
         ],
         "xaxis": "x",
         "y": [
          0.6005191802978516,
          0.6165194511413574,
          0.9303855895996094,
          0.642402172088623,
          0.6578826904296875
         ],
         "yaxis": "y"
        },
        {
         "alignmentgroup": "True",
         "hovertemplate": "Sampler Algo=MultinomialGPU<br>Number of Players=256<br>Batch Size (log2 scale)=%{x}<br>Runtime (ms/invocation)=%{y}<extra></extra>",
         "legendgroup": "MultinomialGPU",
         "marker": {
          "color": "#19d3f3",
          "pattern": {
           "shape": ""
          }
         },
         "name": "MultinomialGPU",
         "offsetgroup": "MultinomialGPU",
         "orientation": "v",
         "showlegend": false,
         "textposition": "auto",
         "type": "bar",
         "x": [
          4,
          5,
          6,
          7,
          8
         ],
         "xaxis": "x2",
         "y": [
          0.6604266166687012,
          0.8491253852844238,
          0.7027387619018555,
          0.6699323654174805,
          0.7163405418395996
         ],
         "yaxis": "y2"
        },
        {
         "alignmentgroup": "True",
         "hovertemplate": "Sampler Algo=MultinomialGPU<br>Number of Players=512<br>Batch Size (log2 scale)=%{x}<br>Runtime (ms/invocation)=%{y}<extra></extra>",
         "legendgroup": "MultinomialGPU",
         "marker": {
          "color": "#19d3f3",
          "pattern": {
           "shape": ""
          }
         },
         "name": "MultinomialGPU",
         "offsetgroup": "MultinomialGPU",
         "orientation": "v",
         "showlegend": false,
         "textposition": "auto",
         "type": "bar",
         "x": [
          4,
          5,
          6,
          7,
          8
         ],
         "xaxis": "x3",
         "y": [
          0.7115864753723145,
          0.6299281120300293,
          0.6560182571411133,
          0.7367634773254395,
          0.8121943473815918
         ],
         "yaxis": "y3"
        },
        {
         "alignmentgroup": "True",
         "hovertemplate": "Sampler Algo=ThreshGPU<br>Number of Players=16<br>Batch Size (log2 scale)=%{x}<br>Runtime (ms/invocation)=%{y}<extra></extra>",
         "legendgroup": "ThreshGPU",
         "marker": {
          "color": "#FF6692",
          "pattern": {
           "shape": ""
          }
         },
         "name": "ThreshGPU",
         "offsetgroup": "ThreshGPU",
         "orientation": "v",
         "showlegend": true,
         "textposition": "auto",
         "type": "bar",
         "x": [
          4,
          5,
          6,
          7,
          8
         ],
         "xaxis": "x4",
         "y": [
          0.7307744026184082,
          0.6290578842163086,
          0.5973911285400391,
          0.5912685394287109,
          0.6219196319580078
         ],
         "yaxis": "y4"
        },
        {
         "alignmentgroup": "True",
         "hovertemplate": "Sampler Algo=ThreshGPU<br>Number of Players=32<br>Batch Size (log2 scale)=%{x}<br>Runtime (ms/invocation)=%{y}<extra></extra>",
         "legendgroup": "ThreshGPU",
         "marker": {
          "color": "#FF6692",
          "pattern": {
           "shape": ""
          }
         },
         "name": "ThreshGPU",
         "offsetgroup": "ThreshGPU",
         "orientation": "v",
         "showlegend": false,
         "textposition": "auto",
         "type": "bar",
         "x": [
          4,
          5,
          6,
          7,
          8
         ],
         "xaxis": "x5",
         "y": [
          0.5658078193664551,
          0.6108760833740234,
          0.5913782119750977,
          0.5998420715332031,
          0.6340670585632324
         ],
         "yaxis": "y5"
        },
        {
         "alignmentgroup": "True",
         "hovertemplate": "Sampler Algo=ThreshGPU<br>Number of Players=64<br>Batch Size (log2 scale)=%{x}<br>Runtime (ms/invocation)=%{y}<extra></extra>",
         "legendgroup": "ThreshGPU",
         "marker": {
          "color": "#FF6692",
          "pattern": {
           "shape": ""
          }
         },
         "name": "ThreshGPU",
         "offsetgroup": "ThreshGPU",
         "orientation": "v",
         "showlegend": false,
         "textposition": "auto",
         "type": "bar",
         "x": [
          4,
          5,
          6,
          7,
          8
         ],
         "xaxis": "x6",
         "y": [
          0.5702733993530273,
          0.5851340293884277,
          0.5902504920959473,
          0.6262564659118652,
          0.6720352172851562
         ],
         "yaxis": "y6"
        },
        {
         "alignmentgroup": "True",
         "hovertemplate": "Sampler Algo=ThreshGPU<br>Number of Players=128<br>Batch Size (log2 scale)=%{x}<br>Runtime (ms/invocation)=%{y}<extra></extra>",
         "legendgroup": "ThreshGPU",
         "marker": {
          "color": "#FF6692",
          "pattern": {
           "shape": ""
          }
         },
         "name": "ThreshGPU",
         "offsetgroup": "ThreshGPU",
         "orientation": "v",
         "showlegend": false,
         "textposition": "auto",
         "type": "bar",
         "x": [
          4,
          5,
          6,
          7,
          8
         ],
         "xaxis": "x",
         "y": [
          0.591130256652832,
          0.6004071235656738,
          0.6201887130737305,
          0.671083927154541,
          0.781252384185791
         ],
         "yaxis": "y"
        },
        {
         "alignmentgroup": "True",
         "hovertemplate": "Sampler Algo=ThreshGPU<br>Number of Players=256<br>Batch Size (log2 scale)=%{x}<br>Runtime (ms/invocation)=%{y}<extra></extra>",
         "legendgroup": "ThreshGPU",
         "marker": {
          "color": "#FF6692",
          "pattern": {
           "shape": ""
          }
         },
         "name": "ThreshGPU",
         "offsetgroup": "ThreshGPU",
         "orientation": "v",
         "showlegend": false,
         "textposition": "auto",
         "type": "bar",
         "x": [
          4,
          5,
          6,
          7,
          8
         ],
         "xaxis": "x2",
         "y": [
          0.593869686126709,
          0.6239867210388184,
          0.6691765785217285,
          0.7859230041503906,
          1.1122584342956543
         ],
         "yaxis": "y2"
        },
        {
         "alignmentgroup": "True",
         "hovertemplate": "Sampler Algo=ThreshGPU<br>Number of Players=512<br>Batch Size (log2 scale)=%{x}<br>Runtime (ms/invocation)=%{y}<extra></extra>",
         "legendgroup": "ThreshGPU",
         "marker": {
          "color": "#FF6692",
          "pattern": {
           "shape": ""
          }
         },
         "name": "ThreshGPU",
         "offsetgroup": "ThreshGPU",
         "orientation": "v",
         "showlegend": false,
         "textposition": "auto",
         "type": "bar",
         "x": [
          4,
          5,
          6,
          7,
          8
         ],
         "xaxis": "x3",
         "y": [
          0.6609797477722168,
          0.7353901863098145,
          0.881955623626709,
          1.1862540245056152,
          1.532742977142334
         ],
         "yaxis": "y3"
        }
       ],
       "layout": {
        "annotations": [
         {
          "font": {},
          "showarrow": false,
          "text": "Number of Players=128",
          "x": 0.15999999999999998,
          "xanchor": "center",
          "xref": "paper",
          "y": 0.46499999999999997,
          "yanchor": "bottom",
          "yref": "paper"
         },
         {
          "font": {},
          "showarrow": false,
          "text": "Number of Players=256",
          "x": 0.49999999999999994,
          "xanchor": "center",
          "xref": "paper",
          "y": 0.46499999999999997,
          "yanchor": "bottom",
          "yref": "paper"
         },
         {
          "font": {},
          "showarrow": false,
          "text": "Number of Players=512",
          "x": 0.8399999999999999,
          "xanchor": "center",
          "xref": "paper",
          "y": 0.46499999999999997,
          "yanchor": "bottom",
          "yref": "paper"
         },
         {
          "font": {},
          "showarrow": false,
          "text": "Number of Players=16",
          "x": 0.15999999999999998,
          "xanchor": "center",
          "xref": "paper",
          "y": 0.9999999999999999,
          "yanchor": "bottom",
          "yref": "paper"
         },
         {
          "font": {},
          "showarrow": false,
          "text": "Number of Players=32",
          "x": 0.49999999999999994,
          "xanchor": "center",
          "xref": "paper",
          "y": 0.9999999999999999,
          "yanchor": "bottom",
          "yref": "paper"
         },
         {
          "font": {},
          "showarrow": false,
          "text": "Number of Players=64",
          "x": 0.8399999999999999,
          "xanchor": "center",
          "xref": "paper",
          "y": 0.9999999999999999,
          "yanchor": "bottom",
          "yref": "paper"
         }
        ],
        "barmode": "group",
        "height": 800,
        "legend": {
         "title": {
          "text": "Sampler Algo"
         },
         "tracegroupgap": 0
        },
        "margin": {
         "t": 60
        },
        "template": {
         "data": {
          "bar": [
           {
            "error_x": {
             "color": "#2a3f5f"
            },
            "error_y": {
             "color": "#2a3f5f"
            },
            "marker": {
             "line": {
              "color": "#E5ECF6",
              "width": 0.5
             },
             "pattern": {
              "fillmode": "overlay",
              "size": 10,
              "solidity": 0.2
             }
            },
            "type": "bar"
           }
          ],
          "barpolar": [
           {
            "marker": {
             "line": {
              "color": "#E5ECF6",
              "width": 0.5
             },
             "pattern": {
              "fillmode": "overlay",
              "size": 10,
              "solidity": 0.2
             }
            },
            "type": "barpolar"
           }
          ],
          "carpet": [
           {
            "aaxis": {
             "endlinecolor": "#2a3f5f",
             "gridcolor": "white",
             "linecolor": "white",
             "minorgridcolor": "white",
             "startlinecolor": "#2a3f5f"
            },
            "baxis": {
             "endlinecolor": "#2a3f5f",
             "gridcolor": "white",
             "linecolor": "white",
             "minorgridcolor": "white",
             "startlinecolor": "#2a3f5f"
            },
            "type": "carpet"
           }
          ],
          "choropleth": [
           {
            "colorbar": {
             "outlinewidth": 0,
             "ticks": ""
            },
            "type": "choropleth"
           }
          ],
          "contour": [
           {
            "colorbar": {
             "outlinewidth": 0,
             "ticks": ""
            },
            "colorscale": [
             [
              0,
              "#0d0887"
             ],
             [
              0.1111111111111111,
              "#46039f"
             ],
             [
              0.2222222222222222,
              "#7201a8"
             ],
             [
              0.3333333333333333,
              "#9c179e"
             ],
             [
              0.4444444444444444,
              "#bd3786"
             ],
             [
              0.5555555555555556,
              "#d8576b"
             ],
             [
              0.6666666666666666,
              "#ed7953"
             ],
             [
              0.7777777777777778,
              "#fb9f3a"
             ],
             [
              0.8888888888888888,
              "#fdca26"
             ],
             [
              1,
              "#f0f921"
             ]
            ],
            "type": "contour"
           }
          ],
          "contourcarpet": [
           {
            "colorbar": {
             "outlinewidth": 0,
             "ticks": ""
            },
            "type": "contourcarpet"
           }
          ],
          "heatmap": [
           {
            "colorbar": {
             "outlinewidth": 0,
             "ticks": ""
            },
            "colorscale": [
             [
              0,
              "#0d0887"
             ],
             [
              0.1111111111111111,
              "#46039f"
             ],
             [
              0.2222222222222222,
              "#7201a8"
             ],
             [
              0.3333333333333333,
              "#9c179e"
             ],
             [
              0.4444444444444444,
              "#bd3786"
             ],
             [
              0.5555555555555556,
              "#d8576b"
             ],
             [
              0.6666666666666666,
              "#ed7953"
             ],
             [
              0.7777777777777778,
              "#fb9f3a"
             ],
             [
              0.8888888888888888,
              "#fdca26"
             ],
             [
              1,
              "#f0f921"
             ]
            ],
            "type": "heatmap"
           }
          ],
          "heatmapgl": [
           {
            "colorbar": {
             "outlinewidth": 0,
             "ticks": ""
            },
            "colorscale": [
             [
              0,
              "#0d0887"
             ],
             [
              0.1111111111111111,
              "#46039f"
             ],
             [
              0.2222222222222222,
              "#7201a8"
             ],
             [
              0.3333333333333333,
              "#9c179e"
             ],
             [
              0.4444444444444444,
              "#bd3786"
             ],
             [
              0.5555555555555556,
              "#d8576b"
             ],
             [
              0.6666666666666666,
              "#ed7953"
             ],
             [
              0.7777777777777778,
              "#fb9f3a"
             ],
             [
              0.8888888888888888,
              "#fdca26"
             ],
             [
              1,
              "#f0f921"
             ]
            ],
            "type": "heatmapgl"
           }
          ],
          "histogram": [
           {
            "marker": {
             "pattern": {
              "fillmode": "overlay",
              "size": 10,
              "solidity": 0.2
             }
            },
            "type": "histogram"
           }
          ],
          "histogram2d": [
           {
            "colorbar": {
             "outlinewidth": 0,
             "ticks": ""
            },
            "colorscale": [
             [
              0,
              "#0d0887"
             ],
             [
              0.1111111111111111,
              "#46039f"
             ],
             [
              0.2222222222222222,
              "#7201a8"
             ],
             [
              0.3333333333333333,
              "#9c179e"
             ],
             [
              0.4444444444444444,
              "#bd3786"
             ],
             [
              0.5555555555555556,
              "#d8576b"
             ],
             [
              0.6666666666666666,
              "#ed7953"
             ],
             [
              0.7777777777777778,
              "#fb9f3a"
             ],
             [
              0.8888888888888888,
              "#fdca26"
             ],
             [
              1,
              "#f0f921"
             ]
            ],
            "type": "histogram2d"
           }
          ],
          "histogram2dcontour": [
           {
            "colorbar": {
             "outlinewidth": 0,
             "ticks": ""
            },
            "colorscale": [
             [
              0,
              "#0d0887"
             ],
             [
              0.1111111111111111,
              "#46039f"
             ],
             [
              0.2222222222222222,
              "#7201a8"
             ],
             [
              0.3333333333333333,
              "#9c179e"
             ],
             [
              0.4444444444444444,
              "#bd3786"
             ],
             [
              0.5555555555555556,
              "#d8576b"
             ],
             [
              0.6666666666666666,
              "#ed7953"
             ],
             [
              0.7777777777777778,
              "#fb9f3a"
             ],
             [
              0.8888888888888888,
              "#fdca26"
             ],
             [
              1,
              "#f0f921"
             ]
            ],
            "type": "histogram2dcontour"
           }
          ],
          "mesh3d": [
           {
            "colorbar": {
             "outlinewidth": 0,
             "ticks": ""
            },
            "type": "mesh3d"
           }
          ],
          "parcoords": [
           {
            "line": {
             "colorbar": {
              "outlinewidth": 0,
              "ticks": ""
             }
            },
            "type": "parcoords"
           }
          ],
          "pie": [
           {
            "automargin": true,
            "type": "pie"
           }
          ],
          "scatter": [
           {
            "fillpattern": {
             "fillmode": "overlay",
             "size": 10,
             "solidity": 0.2
            },
            "type": "scatter"
           }
          ],
          "scatter3d": [
           {
            "line": {
             "colorbar": {
              "outlinewidth": 0,
              "ticks": ""
             }
            },
            "marker": {
             "colorbar": {
              "outlinewidth": 0,
              "ticks": ""
             }
            },
            "type": "scatter3d"
           }
          ],
          "scattercarpet": [
           {
            "marker": {
             "colorbar": {
              "outlinewidth": 0,
              "ticks": ""
             }
            },
            "type": "scattercarpet"
           }
          ],
          "scattergeo": [
           {
            "marker": {
             "colorbar": {
              "outlinewidth": 0,
              "ticks": ""
             }
            },
            "type": "scattergeo"
           }
          ],
          "scattergl": [
           {
            "marker": {
             "colorbar": {
              "outlinewidth": 0,
              "ticks": ""
             }
            },
            "type": "scattergl"
           }
          ],
          "scattermapbox": [
           {
            "marker": {
             "colorbar": {
              "outlinewidth": 0,
              "ticks": ""
             }
            },
            "type": "scattermapbox"
           }
          ],
          "scatterpolar": [
           {
            "marker": {
             "colorbar": {
              "outlinewidth": 0,
              "ticks": ""
             }
            },
            "type": "scatterpolar"
           }
          ],
          "scatterpolargl": [
           {
            "marker": {
             "colorbar": {
              "outlinewidth": 0,
              "ticks": ""
             }
            },
            "type": "scatterpolargl"
           }
          ],
          "scatterternary": [
           {
            "marker": {
             "colorbar": {
              "outlinewidth": 0,
              "ticks": ""
             }
            },
            "type": "scatterternary"
           }
          ],
          "surface": [
           {
            "colorbar": {
             "outlinewidth": 0,
             "ticks": ""
            },
            "colorscale": [
             [
              0,
              "#0d0887"
             ],
             [
              0.1111111111111111,
              "#46039f"
             ],
             [
              0.2222222222222222,
              "#7201a8"
             ],
             [
              0.3333333333333333,
              "#9c179e"
             ],
             [
              0.4444444444444444,
              "#bd3786"
             ],
             [
              0.5555555555555556,
              "#d8576b"
             ],
             [
              0.6666666666666666,
              "#ed7953"
             ],
             [
              0.7777777777777778,
              "#fb9f3a"
             ],
             [
              0.8888888888888888,
              "#fdca26"
             ],
             [
              1,
              "#f0f921"
             ]
            ],
            "type": "surface"
           }
          ],
          "table": [
           {
            "cells": {
             "fill": {
              "color": "#EBF0F8"
             },
             "line": {
              "color": "white"
             }
            },
            "header": {
             "fill": {
              "color": "#C8D4E3"
             },
             "line": {
              "color": "white"
             }
            },
            "type": "table"
           }
          ]
         },
         "layout": {
          "annotationdefaults": {
           "arrowcolor": "#2a3f5f",
           "arrowhead": 0,
           "arrowwidth": 1
          },
          "autotypenumbers": "strict",
          "coloraxis": {
           "colorbar": {
            "outlinewidth": 0,
            "ticks": ""
           }
          },
          "colorscale": {
           "diverging": [
            [
             0,
             "#8e0152"
            ],
            [
             0.1,
             "#c51b7d"
            ],
            [
             0.2,
             "#de77ae"
            ],
            [
             0.3,
             "#f1b6da"
            ],
            [
             0.4,
             "#fde0ef"
            ],
            [
             0.5,
             "#f7f7f7"
            ],
            [
             0.6,
             "#e6f5d0"
            ],
            [
             0.7,
             "#b8e186"
            ],
            [
             0.8,
             "#7fbc41"
            ],
            [
             0.9,
             "#4d9221"
            ],
            [
             1,
             "#276419"
            ]
           ],
           "sequential": [
            [
             0,
             "#0d0887"
            ],
            [
             0.1111111111111111,
             "#46039f"
            ],
            [
             0.2222222222222222,
             "#7201a8"
            ],
            [
             0.3333333333333333,
             "#9c179e"
            ],
            [
             0.4444444444444444,
             "#bd3786"
            ],
            [
             0.5555555555555556,
             "#d8576b"
            ],
            [
             0.6666666666666666,
             "#ed7953"
            ],
            [
             0.7777777777777778,
             "#fb9f3a"
            ],
            [
             0.8888888888888888,
             "#fdca26"
            ],
            [
             1,
             "#f0f921"
            ]
           ],
           "sequentialminus": [
            [
             0,
             "#0d0887"
            ],
            [
             0.1111111111111111,
             "#46039f"
            ],
            [
             0.2222222222222222,
             "#7201a8"
            ],
            [
             0.3333333333333333,
             "#9c179e"
            ],
            [
             0.4444444444444444,
             "#bd3786"
            ],
            [
             0.5555555555555556,
             "#d8576b"
            ],
            [
             0.6666666666666666,
             "#ed7953"
            ],
            [
             0.7777777777777778,
             "#fb9f3a"
            ],
            [
             0.8888888888888888,
             "#fdca26"
            ],
            [
             1,
             "#f0f921"
            ]
           ]
          },
          "colorway": [
           "#636efa",
           "#EF553B",
           "#00cc96",
           "#ab63fa",
           "#FFA15A",
           "#19d3f3",
           "#FF6692",
           "#B6E880",
           "#FF97FF",
           "#FECB52"
          ],
          "font": {
           "color": "#2a3f5f"
          },
          "geo": {
           "bgcolor": "white",
           "lakecolor": "white",
           "landcolor": "#E5ECF6",
           "showlakes": true,
           "showland": true,
           "subunitcolor": "white"
          },
          "hoverlabel": {
           "align": "left"
          },
          "hovermode": "closest",
          "mapbox": {
           "style": "light"
          },
          "paper_bgcolor": "white",
          "plot_bgcolor": "#E5ECF6",
          "polar": {
           "angularaxis": {
            "gridcolor": "white",
            "linecolor": "white",
            "ticks": ""
           },
           "bgcolor": "#E5ECF6",
           "radialaxis": {
            "gridcolor": "white",
            "linecolor": "white",
            "ticks": ""
           }
          },
          "scene": {
           "xaxis": {
            "backgroundcolor": "#E5ECF6",
            "gridcolor": "white",
            "gridwidth": 2,
            "linecolor": "white",
            "showbackground": true,
            "ticks": "",
            "zerolinecolor": "white"
           },
           "yaxis": {
            "backgroundcolor": "#E5ECF6",
            "gridcolor": "white",
            "gridwidth": 2,
            "linecolor": "white",
            "showbackground": true,
            "ticks": "",
            "zerolinecolor": "white"
           },
           "zaxis": {
            "backgroundcolor": "#E5ECF6",
            "gridcolor": "white",
            "gridwidth": 2,
            "linecolor": "white",
            "showbackground": true,
            "ticks": "",
            "zerolinecolor": "white"
           }
          },
          "shapedefaults": {
           "line": {
            "color": "#2a3f5f"
           }
          },
          "ternary": {
           "aaxis": {
            "gridcolor": "white",
            "linecolor": "white",
            "ticks": ""
           },
           "baxis": {
            "gridcolor": "white",
            "linecolor": "white",
            "ticks": ""
           },
           "bgcolor": "#E5ECF6",
           "caxis": {
            "gridcolor": "white",
            "linecolor": "white",
            "ticks": ""
           }
          },
          "title": {
           "x": 0.05
          },
          "xaxis": {
           "automargin": true,
           "gridcolor": "white",
           "linecolor": "white",
           "ticks": "",
           "title": {
            "standoff": 15
           },
           "zerolinecolor": "white",
           "zerolinewidth": 2
          },
          "yaxis": {
           "automargin": true,
           "gridcolor": "white",
           "linecolor": "white",
           "ticks": "",
           "title": {
            "standoff": 15
           },
           "zerolinecolor": "white",
           "zerolinewidth": 2
          }
         }
        },
        "xaxis": {
         "anchor": "y",
         "domain": [
          0,
          0.31999999999999995
         ],
         "title": {
          "text": "Batch Size (log2 scale)"
         }
        },
        "xaxis2": {
         "anchor": "y2",
         "domain": [
          0.33999999999999997,
          0.6599999999999999
         ],
         "matches": "x",
         "title": {
          "text": "Batch Size (log2 scale)"
         }
        },
        "xaxis3": {
         "anchor": "y3",
         "domain": [
          0.6799999999999999,
          0.9999999999999999
         ],
         "matches": "x",
         "title": {
          "text": "Batch Size (log2 scale)"
         }
        },
        "xaxis4": {
         "anchor": "y4",
         "domain": [
          0,
          0.31999999999999995
         ],
         "matches": "x",
         "showticklabels": false
        },
        "xaxis5": {
         "anchor": "y5",
         "domain": [
          0.33999999999999997,
          0.6599999999999999
         ],
         "matches": "x",
         "showticklabels": false
        },
        "xaxis6": {
         "anchor": "y6",
         "domain": [
          0.6799999999999999,
          0.9999999999999999
         ],
         "matches": "x",
         "showticklabels": false
        },
        "yaxis": {
         "anchor": "x",
         "domain": [
          0,
          0.46499999999999997
         ],
         "title": {
          "text": "Runtime (ms/invocation)"
         }
        },
        "yaxis2": {
         "anchor": "x2",
         "domain": [
          0,
          0.46499999999999997
         ],
         "matches": "y",
         "showticklabels": false
        },
        "yaxis3": {
         "anchor": "x3",
         "domain": [
          0,
          0.46499999999999997
         ],
         "matches": "y",
         "showticklabels": false
        },
        "yaxis4": {
         "anchor": "x4",
         "domain": [
          0.5349999999999999,
          0.9999999999999999
         ],
         "matches": "y",
         "title": {
          "text": "Runtime (ms/invocation)"
         }
        },
        "yaxis5": {
         "anchor": "x5",
         "domain": [
          0.5349999999999999,
          0.9999999999999999
         ],
         "matches": "y",
         "showticklabels": false
        },
        "yaxis6": {
         "anchor": "x6",
         "domain": [
          0.5349999999999999,
          0.9999999999999999
         ],
         "matches": "y",
         "showticklabels": false
        }
       }
      }
     },
     "metadata": {},
     "output_type": "display_data"
    }
   ],
   "source": [
    "px.bar(\n",
    "    results,\n",
    "    x=\"Batch Size (log2 scale)\",\n",
    "    y=\"Runtime (ms/invocation)\",\n",
    "    color=\"Sampler Algo\",\n",
    "    facet_col=\"Number of Players\",\n",
    "    facet_col_wrap=3,\n",
    "    barmode=\"group\",\n",
    "    height=800,\n",
    ")"
   ]
  },
  {
   "cell_type": "code",
   "execution_count": 10,
   "metadata": {},
   "outputs": [
    {
     "data": {
      "application/vnd.plotly.v1+json": {
       "config": {
        "plotlyServerURL": "https://plot.ly"
       },
       "data": [
        {
         "alignmentgroup": "True",
         "hovertemplate": "Sampler Algo=Original<br>Batch Size=16.0<br>Number of Players (log2 scale)=%{x}<br>Runtime (ms/invocation)=%{y}<extra></extra>",
         "legendgroup": "Original",
         "marker": {
          "color": "#636efa",
          "pattern": {
           "shape": ""
          }
         },
         "name": "Original",
         "offsetgroup": "Original",
         "orientation": "v",
         "showlegend": true,
         "textposition": "auto",
         "type": "bar",
         "x": [
          4,
          5,
          6,
          7,
          8,
          9
         ],
         "xaxis": "x4",
         "y": [
          0.5554437637329102,
          0.44713735580444336,
          0.4357314109802246,
          0.4651474952697754,
          0.4602670669555664,
          0.4953885078430176
         ],
         "yaxis": "y4"
        },
        {
         "alignmentgroup": "True",
         "hovertemplate": "Sampler Algo=Original<br>Batch Size=32.0<br>Number of Players (log2 scale)=%{x}<br>Runtime (ms/invocation)=%{y}<extra></extra>",
         "legendgroup": "Original",
         "marker": {
          "color": "#636efa",
          "pattern": {
           "shape": ""
          }
         },
         "name": "Original",
         "offsetgroup": "Original",
         "orientation": "v",
         "showlegend": false,
         "textposition": "auto",
         "type": "bar",
         "x": [
          4,
          5,
          6,
          7,
          8,
          9
         ],
         "xaxis": "x5",
         "y": [
          0.8905220031738281,
          0.8088970184326172,
          0.8547568321228027,
          0.875847339630127,
          0.8855533599853516,
          0.9549999237060547
         ],
         "yaxis": "y5"
        },
        {
         "alignmentgroup": "True",
         "hovertemplate": "Sampler Algo=Original<br>Batch Size=64.0<br>Number of Players (log2 scale)=%{x}<br>Runtime (ms/invocation)=%{y}<extra></extra>",
         "legendgroup": "Original",
         "marker": {
          "color": "#636efa",
          "pattern": {
           "shape": ""
          }
         },
         "name": "Original",
         "offsetgroup": "Original",
         "orientation": "v",
         "showlegend": false,
         "textposition": "auto",
         "type": "bar",
         "x": [
          4,
          5,
          6,
          7,
          8,
          9
         ],
         "xaxis": "x6",
         "y": [
          1.6063785552978516,
          1.5122604370117188,
          1.5672755241394043,
          1.5903997421264648,
          1.7364072799682617,
          1.9031858444213867
         ],
         "yaxis": "y6"
        },
        {
         "alignmentgroup": "True",
         "hovertemplate": "Sampler Algo=Original<br>Batch Size=128.0<br>Number of Players (log2 scale)=%{x}<br>Runtime (ms/invocation)=%{y}<extra></extra>",
         "legendgroup": "Original",
         "marker": {
          "color": "#636efa",
          "pattern": {
           "shape": ""
          }
         },
         "name": "Original",
         "offsetgroup": "Original",
         "orientation": "v",
         "showlegend": false,
         "textposition": "auto",
         "type": "bar",
         "x": [
          4,
          5,
          6,
          7,
          8,
          9
         ],
         "xaxis": "x",
         "y": [
          3.1870460510253906,
          2.867743968963623,
          3.1628966331481934,
          3.2157111167907715,
          3.1923341751098633,
          3.665130138397217
         ],
         "yaxis": "y"
        },
        {
         "alignmentgroup": "True",
         "hovertemplate": "Sampler Algo=Original<br>Batch Size=256.0<br>Number of Players (log2 scale)=%{x}<br>Runtime (ms/invocation)=%{y}<extra></extra>",
         "legendgroup": "Original",
         "marker": {
          "color": "#636efa",
          "pattern": {
           "shape": ""
          }
         },
         "name": "Original",
         "offsetgroup": "Original",
         "orientation": "v",
         "showlegend": false,
         "textposition": "auto",
         "type": "bar",
         "x": [
          4,
          5,
          6,
          7,
          8,
          9
         ],
         "xaxis": "x2",
         "y": [
          5.976436138153076,
          6.0797834396362305,
          6.058259010314941,
          6.369261741638184,
          6.540157794952393,
          7.082498073577881
         ],
         "yaxis": "y2"
        },
        {
         "alignmentgroup": "True",
         "hovertemplate": "Sampler Algo=ArgSortCPU<br>Batch Size=16.0<br>Number of Players (log2 scale)=%{x}<br>Runtime (ms/invocation)=%{y}<extra></extra>",
         "legendgroup": "ArgSortCPU",
         "marker": {
          "color": "#EF553B",
          "pattern": {
           "shape": ""
          }
         },
         "name": "ArgSortCPU",
         "offsetgroup": "ArgSortCPU",
         "orientation": "v",
         "showlegend": true,
         "textposition": "auto",
         "type": "bar",
         "x": [
          4,
          5,
          6,
          7,
          8,
          9
         ],
         "xaxis": "x4",
         "y": [
          0.11156797409057617,
          0.1352524757385254,
          0.1806950569152832,
          0.29527902603149414,
          0.47829151153564453,
          0.9722733497619629
         ],
         "yaxis": "y4"
        },
        {
         "alignmentgroup": "True",
         "hovertemplate": "Sampler Algo=ArgSortCPU<br>Batch Size=32.0<br>Number of Players (log2 scale)=%{x}<br>Runtime (ms/invocation)=%{y}<extra></extra>",
         "legendgroup": "ArgSortCPU",
         "marker": {
          "color": "#EF553B",
          "pattern": {
           "shape": ""
          }
         },
         "name": "ArgSortCPU",
         "offsetgroup": "ArgSortCPU",
         "orientation": "v",
         "showlegend": false,
         "textposition": "auto",
         "type": "bar",
         "x": [
          4,
          5,
          6,
          7,
          8,
          9
         ],
         "xaxis": "x5",
         "y": [
          0.12230396270751953,
          0.16071796417236328,
          0.26522159576416016,
          0.4354548454284668,
          0.9060573577880859,
          1.8428277969360352
         ],
         "yaxis": "y5"
        },
        {
         "alignmentgroup": "True",
         "hovertemplate": "Sampler Algo=ArgSortCPU<br>Batch Size=64.0<br>Number of Players (log2 scale)=%{x}<br>Runtime (ms/invocation)=%{y}<extra></extra>",
         "legendgroup": "ArgSortCPU",
         "marker": {
          "color": "#EF553B",
          "pattern": {
           "shape": ""
          }
         },
         "name": "ArgSortCPU",
         "offsetgroup": "ArgSortCPU",
         "orientation": "v",
         "showlegend": false,
         "textposition": "auto",
         "type": "bar",
         "x": [
          4,
          5,
          6,
          7,
          8,
          9
         ],
         "xaxis": "x6",
         "y": [
          0.14597177505493164,
          0.21672964096069336,
          0.4304695129394531,
          0.8173966407775879,
          1.60050630569458,
          3.54935884475708
         ],
         "yaxis": "y6"
        },
        {
         "alignmentgroup": "True",
         "hovertemplate": "Sampler Algo=ArgSortCPU<br>Batch Size=128.0<br>Number of Players (log2 scale)=%{x}<br>Runtime (ms/invocation)=%{y}<extra></extra>",
         "legendgroup": "ArgSortCPU",
         "marker": {
          "color": "#EF553B",
          "pattern": {
           "shape": ""
          }
         },
         "name": "ArgSortCPU",
         "offsetgroup": "ArgSortCPU",
         "orientation": "v",
         "showlegend": false,
         "textposition": "auto",
         "type": "bar",
         "x": [
          4,
          5,
          6,
          7,
          8,
          9
         ],
         "xaxis": "x",
         "y": [
          0.18022775650024414,
          0.3476142883300781,
          0.6808733940124512,
          1.48101806640625,
          3.1422901153564453,
          3.918564319610596
         ],
         "yaxis": "y"
        },
        {
         "alignmentgroup": "True",
         "hovertemplate": "Sampler Algo=ArgSortCPU<br>Batch Size=256.0<br>Number of Players (log2 scale)=%{x}<br>Runtime (ms/invocation)=%{y}<extra></extra>",
         "legendgroup": "ArgSortCPU",
         "marker": {
          "color": "#EF553B",
          "pattern": {
           "shape": ""
          }
         },
         "name": "ArgSortCPU",
         "offsetgroup": "ArgSortCPU",
         "orientation": "v",
         "showlegend": false,
         "textposition": "auto",
         "type": "bar",
         "x": [
          4,
          5,
          6,
          7,
          8,
          9
         ],
         "xaxis": "x2",
         "y": [
          0.2714395523071289,
          0.5456733703613281,
          1.2108349800109863,
          2.6783323287963867,
          3.4271931648254395,
          4.921813011169434
         ],
         "yaxis": "y2"
        },
        {
         "alignmentgroup": "True",
         "hovertemplate": "Sampler Algo=MultinomialCPU<br>Batch Size=16.0<br>Number of Players (log2 scale)=%{x}<br>Runtime (ms/invocation)=%{y}<extra></extra>",
         "legendgroup": "MultinomialCPU",
         "marker": {
          "color": "#00cc96",
          "pattern": {
           "shape": ""
          }
         },
         "name": "MultinomialCPU",
         "offsetgroup": "MultinomialCPU",
         "orientation": "v",
         "showlegend": true,
         "textposition": "auto",
         "type": "bar",
         "x": [
          4,
          5,
          6,
          7,
          8,
          9
         ],
         "xaxis": "x4",
         "y": [
          0.1550769805908203,
          0.18508434295654297,
          0.21001100540161133,
          0.2848076820373535,
          0.42024850845336914,
          0.7455110549926758
         ],
         "yaxis": "y4"
        },
        {
         "alignmentgroup": "True",
         "hovertemplate": "Sampler Algo=MultinomialCPU<br>Batch Size=32.0<br>Number of Players (log2 scale)=%{x}<br>Runtime (ms/invocation)=%{y}<extra></extra>",
         "legendgroup": "MultinomialCPU",
         "marker": {
          "color": "#00cc96",
          "pattern": {
           "shape": ""
          }
         },
         "name": "MultinomialCPU",
         "offsetgroup": "MultinomialCPU",
         "orientation": "v",
         "showlegend": false,
         "textposition": "auto",
         "type": "bar",
         "x": [
          4,
          5,
          6,
          7,
          8,
          9
         ],
         "xaxis": "x5",
         "y": [
          0.15511274337768555,
          0.18510103225708008,
          0.2600669860839844,
          0.40561437606811523,
          0.7207226753234863,
          1.3286972045898438
         ],
         "yaxis": "y5"
        },
        {
         "alignmentgroup": "True",
         "hovertemplate": "Sampler Algo=MultinomialCPU<br>Batch Size=64.0<br>Number of Players (log2 scale)=%{x}<br>Runtime (ms/invocation)=%{y}<extra></extra>",
         "legendgroup": "MultinomialCPU",
         "marker": {
          "color": "#00cc96",
          "pattern": {
           "shape": ""
          }
         },
         "name": "MultinomialCPU",
         "offsetgroup": "MultinomialCPU",
         "orientation": "v",
         "showlegend": false,
         "textposition": "auto",
         "type": "bar",
         "x": [
          4,
          5,
          6,
          7,
          8,
          9
         ],
         "xaxis": "x6",
         "y": [
          0.20004034042358398,
          0.21552324295043945,
          0.3950929641723633,
          0.6423401832580566,
          1.2171459197998047,
          2.5454092025756836
         ],
         "yaxis": "y6"
        },
        {
         "alignmentgroup": "True",
         "hovertemplate": "Sampler Algo=MultinomialCPU<br>Batch Size=128.0<br>Number of Players (log2 scale)=%{x}<br>Runtime (ms/invocation)=%{y}<extra></extra>",
         "legendgroup": "MultinomialCPU",
         "marker": {
          "color": "#00cc96",
          "pattern": {
           "shape": ""
          }
         },
         "name": "MultinomialCPU",
         "offsetgroup": "MultinomialCPU",
         "orientation": "v",
         "showlegend": false,
         "textposition": "auto",
         "type": "bar",
         "x": [
          4,
          5,
          6,
          7,
          8,
          9
         ],
         "xaxis": "x",
         "y": [
          0.2100539207458496,
          0.36011219024658203,
          0.570523738861084,
          1.0802268981933594,
          2.3334217071533203,
          2.644636631011963
         ],
         "yaxis": "y"
        },
        {
         "alignmentgroup": "True",
         "hovertemplate": "Sampler Algo=MultinomialCPU<br>Batch Size=256.0<br>Number of Players (log2 scale)=%{x}<br>Runtime (ms/invocation)=%{y}<extra></extra>",
         "legendgroup": "MultinomialCPU",
         "marker": {
          "color": "#00cc96",
          "pattern": {
           "shape": ""
          }
         },
         "name": "MultinomialCPU",
         "offsetgroup": "MultinomialCPU",
         "orientation": "v",
         "showlegend": false,
         "textposition": "auto",
         "type": "bar",
         "x": [
          4,
          5,
          6,
          7,
          8,
          9
         ],
         "xaxis": "x2",
         "y": [
          0.32004356384277344,
          0.49033641815185547,
          1.0204768180847168,
          2.112400531768799,
          2.4583816528320312,
          3.20573091506958
         ],
         "yaxis": "y2"
        },
        {
         "alignmentgroup": "True",
         "hovertemplate": "Sampler Algo=ThreshCPU<br>Batch Size=16.0<br>Number of Players (log2 scale)=%{x}<br>Runtime (ms/invocation)=%{y}<extra></extra>",
         "legendgroup": "ThreshCPU",
         "marker": {
          "color": "#ab63fa",
          "pattern": {
           "shape": ""
          }
         },
         "name": "ThreshCPU",
         "offsetgroup": "ThreshCPU",
         "orientation": "v",
         "showlegend": true,
         "textposition": "auto",
         "type": "bar",
         "x": [
          4,
          5,
          6,
          7,
          8,
          9
         ],
         "xaxis": "x4",
         "y": [
          0.15555858612060547,
          0.16510009765625,
          0.1799941062927246,
          0.20598888397216797,
          0.22845029830932617,
          0.3530406951904297
         ],
         "yaxis": "y4"
        },
        {
         "alignmentgroup": "True",
         "hovertemplate": "Sampler Algo=ThreshCPU<br>Batch Size=32.0<br>Number of Players (log2 scale)=%{x}<br>Runtime (ms/invocation)=%{y}<extra></extra>",
         "legendgroup": "ThreshCPU",
         "marker": {
          "color": "#ab63fa",
          "pattern": {
           "shape": ""
          }
         },
         "name": "ThreshCPU",
         "offsetgroup": "ThreshCPU",
         "orientation": "v",
         "showlegend": false,
         "textposition": "auto",
         "type": "bar",
         "x": [
          4,
          5,
          6,
          7,
          8,
          9
         ],
         "xaxis": "x5",
         "y": [
          0.20020008087158203,
          0.1751112937927246,
          0.1999950408935547,
          0.2335047721862793,
          0.29886484146118164,
          0.40583372116088867
         ],
         "yaxis": "y5"
        },
        {
         "alignmentgroup": "True",
         "hovertemplate": "Sampler Algo=ThreshCPU<br>Batch Size=64.0<br>Number of Players (log2 scale)=%{x}<br>Runtime (ms/invocation)=%{y}<extra></extra>",
         "legendgroup": "ThreshCPU",
         "marker": {
          "color": "#ab63fa",
          "pattern": {
           "shape": ""
          }
         },
         "name": "ThreshCPU",
         "offsetgroup": "ThreshCPU",
         "orientation": "v",
         "showlegend": false,
         "textposition": "auto",
         "type": "bar",
         "x": [
          4,
          5,
          6,
          7,
          8,
          9
         ],
         "xaxis": "x6",
         "y": [
          0.19523382186889648,
          0.2051234245300293,
          0.23539066314697266,
          0.3004622459411621,
          0.4185795783996582,
          0.7008814811706543
         ],
         "yaxis": "y6"
        },
        {
         "alignmentgroup": "True",
         "hovertemplate": "Sampler Algo=ThreshCPU<br>Batch Size=128.0<br>Number of Players (log2 scale)=%{x}<br>Runtime (ms/invocation)=%{y}<extra></extra>",
         "legendgroup": "ThreshCPU",
         "marker": {
          "color": "#ab63fa",
          "pattern": {
           "shape": ""
          }
         },
         "name": "ThreshCPU",
         "offsetgroup": "ThreshCPU",
         "orientation": "v",
         "showlegend": false,
         "textposition": "auto",
         "type": "bar",
         "x": [
          4,
          5,
          6,
          7,
          8,
          9
         ],
         "xaxis": "x",
         "y": [
          0.2202129364013672,
          0.26570558547973633,
          0.2956962585449219,
          0.4256296157836914,
          0.658259391784668,
          0.9410381317138672
         ],
         "yaxis": "y"
        },
        {
         "alignmentgroup": "True",
         "hovertemplate": "Sampler Algo=ThreshCPU<br>Batch Size=256.0<br>Number of Players (log2 scale)=%{x}<br>Runtime (ms/invocation)=%{y}<extra></extra>",
         "legendgroup": "ThreshCPU",
         "marker": {
          "color": "#ab63fa",
          "pattern": {
           "shape": ""
          }
         },
         "name": "ThreshCPU",
         "offsetgroup": "ThreshCPU",
         "orientation": "v",
         "showlegend": false,
         "textposition": "auto",
         "type": "bar",
         "x": [
          4,
          5,
          6,
          7,
          8,
          9
         ],
         "xaxis": "x2",
         "y": [
          0.25133848190307617,
          0.3103160858154297,
          0.42968273162841797,
          0.668182373046875,
          0.9288406372070312,
          1.597917079925537
         ],
         "yaxis": "y2"
        },
        {
         "alignmentgroup": "True",
         "hovertemplate": "Sampler Algo=ArgSortGPU<br>Batch Size=16.0<br>Number of Players (log2 scale)=%{x}<br>Runtime (ms/invocation)=%{y}<extra></extra>",
         "legendgroup": "ArgSortGPU",
         "marker": {
          "color": "#FFA15A",
          "pattern": {
           "shape": ""
          }
         },
         "name": "ArgSortGPU",
         "offsetgroup": "ArgSortGPU",
         "orientation": "v",
         "showlegend": true,
         "textposition": "auto",
         "type": "bar",
         "x": [
          4,
          5,
          6,
          7,
          8,
          9
         ],
         "xaxis": "x4",
         "y": [
          0.8168554306030273,
          0.35430192947387695,
          0.37127256393432617,
          0.3702735900878906,
          0.6828665733337402,
          0.5548930168151855
         ],
         "yaxis": "y4"
        },
        {
         "alignmentgroup": "True",
         "hovertemplate": "Sampler Algo=ArgSortGPU<br>Batch Size=32.0<br>Number of Players (log2 scale)=%{x}<br>Runtime (ms/invocation)=%{y}<extra></extra>",
         "legendgroup": "ArgSortGPU",
         "marker": {
          "color": "#FFA15A",
          "pattern": {
           "shape": ""
          }
         },
         "name": "ArgSortGPU",
         "offsetgroup": "ArgSortGPU",
         "orientation": "v",
         "showlegend": false,
         "textposition": "auto",
         "type": "bar",
         "x": [
          4,
          5,
          6,
          7,
          8,
          9
         ],
         "xaxis": "x5",
         "y": [
          0.35788774490356445,
          0.37244081497192383,
          0.35524606704711914,
          0.37030935287475586,
          0.3554821014404297,
          0.35158872604370117
         ],
         "yaxis": "y5"
        },
        {
         "alignmentgroup": "True",
         "hovertemplate": "Sampler Algo=ArgSortGPU<br>Batch Size=64.0<br>Number of Players (log2 scale)=%{x}<br>Runtime (ms/invocation)=%{y}<extra></extra>",
         "legendgroup": "ArgSortGPU",
         "marker": {
          "color": "#FFA15A",
          "pattern": {
           "shape": ""
          }
         },
         "name": "ArgSortGPU",
         "offsetgroup": "ArgSortGPU",
         "orientation": "v",
         "showlegend": false,
         "textposition": "auto",
         "type": "bar",
         "x": [
          4,
          5,
          6,
          7,
          8,
          9
         ],
         "xaxis": "x6",
         "y": [
          0.39478540420532227,
          0.37067174911499023,
          0.3576064109802246,
          0.368502140045166,
          0.3603243827819824,
          0.3570866584777832
         ],
         "yaxis": "y6"
        },
        {
         "alignmentgroup": "True",
         "hovertemplate": "Sampler Algo=ArgSortGPU<br>Batch Size=128.0<br>Number of Players (log2 scale)=%{x}<br>Runtime (ms/invocation)=%{y}<extra></extra>",
         "legendgroup": "ArgSortGPU",
         "marker": {
          "color": "#FFA15A",
          "pattern": {
           "shape": ""
          }
         },
         "name": "ArgSortGPU",
         "offsetgroup": "ArgSortGPU",
         "orientation": "v",
         "showlegend": false,
         "textposition": "auto",
         "type": "bar",
         "x": [
          4,
          5,
          6,
          7,
          8,
          9
         ],
         "xaxis": "x",
         "y": [
          0.36524057388305664,
          0.3664541244506836,
          0.40011167526245117,
          0.35808563232421875,
          0.34525156021118164,
          0.3787040710449219
         ],
         "yaxis": "y"
        },
        {
         "alignmentgroup": "True",
         "hovertemplate": "Sampler Algo=ArgSortGPU<br>Batch Size=256.0<br>Number of Players (log2 scale)=%{x}<br>Runtime (ms/invocation)=%{y}<extra></extra>",
         "legendgroup": "ArgSortGPU",
         "marker": {
          "color": "#FFA15A",
          "pattern": {
           "shape": ""
          }
         },
         "name": "ArgSortGPU",
         "offsetgroup": "ArgSortGPU",
         "orientation": "v",
         "showlegend": false,
         "textposition": "auto",
         "type": "bar",
         "x": [
          4,
          5,
          6,
          7,
          8,
          9
         ],
         "xaxis": "x2",
         "y": [
          0.33602237701416016,
          0.4521656036376953,
          0.37447452545166016,
          0.3994178771972656,
          0.3445267677307129,
          0.3525686264038086
         ],
         "yaxis": "y2"
        },
        {
         "alignmentgroup": "True",
         "hovertemplate": "Sampler Algo=MultinomialGPU<br>Batch Size=16.0<br>Number of Players (log2 scale)=%{x}<br>Runtime (ms/invocation)=%{y}<extra></extra>",
         "legendgroup": "MultinomialGPU",
         "marker": {
          "color": "#19d3f3",
          "pattern": {
           "shape": ""
          }
         },
         "name": "MultinomialGPU",
         "offsetgroup": "MultinomialGPU",
         "orientation": "v",
         "showlegend": true,
         "textposition": "auto",
         "type": "bar",
         "x": [
          4,
          5,
          6,
          7,
          8,
          9
         ],
         "xaxis": "x4",
         "y": [
          0.9012484550476074,
          0.6257104873657227,
          0.6582927703857422,
          0.6005191802978516,
          0.6604266166687012,
          0.7115864753723145
         ],
         "yaxis": "y4"
        },
        {
         "alignmentgroup": "True",
         "hovertemplate": "Sampler Algo=MultinomialGPU<br>Batch Size=32.0<br>Number of Players (log2 scale)=%{x}<br>Runtime (ms/invocation)=%{y}<extra></extra>",
         "legendgroup": "MultinomialGPU",
         "marker": {
          "color": "#19d3f3",
          "pattern": {
           "shape": ""
          }
         },
         "name": "MultinomialGPU",
         "offsetgroup": "MultinomialGPU",
         "orientation": "v",
         "showlegend": false,
         "textposition": "auto",
         "type": "bar",
         "x": [
          4,
          5,
          6,
          7,
          8,
          9
         ],
         "xaxis": "x5",
         "y": [
          0.6351947784423828,
          0.6534123420715332,
          0.790252685546875,
          0.6165194511413574,
          0.8491253852844238,
          0.6299281120300293
         ],
         "yaxis": "y5"
        },
        {
         "alignmentgroup": "True",
         "hovertemplate": "Sampler Algo=MultinomialGPU<br>Batch Size=64.0<br>Number of Players (log2 scale)=%{x}<br>Runtime (ms/invocation)=%{y}<extra></extra>",
         "legendgroup": "MultinomialGPU",
         "marker": {
          "color": "#19d3f3",
          "pattern": {
           "shape": ""
          }
         },
         "name": "MultinomialGPU",
         "offsetgroup": "MultinomialGPU",
         "orientation": "v",
         "showlegend": false,
         "textposition": "auto",
         "type": "bar",
         "x": [
          4,
          5,
          6,
          7,
          8,
          9
         ],
         "xaxis": "x6",
         "y": [
          0.7037782669067383,
          0.6116342544555664,
          0.7951045036315918,
          0.9303855895996094,
          0.7027387619018555,
          0.6560182571411133
         ],
         "yaxis": "y6"
        },
        {
         "alignmentgroup": "True",
         "hovertemplate": "Sampler Algo=MultinomialGPU<br>Batch Size=128.0<br>Number of Players (log2 scale)=%{x}<br>Runtime (ms/invocation)=%{y}<extra></extra>",
         "legendgroup": "MultinomialGPU",
         "marker": {
          "color": "#19d3f3",
          "pattern": {
           "shape": ""
          }
         },
         "name": "MultinomialGPU",
         "offsetgroup": "MultinomialGPU",
         "orientation": "v",
         "showlegend": false,
         "textposition": "auto",
         "type": "bar",
         "x": [
          4,
          5,
          6,
          7,
          8,
          9
         ],
         "xaxis": "x",
         "y": [
          0.6255340576171875,
          0.6207680702209473,
          0.6558561325073242,
          0.642402172088623,
          0.6699323654174805,
          0.7367634773254395
         ],
         "yaxis": "y"
        },
        {
         "alignmentgroup": "True",
         "hovertemplate": "Sampler Algo=MultinomialGPU<br>Batch Size=256.0<br>Number of Players (log2 scale)=%{x}<br>Runtime (ms/invocation)=%{y}<extra></extra>",
         "legendgroup": "MultinomialGPU",
         "marker": {
          "color": "#19d3f3",
          "pattern": {
           "shape": ""
          }
         },
         "name": "MultinomialGPU",
         "offsetgroup": "MultinomialGPU",
         "orientation": "v",
         "showlegend": false,
         "textposition": "auto",
         "type": "bar",
         "x": [
          4,
          5,
          6,
          7,
          8,
          9
         ],
         "xaxis": "x2",
         "y": [
          0.6725215911865234,
          0.6602287292480469,
          0.6504297256469727,
          0.6578826904296875,
          0.7163405418395996,
          0.8121943473815918
         ],
         "yaxis": "y2"
        },
        {
         "alignmentgroup": "True",
         "hovertemplate": "Sampler Algo=ThreshGPU<br>Batch Size=16.0<br>Number of Players (log2 scale)=%{x}<br>Runtime (ms/invocation)=%{y}<extra></extra>",
         "legendgroup": "ThreshGPU",
         "marker": {
          "color": "#FF6692",
          "pattern": {
           "shape": ""
          }
         },
         "name": "ThreshGPU",
         "offsetgroup": "ThreshGPU",
         "orientation": "v",
         "showlegend": true,
         "textposition": "auto",
         "type": "bar",
         "x": [
          4,
          5,
          6,
          7,
          8,
          9
         ],
         "xaxis": "x4",
         "y": [
          0.7307744026184082,
          0.5658078193664551,
          0.5702733993530273,
          0.591130256652832,
          0.593869686126709,
          0.6609797477722168
         ],
         "yaxis": "y4"
        },
        {
         "alignmentgroup": "True",
         "hovertemplate": "Sampler Algo=ThreshGPU<br>Batch Size=32.0<br>Number of Players (log2 scale)=%{x}<br>Runtime (ms/invocation)=%{y}<extra></extra>",
         "legendgroup": "ThreshGPU",
         "marker": {
          "color": "#FF6692",
          "pattern": {
           "shape": ""
          }
         },
         "name": "ThreshGPU",
         "offsetgroup": "ThreshGPU",
         "orientation": "v",
         "showlegend": false,
         "textposition": "auto",
         "type": "bar",
         "x": [
          4,
          5,
          6,
          7,
          8,
          9
         ],
         "xaxis": "x5",
         "y": [
          0.6290578842163086,
          0.6108760833740234,
          0.5851340293884277,
          0.6004071235656738,
          0.6239867210388184,
          0.7353901863098145
         ],
         "yaxis": "y5"
        },
        {
         "alignmentgroup": "True",
         "hovertemplate": "Sampler Algo=ThreshGPU<br>Batch Size=64.0<br>Number of Players (log2 scale)=%{x}<br>Runtime (ms/invocation)=%{y}<extra></extra>",
         "legendgroup": "ThreshGPU",
         "marker": {
          "color": "#FF6692",
          "pattern": {
           "shape": ""
          }
         },
         "name": "ThreshGPU",
         "offsetgroup": "ThreshGPU",
         "orientation": "v",
         "showlegend": false,
         "textposition": "auto",
         "type": "bar",
         "x": [
          4,
          5,
          6,
          7,
          8,
          9
         ],
         "xaxis": "x6",
         "y": [
          0.5973911285400391,
          0.5913782119750977,
          0.5902504920959473,
          0.6201887130737305,
          0.6691765785217285,
          0.881955623626709
         ],
         "yaxis": "y6"
        },
        {
         "alignmentgroup": "True",
         "hovertemplate": "Sampler Algo=ThreshGPU<br>Batch Size=128.0<br>Number of Players (log2 scale)=%{x}<br>Runtime (ms/invocation)=%{y}<extra></extra>",
         "legendgroup": "ThreshGPU",
         "marker": {
          "color": "#FF6692",
          "pattern": {
           "shape": ""
          }
         },
         "name": "ThreshGPU",
         "offsetgroup": "ThreshGPU",
         "orientation": "v",
         "showlegend": false,
         "textposition": "auto",
         "type": "bar",
         "x": [
          4,
          5,
          6,
          7,
          8,
          9
         ],
         "xaxis": "x",
         "y": [
          0.5912685394287109,
          0.5998420715332031,
          0.6262564659118652,
          0.671083927154541,
          0.7859230041503906,
          1.1862540245056152
         ],
         "yaxis": "y"
        },
        {
         "alignmentgroup": "True",
         "hovertemplate": "Sampler Algo=ThreshGPU<br>Batch Size=256.0<br>Number of Players (log2 scale)=%{x}<br>Runtime (ms/invocation)=%{y}<extra></extra>",
         "legendgroup": "ThreshGPU",
         "marker": {
          "color": "#FF6692",
          "pattern": {
           "shape": ""
          }
         },
         "name": "ThreshGPU",
         "offsetgroup": "ThreshGPU",
         "orientation": "v",
         "showlegend": false,
         "textposition": "auto",
         "type": "bar",
         "x": [
          4,
          5,
          6,
          7,
          8,
          9
         ],
         "xaxis": "x2",
         "y": [
          0.6219196319580078,
          0.6340670585632324,
          0.6720352172851562,
          0.781252384185791,
          1.1122584342956543,
          1.532742977142334
         ],
         "yaxis": "y2"
        }
       ],
       "layout": {
        "annotations": [
         {
          "font": {},
          "showarrow": false,
          "text": "Batch Size=128.0",
          "x": 0.15999999999999998,
          "xanchor": "center",
          "xref": "paper",
          "y": 0.46499999999999997,
          "yanchor": "bottom",
          "yref": "paper"
         },
         {
          "font": {},
          "showarrow": false,
          "text": "Batch Size=256.0",
          "x": 0.49999999999999994,
          "xanchor": "center",
          "xref": "paper",
          "y": 0.46499999999999997,
          "yanchor": "bottom",
          "yref": "paper"
         },
         {
          "font": {},
          "showarrow": false,
          "text": "Batch Size=16.0",
          "x": 0.15999999999999998,
          "xanchor": "center",
          "xref": "paper",
          "y": 0.9999999999999999,
          "yanchor": "bottom",
          "yref": "paper"
         },
         {
          "font": {},
          "showarrow": false,
          "text": "Batch Size=32.0",
          "x": 0.49999999999999994,
          "xanchor": "center",
          "xref": "paper",
          "y": 0.9999999999999999,
          "yanchor": "bottom",
          "yref": "paper"
         },
         {
          "font": {},
          "showarrow": false,
          "text": "Batch Size=64.0",
          "x": 0.8399999999999999,
          "xanchor": "center",
          "xref": "paper",
          "y": 0.9999999999999999,
          "yanchor": "bottom",
          "yref": "paper"
         }
        ],
        "barmode": "group",
        "height": 800,
        "legend": {
         "title": {
          "text": "Sampler Algo"
         },
         "tracegroupgap": 0
        },
        "margin": {
         "t": 60
        },
        "template": {
         "data": {
          "bar": [
           {
            "error_x": {
             "color": "#2a3f5f"
            },
            "error_y": {
             "color": "#2a3f5f"
            },
            "marker": {
             "line": {
              "color": "#E5ECF6",
              "width": 0.5
             },
             "pattern": {
              "fillmode": "overlay",
              "size": 10,
              "solidity": 0.2
             }
            },
            "type": "bar"
           }
          ],
          "barpolar": [
           {
            "marker": {
             "line": {
              "color": "#E5ECF6",
              "width": 0.5
             },
             "pattern": {
              "fillmode": "overlay",
              "size": 10,
              "solidity": 0.2
             }
            },
            "type": "barpolar"
           }
          ],
          "carpet": [
           {
            "aaxis": {
             "endlinecolor": "#2a3f5f",
             "gridcolor": "white",
             "linecolor": "white",
             "minorgridcolor": "white",
             "startlinecolor": "#2a3f5f"
            },
            "baxis": {
             "endlinecolor": "#2a3f5f",
             "gridcolor": "white",
             "linecolor": "white",
             "minorgridcolor": "white",
             "startlinecolor": "#2a3f5f"
            },
            "type": "carpet"
           }
          ],
          "choropleth": [
           {
            "colorbar": {
             "outlinewidth": 0,
             "ticks": ""
            },
            "type": "choropleth"
           }
          ],
          "contour": [
           {
            "colorbar": {
             "outlinewidth": 0,
             "ticks": ""
            },
            "colorscale": [
             [
              0,
              "#0d0887"
             ],
             [
              0.1111111111111111,
              "#46039f"
             ],
             [
              0.2222222222222222,
              "#7201a8"
             ],
             [
              0.3333333333333333,
              "#9c179e"
             ],
             [
              0.4444444444444444,
              "#bd3786"
             ],
             [
              0.5555555555555556,
              "#d8576b"
             ],
             [
              0.6666666666666666,
              "#ed7953"
             ],
             [
              0.7777777777777778,
              "#fb9f3a"
             ],
             [
              0.8888888888888888,
              "#fdca26"
             ],
             [
              1,
              "#f0f921"
             ]
            ],
            "type": "contour"
           }
          ],
          "contourcarpet": [
           {
            "colorbar": {
             "outlinewidth": 0,
             "ticks": ""
            },
            "type": "contourcarpet"
           }
          ],
          "heatmap": [
           {
            "colorbar": {
             "outlinewidth": 0,
             "ticks": ""
            },
            "colorscale": [
             [
              0,
              "#0d0887"
             ],
             [
              0.1111111111111111,
              "#46039f"
             ],
             [
              0.2222222222222222,
              "#7201a8"
             ],
             [
              0.3333333333333333,
              "#9c179e"
             ],
             [
              0.4444444444444444,
              "#bd3786"
             ],
             [
              0.5555555555555556,
              "#d8576b"
             ],
             [
              0.6666666666666666,
              "#ed7953"
             ],
             [
              0.7777777777777778,
              "#fb9f3a"
             ],
             [
              0.8888888888888888,
              "#fdca26"
             ],
             [
              1,
              "#f0f921"
             ]
            ],
            "type": "heatmap"
           }
          ],
          "heatmapgl": [
           {
            "colorbar": {
             "outlinewidth": 0,
             "ticks": ""
            },
            "colorscale": [
             [
              0,
              "#0d0887"
             ],
             [
              0.1111111111111111,
              "#46039f"
             ],
             [
              0.2222222222222222,
              "#7201a8"
             ],
             [
              0.3333333333333333,
              "#9c179e"
             ],
             [
              0.4444444444444444,
              "#bd3786"
             ],
             [
              0.5555555555555556,
              "#d8576b"
             ],
             [
              0.6666666666666666,
              "#ed7953"
             ],
             [
              0.7777777777777778,
              "#fb9f3a"
             ],
             [
              0.8888888888888888,
              "#fdca26"
             ],
             [
              1,
              "#f0f921"
             ]
            ],
            "type": "heatmapgl"
           }
          ],
          "histogram": [
           {
            "marker": {
             "pattern": {
              "fillmode": "overlay",
              "size": 10,
              "solidity": 0.2
             }
            },
            "type": "histogram"
           }
          ],
          "histogram2d": [
           {
            "colorbar": {
             "outlinewidth": 0,
             "ticks": ""
            },
            "colorscale": [
             [
              0,
              "#0d0887"
             ],
             [
              0.1111111111111111,
              "#46039f"
             ],
             [
              0.2222222222222222,
              "#7201a8"
             ],
             [
              0.3333333333333333,
              "#9c179e"
             ],
             [
              0.4444444444444444,
              "#bd3786"
             ],
             [
              0.5555555555555556,
              "#d8576b"
             ],
             [
              0.6666666666666666,
              "#ed7953"
             ],
             [
              0.7777777777777778,
              "#fb9f3a"
             ],
             [
              0.8888888888888888,
              "#fdca26"
             ],
             [
              1,
              "#f0f921"
             ]
            ],
            "type": "histogram2d"
           }
          ],
          "histogram2dcontour": [
           {
            "colorbar": {
             "outlinewidth": 0,
             "ticks": ""
            },
            "colorscale": [
             [
              0,
              "#0d0887"
             ],
             [
              0.1111111111111111,
              "#46039f"
             ],
             [
              0.2222222222222222,
              "#7201a8"
             ],
             [
              0.3333333333333333,
              "#9c179e"
             ],
             [
              0.4444444444444444,
              "#bd3786"
             ],
             [
              0.5555555555555556,
              "#d8576b"
             ],
             [
              0.6666666666666666,
              "#ed7953"
             ],
             [
              0.7777777777777778,
              "#fb9f3a"
             ],
             [
              0.8888888888888888,
              "#fdca26"
             ],
             [
              1,
              "#f0f921"
             ]
            ],
            "type": "histogram2dcontour"
           }
          ],
          "mesh3d": [
           {
            "colorbar": {
             "outlinewidth": 0,
             "ticks": ""
            },
            "type": "mesh3d"
           }
          ],
          "parcoords": [
           {
            "line": {
             "colorbar": {
              "outlinewidth": 0,
              "ticks": ""
             }
            },
            "type": "parcoords"
           }
          ],
          "pie": [
           {
            "automargin": true,
            "type": "pie"
           }
          ],
          "scatter": [
           {
            "fillpattern": {
             "fillmode": "overlay",
             "size": 10,
             "solidity": 0.2
            },
            "type": "scatter"
           }
          ],
          "scatter3d": [
           {
            "line": {
             "colorbar": {
              "outlinewidth": 0,
              "ticks": ""
             }
            },
            "marker": {
             "colorbar": {
              "outlinewidth": 0,
              "ticks": ""
             }
            },
            "type": "scatter3d"
           }
          ],
          "scattercarpet": [
           {
            "marker": {
             "colorbar": {
              "outlinewidth": 0,
              "ticks": ""
             }
            },
            "type": "scattercarpet"
           }
          ],
          "scattergeo": [
           {
            "marker": {
             "colorbar": {
              "outlinewidth": 0,
              "ticks": ""
             }
            },
            "type": "scattergeo"
           }
          ],
          "scattergl": [
           {
            "marker": {
             "colorbar": {
              "outlinewidth": 0,
              "ticks": ""
             }
            },
            "type": "scattergl"
           }
          ],
          "scattermapbox": [
           {
            "marker": {
             "colorbar": {
              "outlinewidth": 0,
              "ticks": ""
             }
            },
            "type": "scattermapbox"
           }
          ],
          "scatterpolar": [
           {
            "marker": {
             "colorbar": {
              "outlinewidth": 0,
              "ticks": ""
             }
            },
            "type": "scatterpolar"
           }
          ],
          "scatterpolargl": [
           {
            "marker": {
             "colorbar": {
              "outlinewidth": 0,
              "ticks": ""
             }
            },
            "type": "scatterpolargl"
           }
          ],
          "scatterternary": [
           {
            "marker": {
             "colorbar": {
              "outlinewidth": 0,
              "ticks": ""
             }
            },
            "type": "scatterternary"
           }
          ],
          "surface": [
           {
            "colorbar": {
             "outlinewidth": 0,
             "ticks": ""
            },
            "colorscale": [
             [
              0,
              "#0d0887"
             ],
             [
              0.1111111111111111,
              "#46039f"
             ],
             [
              0.2222222222222222,
              "#7201a8"
             ],
             [
              0.3333333333333333,
              "#9c179e"
             ],
             [
              0.4444444444444444,
              "#bd3786"
             ],
             [
              0.5555555555555556,
              "#d8576b"
             ],
             [
              0.6666666666666666,
              "#ed7953"
             ],
             [
              0.7777777777777778,
              "#fb9f3a"
             ],
             [
              0.8888888888888888,
              "#fdca26"
             ],
             [
              1,
              "#f0f921"
             ]
            ],
            "type": "surface"
           }
          ],
          "table": [
           {
            "cells": {
             "fill": {
              "color": "#EBF0F8"
             },
             "line": {
              "color": "white"
             }
            },
            "header": {
             "fill": {
              "color": "#C8D4E3"
             },
             "line": {
              "color": "white"
             }
            },
            "type": "table"
           }
          ]
         },
         "layout": {
          "annotationdefaults": {
           "arrowcolor": "#2a3f5f",
           "arrowhead": 0,
           "arrowwidth": 1
          },
          "autotypenumbers": "strict",
          "coloraxis": {
           "colorbar": {
            "outlinewidth": 0,
            "ticks": ""
           }
          },
          "colorscale": {
           "diverging": [
            [
             0,
             "#8e0152"
            ],
            [
             0.1,
             "#c51b7d"
            ],
            [
             0.2,
             "#de77ae"
            ],
            [
             0.3,
             "#f1b6da"
            ],
            [
             0.4,
             "#fde0ef"
            ],
            [
             0.5,
             "#f7f7f7"
            ],
            [
             0.6,
             "#e6f5d0"
            ],
            [
             0.7,
             "#b8e186"
            ],
            [
             0.8,
             "#7fbc41"
            ],
            [
             0.9,
             "#4d9221"
            ],
            [
             1,
             "#276419"
            ]
           ],
           "sequential": [
            [
             0,
             "#0d0887"
            ],
            [
             0.1111111111111111,
             "#46039f"
            ],
            [
             0.2222222222222222,
             "#7201a8"
            ],
            [
             0.3333333333333333,
             "#9c179e"
            ],
            [
             0.4444444444444444,
             "#bd3786"
            ],
            [
             0.5555555555555556,
             "#d8576b"
            ],
            [
             0.6666666666666666,
             "#ed7953"
            ],
            [
             0.7777777777777778,
             "#fb9f3a"
            ],
            [
             0.8888888888888888,
             "#fdca26"
            ],
            [
             1,
             "#f0f921"
            ]
           ],
           "sequentialminus": [
            [
             0,
             "#0d0887"
            ],
            [
             0.1111111111111111,
             "#46039f"
            ],
            [
             0.2222222222222222,
             "#7201a8"
            ],
            [
             0.3333333333333333,
             "#9c179e"
            ],
            [
             0.4444444444444444,
             "#bd3786"
            ],
            [
             0.5555555555555556,
             "#d8576b"
            ],
            [
             0.6666666666666666,
             "#ed7953"
            ],
            [
             0.7777777777777778,
             "#fb9f3a"
            ],
            [
             0.8888888888888888,
             "#fdca26"
            ],
            [
             1,
             "#f0f921"
            ]
           ]
          },
          "colorway": [
           "#636efa",
           "#EF553B",
           "#00cc96",
           "#ab63fa",
           "#FFA15A",
           "#19d3f3",
           "#FF6692",
           "#B6E880",
           "#FF97FF",
           "#FECB52"
          ],
          "font": {
           "color": "#2a3f5f"
          },
          "geo": {
           "bgcolor": "white",
           "lakecolor": "white",
           "landcolor": "#E5ECF6",
           "showlakes": true,
           "showland": true,
           "subunitcolor": "white"
          },
          "hoverlabel": {
           "align": "left"
          },
          "hovermode": "closest",
          "mapbox": {
           "style": "light"
          },
          "paper_bgcolor": "white",
          "plot_bgcolor": "#E5ECF6",
          "polar": {
           "angularaxis": {
            "gridcolor": "white",
            "linecolor": "white",
            "ticks": ""
           },
           "bgcolor": "#E5ECF6",
           "radialaxis": {
            "gridcolor": "white",
            "linecolor": "white",
            "ticks": ""
           }
          },
          "scene": {
           "xaxis": {
            "backgroundcolor": "#E5ECF6",
            "gridcolor": "white",
            "gridwidth": 2,
            "linecolor": "white",
            "showbackground": true,
            "ticks": "",
            "zerolinecolor": "white"
           },
           "yaxis": {
            "backgroundcolor": "#E5ECF6",
            "gridcolor": "white",
            "gridwidth": 2,
            "linecolor": "white",
            "showbackground": true,
            "ticks": "",
            "zerolinecolor": "white"
           },
           "zaxis": {
            "backgroundcolor": "#E5ECF6",
            "gridcolor": "white",
            "gridwidth": 2,
            "linecolor": "white",
            "showbackground": true,
            "ticks": "",
            "zerolinecolor": "white"
           }
          },
          "shapedefaults": {
           "line": {
            "color": "#2a3f5f"
           }
          },
          "ternary": {
           "aaxis": {
            "gridcolor": "white",
            "linecolor": "white",
            "ticks": ""
           },
           "baxis": {
            "gridcolor": "white",
            "linecolor": "white",
            "ticks": ""
           },
           "bgcolor": "#E5ECF6",
           "caxis": {
            "gridcolor": "white",
            "linecolor": "white",
            "ticks": ""
           }
          },
          "title": {
           "x": 0.05
          },
          "xaxis": {
           "automargin": true,
           "gridcolor": "white",
           "linecolor": "white",
           "ticks": "",
           "title": {
            "standoff": 15
           },
           "zerolinecolor": "white",
           "zerolinewidth": 2
          },
          "yaxis": {
           "automargin": true,
           "gridcolor": "white",
           "linecolor": "white",
           "ticks": "",
           "title": {
            "standoff": 15
           },
           "zerolinecolor": "white",
           "zerolinewidth": 2
          }
         }
        },
        "xaxis": {
         "anchor": "y",
         "domain": [
          0,
          0.31999999999999995
         ],
         "title": {
          "text": "Number of Players (log2 scale)"
         }
        },
        "xaxis2": {
         "anchor": "y2",
         "domain": [
          0.33999999999999997,
          0.6599999999999999
         ],
         "matches": "x",
         "title": {
          "text": "Number of Players (log2 scale)"
         }
        },
        "xaxis3": {
         "anchor": "y3",
         "domain": [
          0.6799999999999999,
          0.9999999999999999
         ],
         "matches": "x",
         "title": {
          "text": "Number of Players (log2 scale)"
         }
        },
        "xaxis4": {
         "anchor": "y4",
         "domain": [
          0,
          0.31999999999999995
         ],
         "matches": "x",
         "showticklabels": false
        },
        "xaxis5": {
         "anchor": "y5",
         "domain": [
          0.33999999999999997,
          0.6599999999999999
         ],
         "matches": "x",
         "showticklabels": false
        },
        "xaxis6": {
         "anchor": "y6",
         "domain": [
          0.6799999999999999,
          0.9999999999999999
         ],
         "matches": "x",
         "showticklabels": false
        },
        "yaxis": {
         "anchor": "x",
         "domain": [
          0,
          0.46499999999999997
         ],
         "title": {
          "text": "Runtime (ms/invocation)"
         }
        },
        "yaxis2": {
         "anchor": "x2",
         "domain": [
          0,
          0.46499999999999997
         ],
         "matches": "y",
         "showticklabels": false
        },
        "yaxis3": {
         "anchor": "x3",
         "domain": [
          0,
          0.46499999999999997
         ],
         "matches": "y",
         "showticklabels": false
        },
        "yaxis4": {
         "anchor": "x4",
         "domain": [
          0.5349999999999999,
          0.9999999999999999
         ],
         "matches": "y",
         "title": {
          "text": "Runtime (ms/invocation)"
         }
        },
        "yaxis5": {
         "anchor": "x5",
         "domain": [
          0.5349999999999999,
          0.9999999999999999
         ],
         "matches": "y",
         "showticklabels": false
        },
        "yaxis6": {
         "anchor": "x6",
         "domain": [
          0.5349999999999999,
          0.9999999999999999
         ],
         "matches": "y",
         "showticklabels": false
        }
       }
      }
     },
     "metadata": {},
     "output_type": "display_data"
    }
   ],
   "source": [
    "px.bar(\n",
    "    results,\n",
    "    x=\"Number of Players (log2 scale)\",\n",
    "    y=\"Runtime (ms/invocation)\",\n",
    "    color=\"Sampler Algo\",\n",
    "    facet_col=\"Batch Size\",\n",
    "    facet_col_wrap=3,\n",
    "    barmode=\"group\",\n",
    "    height=800,\n",
    ")"
   ]
  }
 ],
 "metadata": {
  "kernelspec": {
   "display_name": "introba",
   "language": "python",
   "name": "python3"
  },
  "language_info": {
   "codemirror_mode": {
    "name": "ipython",
    "version": 3
   },
   "file_extension": ".py",
   "mimetype": "text/x-python",
   "name": "python",
   "nbconvert_exporter": "python",
   "pygments_lexer": "ipython3",
   "version": "3.9.16"
  },
  "orig_nbformat": 4
 },
 "nbformat": 4,
 "nbformat_minor": 2
}
